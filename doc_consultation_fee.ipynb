{
 "cells": [
  {
   "cell_type": "markdown",
   "metadata": {},
   "source": [
    "# Doctor's Consultation Fees Project"
   ]
  },
  {
   "cell_type": "markdown",
   "metadata": {},
   "source": [
    "### Data description"
   ]
  },
  {
   "cell_type": "markdown",
   "metadata": {},
   "source": [
    "We have all been in situation where we go to a doctor in emergency and find that the consultation fees are too high. As a data scientist we all should do better. Here we have a dataset which contains data that records important details about a doctor. The features that is contains are:\n",
    "\n",
    "Qualification: Qualification and degrees held by the doctor\n",
    "Experience: Experience of the doctor in number of years\n",
    "Rating: Rating given by patients\n",
    "Profile: Type of the doctor\n",
    "Miscellaneous_Info: Extra information about the doctor\n",
    "Fees: Fees charged by the doctor (Target Variable)\n",
    "Place: Area and the city where the doctor is located.\n",
    "\n",
    "Our job with the dataset is to build a model that predicts the doctor’s consulting fee.\n",
    "\n",
    "We have to datasets: one for the training and building the model, and the other for the prediction with the built model."
   ]
  },
  {
   "cell_type": "markdown",
   "metadata": {},
   "source": [
    "## Importing libraries"
   ]
  },
  {
   "cell_type": "code",
   "execution_count": 559,
   "metadata": {},
   "outputs": [],
   "source": [
    "import numpy as np\n",
    "import pandas as pd\n",
    "import matplotlib.pyplot as plt\n",
    "import seaborn as sns\n",
    "from sklearn.model_selection import train_test_split\n",
    "from sklearn.linear_model import LinearRegression\n",
    "from sklearn.metrics import r2_score\n",
    "from sklearn.metrics import mean_squared_error, mean_absolute_error\n",
    "import warnings\n",
    "warnings.filterwarnings('ignore')"
   ]
  },
  {
   "cell_type": "markdown",
   "metadata": {},
   "source": [
    "## Loading the datasets"
   ]
  },
  {
   "cell_type": "code",
   "execution_count": 560,
   "metadata": {},
   "outputs": [
    {
     "data": {
      "text/html": [
       "<div>\n",
       "<style scoped>\n",
       "    .dataframe tbody tr th:only-of-type {\n",
       "        vertical-align: middle;\n",
       "    }\n",
       "\n",
       "    .dataframe tbody tr th {\n",
       "        vertical-align: top;\n",
       "    }\n",
       "\n",
       "    .dataframe thead th {\n",
       "        text-align: right;\n",
       "    }\n",
       "</style>\n",
       "<table border=\"1\" class=\"dataframe\">\n",
       "  <thead>\n",
       "    <tr style=\"text-align: right;\">\n",
       "      <th></th>\n",
       "      <th>Qualification</th>\n",
       "      <th>Experience</th>\n",
       "      <th>Rating</th>\n",
       "      <th>Place</th>\n",
       "      <th>Profile</th>\n",
       "      <th>Miscellaneous_Info</th>\n",
       "    </tr>\n",
       "  </thead>\n",
       "  <tbody>\n",
       "    <tr>\n",
       "      <th>0</th>\n",
       "      <td>MBBS</td>\n",
       "      <td>35 years experience</td>\n",
       "      <td>NaN</td>\n",
       "      <td>Ghatkopar East, Mumbai</td>\n",
       "      <td>General Medicine</td>\n",
       "      <td>NaN</td>\n",
       "    </tr>\n",
       "    <tr>\n",
       "      <th>1</th>\n",
       "      <td>MBBS, Diploma in Otorhinolaryngology (DLO)</td>\n",
       "      <td>31 years experience</td>\n",
       "      <td>NaN</td>\n",
       "      <td>West Marredpally, Hyderabad</td>\n",
       "      <td>ENT Specialist</td>\n",
       "      <td>NaN</td>\n",
       "    </tr>\n",
       "    <tr>\n",
       "      <th>2</th>\n",
       "      <td>MBBS, DDVL</td>\n",
       "      <td>40 years experience</td>\n",
       "      <td>70%</td>\n",
       "      <td>KK Nagar, Chennai</td>\n",
       "      <td>Dermatologists</td>\n",
       "      <td>70% 4 Feedback KK Nagar, Chennai</td>\n",
       "    </tr>\n",
       "    <tr>\n",
       "      <th>3</th>\n",
       "      <td>BAMS</td>\n",
       "      <td>0 years experience</td>\n",
       "      <td>NaN</td>\n",
       "      <td>New Ashok Nagar, Delhi</td>\n",
       "      <td>Ayurveda</td>\n",
       "      <td>NaN</td>\n",
       "    </tr>\n",
       "    <tr>\n",
       "      <th>4</th>\n",
       "      <td>BDS, MDS - Conservative Dentistry &amp; Endodontics</td>\n",
       "      <td>16 years experience</td>\n",
       "      <td>100%</td>\n",
       "      <td>Kanakpura Road, Bangalore</td>\n",
       "      <td>Dentist</td>\n",
       "      <td>General Dentistry Conservative Dentistry Cosme...</td>\n",
       "    </tr>\n",
       "    <tr>\n",
       "      <th>...</th>\n",
       "      <td>...</td>\n",
       "      <td>...</td>\n",
       "      <td>...</td>\n",
       "      <td>...</td>\n",
       "      <td>...</td>\n",
       "      <td>...</td>\n",
       "    </tr>\n",
       "    <tr>\n",
       "      <th>1982</th>\n",
       "      <td>BAMS, Doctor of Medicine</td>\n",
       "      <td>10 years experience</td>\n",
       "      <td>NaN</td>\n",
       "      <td>Basavanagudi, Bangalore</td>\n",
       "      <td>Ayurveda</td>\n",
       "      <td>NaN</td>\n",
       "    </tr>\n",
       "    <tr>\n",
       "      <th>1983</th>\n",
       "      <td>MD - Dermatology , Venereology &amp; Leprosy, MBBS</td>\n",
       "      <td>4 years experience</td>\n",
       "      <td>NaN</td>\n",
       "      <td>Choolai, Chennai</td>\n",
       "      <td>Dermatologists</td>\n",
       "      <td>NaN</td>\n",
       "    </tr>\n",
       "    <tr>\n",
       "      <th>1984</th>\n",
       "      <td>MBBS, MD / MS - Obstetrics &amp; Gynaecology</td>\n",
       "      <td>9 years experience</td>\n",
       "      <td>NaN</td>\n",
       "      <td>Porur, Chennai</td>\n",
       "      <td>General Medicine</td>\n",
       "      <td>NaN</td>\n",
       "    </tr>\n",
       "    <tr>\n",
       "      <th>1985</th>\n",
       "      <td>BDS</td>\n",
       "      <td>12 years experience</td>\n",
       "      <td>98%</td>\n",
       "      <td>Arekere, Bangalore</td>\n",
       "      <td>Dentist</td>\n",
       "      <td>RCT - Root Canal Treatment Root Canal Treatmen...</td>\n",
       "    </tr>\n",
       "    <tr>\n",
       "      <th>1986</th>\n",
       "      <td>MBBS, MD - Dermatology , Venereology &amp; Leprosy</td>\n",
       "      <td>8 years experience</td>\n",
       "      <td>NaN</td>\n",
       "      <td>Pallikaranai, Chennai</td>\n",
       "      <td>Dermatologists</td>\n",
       "      <td>1 Feedback Pallikaranai, Chennai ?500</td>\n",
       "    </tr>\n",
       "  </tbody>\n",
       "</table>\n",
       "<p>1987 rows × 6 columns</p>\n",
       "</div>"
      ],
      "text/plain": [
       "                                        Qualification           Experience  \\\n",
       "0                                                MBBS  35 years experience   \n",
       "1          MBBS, Diploma in Otorhinolaryngology (DLO)  31 years experience   \n",
       "2                                          MBBS, DDVL  40 years experience   \n",
       "3                                                BAMS   0 years experience   \n",
       "4     BDS, MDS - Conservative Dentistry & Endodontics  16 years experience   \n",
       "...                                               ...                  ...   \n",
       "1982                         BAMS, Doctor of Medicine  10 years experience   \n",
       "1983   MD - Dermatology , Venereology & Leprosy, MBBS   4 years experience   \n",
       "1984         MBBS, MD / MS - Obstetrics & Gynaecology   9 years experience   \n",
       "1985                                              BDS  12 years experience   \n",
       "1986   MBBS, MD - Dermatology , Venereology & Leprosy   8 years experience   \n",
       "\n",
       "     Rating                        Place           Profile  \\\n",
       "0       NaN       Ghatkopar East, Mumbai  General Medicine   \n",
       "1       NaN  West Marredpally, Hyderabad    ENT Specialist   \n",
       "2       70%            KK Nagar, Chennai    Dermatologists   \n",
       "3       NaN       New Ashok Nagar, Delhi          Ayurveda   \n",
       "4      100%    Kanakpura Road, Bangalore           Dentist   \n",
       "...     ...                          ...               ...   \n",
       "1982    NaN      Basavanagudi, Bangalore          Ayurveda   \n",
       "1983    NaN             Choolai, Chennai    Dermatologists   \n",
       "1984    NaN               Porur, Chennai  General Medicine   \n",
       "1985    98%           Arekere, Bangalore           Dentist   \n",
       "1986    NaN        Pallikaranai, Chennai    Dermatologists   \n",
       "\n",
       "                                     Miscellaneous_Info  \n",
       "0                                                   NaN  \n",
       "1                                                   NaN  \n",
       "2                      70% 4 Feedback KK Nagar, Chennai  \n",
       "3                                                   NaN  \n",
       "4     General Dentistry Conservative Dentistry Cosme...  \n",
       "...                                                 ...  \n",
       "1982                                                NaN  \n",
       "1983                                                NaN  \n",
       "1984                                                NaN  \n",
       "1985  RCT - Root Canal Treatment Root Canal Treatmen...  \n",
       "1986              1 Feedback Pallikaranai, Chennai ?500  \n",
       "\n",
       "[1987 rows x 6 columns]"
      ]
     },
     "execution_count": 560,
     "metadata": {},
     "output_type": "execute_result"
    }
   ],
   "source": [
    "# loading test data\n",
    "\n",
    "test= pd.read_csv('Final_test.csv')\n",
    "test"
   ]
  },
  {
   "cell_type": "code",
   "execution_count": 561,
   "metadata": {},
   "outputs": [
    {
     "data": {
      "text/html": [
       "<div>\n",
       "<style scoped>\n",
       "    .dataframe tbody tr th:only-of-type {\n",
       "        vertical-align: middle;\n",
       "    }\n",
       "\n",
       "    .dataframe tbody tr th {\n",
       "        vertical-align: top;\n",
       "    }\n",
       "\n",
       "    .dataframe thead th {\n",
       "        text-align: right;\n",
       "    }\n",
       "</style>\n",
       "<table border=\"1\" class=\"dataframe\">\n",
       "  <thead>\n",
       "    <tr style=\"text-align: right;\">\n",
       "      <th></th>\n",
       "      <th>Qualification</th>\n",
       "      <th>Experience</th>\n",
       "      <th>Rating</th>\n",
       "      <th>Place</th>\n",
       "      <th>Profile</th>\n",
       "      <th>Miscellaneous_Info</th>\n",
       "      <th>Fees</th>\n",
       "    </tr>\n",
       "  </thead>\n",
       "  <tbody>\n",
       "    <tr>\n",
       "      <th>0</th>\n",
       "      <td>BHMS, MD - Homeopathy</td>\n",
       "      <td>24 years experience</td>\n",
       "      <td>100%</td>\n",
       "      <td>Kakkanad, Ernakulam</td>\n",
       "      <td>Homeopath</td>\n",
       "      <td>100% 16 Feedback Kakkanad, Ernakulam</td>\n",
       "      <td>100</td>\n",
       "    </tr>\n",
       "    <tr>\n",
       "      <th>1</th>\n",
       "      <td>BAMS, MD - Ayurveda Medicine</td>\n",
       "      <td>12 years experience</td>\n",
       "      <td>98%</td>\n",
       "      <td>Whitefield, Bangalore</td>\n",
       "      <td>Ayurveda</td>\n",
       "      <td>98% 76 Feedback Whitefield, Bangalore</td>\n",
       "      <td>350</td>\n",
       "    </tr>\n",
       "    <tr>\n",
       "      <th>2</th>\n",
       "      <td>MBBS, MS - Otorhinolaryngology</td>\n",
       "      <td>9 years experience</td>\n",
       "      <td>NaN</td>\n",
       "      <td>Mathikere - BEL, Bangalore</td>\n",
       "      <td>ENT Specialist</td>\n",
       "      <td>NaN</td>\n",
       "      <td>300</td>\n",
       "    </tr>\n",
       "    <tr>\n",
       "      <th>3</th>\n",
       "      <td>BSc - Zoology, BAMS</td>\n",
       "      <td>12 years experience</td>\n",
       "      <td>NaN</td>\n",
       "      <td>Bannerghatta Road, Bangalore</td>\n",
       "      <td>Ayurveda</td>\n",
       "      <td>Bannerghatta Road, Bangalore ₹250 Available on...</td>\n",
       "      <td>250</td>\n",
       "    </tr>\n",
       "    <tr>\n",
       "      <th>4</th>\n",
       "      <td>BAMS</td>\n",
       "      <td>20 years experience</td>\n",
       "      <td>100%</td>\n",
       "      <td>Keelkattalai, Chennai</td>\n",
       "      <td>Ayurveda</td>\n",
       "      <td>100% 4 Feedback Keelkattalai, Chennai</td>\n",
       "      <td>250</td>\n",
       "    </tr>\n",
       "    <tr>\n",
       "      <th>...</th>\n",
       "      <td>...</td>\n",
       "      <td>...</td>\n",
       "      <td>...</td>\n",
       "      <td>...</td>\n",
       "      <td>...</td>\n",
       "      <td>...</td>\n",
       "      <td>...</td>\n",
       "    </tr>\n",
       "    <tr>\n",
       "      <th>5956</th>\n",
       "      <td>MBBS, MS - ENT</td>\n",
       "      <td>19 years experience</td>\n",
       "      <td>98%</td>\n",
       "      <td>Basavanagudi, Bangalore</td>\n",
       "      <td>ENT Specialist</td>\n",
       "      <td>98% 45 Feedback Basavanagudi, Bangalore</td>\n",
       "      <td>300</td>\n",
       "    </tr>\n",
       "    <tr>\n",
       "      <th>5957</th>\n",
       "      <td>MBBS</td>\n",
       "      <td>33 years experience</td>\n",
       "      <td>NaN</td>\n",
       "      <td>Nungambakkam, Chennai</td>\n",
       "      <td>General Medicine</td>\n",
       "      <td>NaN</td>\n",
       "      <td>100</td>\n",
       "    </tr>\n",
       "    <tr>\n",
       "      <th>5958</th>\n",
       "      <td>MBBS</td>\n",
       "      <td>41 years experience</td>\n",
       "      <td>97%</td>\n",
       "      <td>Greater Kailash Part 2, Delhi</td>\n",
       "      <td>General Medicine</td>\n",
       "      <td>97% 11 Feedback Greater Kailash Part 2, Delhi</td>\n",
       "      <td>600</td>\n",
       "    </tr>\n",
       "    <tr>\n",
       "      <th>5959</th>\n",
       "      <td>MBBS, MD - General Medicine</td>\n",
       "      <td>15 years experience</td>\n",
       "      <td>90%</td>\n",
       "      <td>Vileparle West, Mumbai</td>\n",
       "      <td>General Medicine</td>\n",
       "      <td>General Medical Consultation Viral Fever Treat...</td>\n",
       "      <td>100</td>\n",
       "    </tr>\n",
       "    <tr>\n",
       "      <th>5960</th>\n",
       "      <td>BDS, MDS - Orthodontics</td>\n",
       "      <td>17 years experience</td>\n",
       "      <td>100%</td>\n",
       "      <td>Pitampura, Delhi</td>\n",
       "      <td>Dentist</td>\n",
       "      <td>Acrylic Partial Denture Crowns and Bridges Fix...</td>\n",
       "      <td>200</td>\n",
       "    </tr>\n",
       "  </tbody>\n",
       "</table>\n",
       "<p>5961 rows × 7 columns</p>\n",
       "</div>"
      ],
      "text/plain": [
       "                       Qualification           Experience Rating  \\\n",
       "0              BHMS, MD - Homeopathy  24 years experience   100%   \n",
       "1       BAMS, MD - Ayurveda Medicine  12 years experience    98%   \n",
       "2     MBBS, MS - Otorhinolaryngology   9 years experience    NaN   \n",
       "3                BSc - Zoology, BAMS  12 years experience    NaN   \n",
       "4                               BAMS  20 years experience   100%   \n",
       "...                              ...                  ...    ...   \n",
       "5956                  MBBS, MS - ENT  19 years experience    98%   \n",
       "5957                            MBBS  33 years experience    NaN   \n",
       "5958                            MBBS  41 years experience    97%   \n",
       "5959     MBBS, MD - General Medicine  15 years experience    90%   \n",
       "5960         BDS, MDS - Orthodontics  17 years experience   100%   \n",
       "\n",
       "                              Place           Profile  \\\n",
       "0               Kakkanad, Ernakulam         Homeopath   \n",
       "1             Whitefield, Bangalore          Ayurveda   \n",
       "2        Mathikere - BEL, Bangalore    ENT Specialist   \n",
       "3      Bannerghatta Road, Bangalore          Ayurveda   \n",
       "4             Keelkattalai, Chennai          Ayurveda   \n",
       "...                             ...               ...   \n",
       "5956        Basavanagudi, Bangalore    ENT Specialist   \n",
       "5957          Nungambakkam, Chennai  General Medicine   \n",
       "5958  Greater Kailash Part 2, Delhi  General Medicine   \n",
       "5959         Vileparle West, Mumbai  General Medicine   \n",
       "5960               Pitampura, Delhi           Dentist   \n",
       "\n",
       "                                     Miscellaneous_Info  Fees  \n",
       "0                  100% 16 Feedback Kakkanad, Ernakulam   100  \n",
       "1                 98% 76 Feedback Whitefield, Bangalore   350  \n",
       "2                                                   NaN   300  \n",
       "3     Bannerghatta Road, Bangalore ₹250 Available on...   250  \n",
       "4                 100% 4 Feedback Keelkattalai, Chennai   250  \n",
       "...                                                 ...   ...  \n",
       "5956            98% 45 Feedback Basavanagudi, Bangalore   300  \n",
       "5957                                                NaN   100  \n",
       "5958      97% 11 Feedback Greater Kailash Part 2, Delhi   600  \n",
       "5959  General Medical Consultation Viral Fever Treat...   100  \n",
       "5960  Acrylic Partial Denture Crowns and Bridges Fix...   200  \n",
       "\n",
       "[5961 rows x 7 columns]"
      ]
     },
     "execution_count": 561,
     "metadata": {},
     "output_type": "execute_result"
    }
   ],
   "source": [
    "# loading train data\n",
    "\n",
    "df= pd.read_csv('Final_train.csv')\n",
    "df"
   ]
  },
  {
   "cell_type": "markdown",
   "metadata": {},
   "source": [
    "## EDA & Preprocessing"
   ]
  },
  {
   "cell_type": "code",
   "execution_count": 562,
   "metadata": {},
   "outputs": [
    {
     "data": {
      "text/plain": [
       "(5961, 7)"
      ]
     },
     "execution_count": 562,
     "metadata": {},
     "output_type": "execute_result"
    }
   ],
   "source": [
    "df.shape"
   ]
  },
  {
   "cell_type": "markdown",
   "metadata": {},
   "source": [
    "Here we have 5961 rows and 7 columns to work with."
   ]
  },
  {
   "cell_type": "markdown",
   "metadata": {},
   "source": [
    "### Checking null values"
   ]
  },
  {
   "cell_type": "code",
   "execution_count": 563,
   "metadata": {},
   "outputs": [
    {
     "data": {
      "text/plain": [
       "Qualification            0\n",
       "Experience               0\n",
       "Rating                3302\n",
       "Place                   25\n",
       "Profile                  0\n",
       "Miscellaneous_Info    2620\n",
       "Fees                     0\n",
       "dtype: int64"
      ]
     },
     "execution_count": 563,
     "metadata": {},
     "output_type": "execute_result"
    }
   ],
   "source": [
    "df.isnull().sum()"
   ]
  },
  {
   "cell_type": "markdown",
   "metadata": {},
   "source": [
    "We can see some null values present, lets visualize it."
   ]
  },
  {
   "cell_type": "code",
   "execution_count": 564,
   "metadata": {},
   "outputs": [
    {
     "data": {
      "image/png": "[encoded data removed]",
      "text/plain": [
       "<Figure size 1080x432 with 2 Axes>"
      ]
     },
     "metadata": {
      "needs_background": "light"
     },
     "output_type": "display_data"
    }
   ],
   "source": [
    "plt.figure(figsize=[15,6])\n",
    "sns.heatmap(df.isnull())\n",
    "plt.title('Null values')\n",
    "plt.show()"
   ]
  },
  {
   "cell_type": "markdown",
   "metadata": {},
   "source": [
    "We can see 'rating' and 'Miscelleneous' having a lot of null values and 'place' having very less. lets treat them."
   ]
  },
  {
   "cell_type": "code",
   "execution_count": 565,
   "metadata": {},
   "outputs": [],
   "source": [
    "# treating the place column.\n",
    "\n",
    "df['Place'].fillna(\"Unknown, Unknown\", inplace = True)"
   ]
  },
  {
   "cell_type": "code",
   "execution_count": 566,
   "metadata": {},
   "outputs": [],
   "source": [
    "# since there are more than half of the data that are null, lets replace it with a new category.\n",
    "\n",
    "df['Rating'].fillna('0%', inplace=True)"
   ]
  },
  {
   "cell_type": "markdown",
   "metadata": {},
   "source": [
    "The 'Miscellaneous_Info' column contains the rating,place,fee and no. of feedbacks. Most of which already has seperate columns. Lets extract the no. of feedback from the column first."
   ]
  },
  {
   "cell_type": "code",
   "execution_count": 567,
   "metadata": {},
   "outputs": [],
   "source": [
    "df[['e','f']] = df.Miscellaneous_Info.str.split('% ',1, expand=True)"
   ]
  },
  {
   "cell_type": "code",
   "execution_count": 568,
   "metadata": {},
   "outputs": [],
   "source": [
    "df[['Feedback','h']] = df.f.str.split(' F',1, expand=True)"
   ]
  },
  {
   "cell_type": "code",
   "execution_count": 569,
   "metadata": {},
   "outputs": [
    {
     "data": {
      "text/plain": [
       "array(['16', '76', nan, None, '4', '14', '8', '7', '46', '6', '60', '18',\n",
       "       '2', '3', '21', '42', '65', '54', '43', '24', '44', '9', '47',\n",
       "       '33', '51', '23', '30', '13', '84', '15', '55', '112', '20', '1',\n",
       "       '5', '17', '67', '48', '11', '12', '40', '39', '57', '68', '175',\n",
       "       '28', '34', '29', '19', '10', '506', '62', '38', '116', '53', '99',\n",
       "       '566', '31', '72', '49', '50', '126', '22', '92', '59', '78',\n",
       "       '493', '147', '101', '444', '1061', '282', '213', '82', '181',\n",
       "       '187', '36', '71', '131', '159', '32', '141', '91', '153', '150',\n",
       "       '88', '83', '26', '80', '27', '45', '35', '560', '188', '94', '64',\n",
       "       'OFF* Available Today', '41', '37', '246', '109', '135', '52',\n",
       "       'OFF* Available on', '118', '547', '203', '372', '435', '108',\n",
       "       'OFF*', '56', '66', '102', '63', '210', '180', '61', '120', '128',\n",
       "       '98', '854', '105', '96', '89', '25', '86', '74', '130', '148',\n",
       "       '332', '97', 'Pitampura, Delhi', '185', '154', '343', '192', '152',\n",
       "       '87', '178', '309', '103', '243', '155', '238', '79', '388', '279',\n",
       "       '139', '113', '190', '1101', '317', '70', '157', '134', '230',\n",
       "       '390', '179', '58', '144', '342', '77', '162',\n",
       "       'Nungambakkam, Chennai ₹500', '142', '207', '222', '146', '132',\n",
       "       '110', '124', '240', '256', '164', '163', '122', '73', '119', '81',\n",
       "       '125', '127', ', Mumbai ₹200', '174', '69', '248', '599', '107',\n",
       "       '639', '104', '340', '90', '212', '136', '198',\n",
       "       'Khar West, Mumbai ₹2,000', '239', '254', '260', '325', '291',\n",
       "       '278', '299', '274', '1782', '173', '447', '161', '196', '169',\n",
       "       '75', '659', '168'], dtype=object)"
      ]
     },
     "execution_count": 569,
     "metadata": {},
     "output_type": "execute_result"
    }
   ],
   "source": [
    "df['Feedback'].unique()"
   ]
  },
  {
   "cell_type": "markdown",
   "metadata": {},
   "source": [
    "We can see there are some unwanted strings, lets remove them."
   ]
  },
  {
   "cell_type": "code",
   "execution_count": 570,
   "metadata": {},
   "outputs": [],
   "source": [
    "df['Feedback']= df['Feedback'].replace(\"OFF* Available Today\", 0).replace(\"OFF* Available on\", 0).replace(\"OFF*\", 0).replace(\"Pitampura, Delhi\", 0).replace(\"Nungambakkam, Chennai ₹500\", 0).replace(\", Mumbai ₹200\", 0).replace(\"Khar West, Mumbai ₹2,000\", 0)"
   ]
  },
  {
   "cell_type": "code",
   "execution_count": 571,
   "metadata": {},
   "outputs": [],
   "source": [
    "# dropping the unwanted columns\n",
    "\n",
    "df.drop(['Miscellaneous_Info','e','f','h'], axis=1, inplace= True)"
   ]
  },
  {
   "cell_type": "code",
   "execution_count": 572,
   "metadata": {},
   "outputs": [],
   "source": [
    "# Now lets treat the null values\n",
    "\n",
    "df['Feedback'].fillna(0, inplace=True)"
   ]
  },
  {
   "cell_type": "markdown",
   "metadata": {},
   "source": [
    "As more than half of the records are empty, we fill the null with a different category."
   ]
  },
  {
   "cell_type": "code",
   "execution_count": 573,
   "metadata": {},
   "outputs": [
    {
     "data": {
      "text/plain": [
       "Qualification    0\n",
       "Experience       0\n",
       "Rating           0\n",
       "Place            0\n",
       "Profile          0\n",
       "Fees             0\n",
       "Feedback         0\n",
       "dtype: int64"
      ]
     },
     "execution_count": 573,
     "metadata": {},
     "output_type": "execute_result"
    }
   ],
   "source": [
    "df.isnull().sum()"
   ]
  },
  {
   "cell_type": "markdown",
   "metadata": {},
   "source": [
    "The null values have been removed."
   ]
  },
  {
   "cell_type": "code",
   "execution_count": 574,
   "metadata": {},
   "outputs": [
    {
     "data": {
      "text/html": [
       "<div>\n",
       "<style scoped>\n",
       "    .dataframe tbody tr th:only-of-type {\n",
       "        vertical-align: middle;\n",
       "    }\n",
       "\n",
       "    .dataframe tbody tr th {\n",
       "        vertical-align: top;\n",
       "    }\n",
       "\n",
       "    .dataframe thead th {\n",
       "        text-align: right;\n",
       "    }\n",
       "</style>\n",
       "<table border=\"1\" class=\"dataframe\">\n",
       "  <thead>\n",
       "    <tr style=\"text-align: right;\">\n",
       "      <th></th>\n",
       "      <th>Qualification</th>\n",
       "      <th>Experience</th>\n",
       "      <th>Rating</th>\n",
       "      <th>Place</th>\n",
       "      <th>Profile</th>\n",
       "      <th>Fees</th>\n",
       "      <th>Feedback</th>\n",
       "    </tr>\n",
       "  </thead>\n",
       "  <tbody>\n",
       "    <tr>\n",
       "      <th>0</th>\n",
       "      <td>BHMS, MD - Homeopathy</td>\n",
       "      <td>24 years experience</td>\n",
       "      <td>100%</td>\n",
       "      <td>Kakkanad, Ernakulam</td>\n",
       "      <td>Homeopath</td>\n",
       "      <td>100</td>\n",
       "      <td>16</td>\n",
       "    </tr>\n",
       "    <tr>\n",
       "      <th>1</th>\n",
       "      <td>BAMS, MD - Ayurveda Medicine</td>\n",
       "      <td>12 years experience</td>\n",
       "      <td>98%</td>\n",
       "      <td>Whitefield, Bangalore</td>\n",
       "      <td>Ayurveda</td>\n",
       "      <td>350</td>\n",
       "      <td>76</td>\n",
       "    </tr>\n",
       "    <tr>\n",
       "      <th>2</th>\n",
       "      <td>MBBS, MS - Otorhinolaryngology</td>\n",
       "      <td>9 years experience</td>\n",
       "      <td>0%</td>\n",
       "      <td>Mathikere - BEL, Bangalore</td>\n",
       "      <td>ENT Specialist</td>\n",
       "      <td>300</td>\n",
       "      <td>0</td>\n",
       "    </tr>\n",
       "    <tr>\n",
       "      <th>3</th>\n",
       "      <td>BSc - Zoology, BAMS</td>\n",
       "      <td>12 years experience</td>\n",
       "      <td>0%</td>\n",
       "      <td>Bannerghatta Road, Bangalore</td>\n",
       "      <td>Ayurveda</td>\n",
       "      <td>250</td>\n",
       "      <td>0</td>\n",
       "    </tr>\n",
       "    <tr>\n",
       "      <th>4</th>\n",
       "      <td>BAMS</td>\n",
       "      <td>20 years experience</td>\n",
       "      <td>100%</td>\n",
       "      <td>Keelkattalai, Chennai</td>\n",
       "      <td>Ayurveda</td>\n",
       "      <td>250</td>\n",
       "      <td>4</td>\n",
       "    </tr>\n",
       "    <tr>\n",
       "      <th>...</th>\n",
       "      <td>...</td>\n",
       "      <td>...</td>\n",
       "      <td>...</td>\n",
       "      <td>...</td>\n",
       "      <td>...</td>\n",
       "      <td>...</td>\n",
       "      <td>...</td>\n",
       "    </tr>\n",
       "    <tr>\n",
       "      <th>5956</th>\n",
       "      <td>MBBS, MS - ENT</td>\n",
       "      <td>19 years experience</td>\n",
       "      <td>98%</td>\n",
       "      <td>Basavanagudi, Bangalore</td>\n",
       "      <td>ENT Specialist</td>\n",
       "      <td>300</td>\n",
       "      <td>45</td>\n",
       "    </tr>\n",
       "    <tr>\n",
       "      <th>5957</th>\n",
       "      <td>MBBS</td>\n",
       "      <td>33 years experience</td>\n",
       "      <td>0%</td>\n",
       "      <td>Nungambakkam, Chennai</td>\n",
       "      <td>General Medicine</td>\n",
       "      <td>100</td>\n",
       "      <td>0</td>\n",
       "    </tr>\n",
       "    <tr>\n",
       "      <th>5958</th>\n",
       "      <td>MBBS</td>\n",
       "      <td>41 years experience</td>\n",
       "      <td>97%</td>\n",
       "      <td>Greater Kailash Part 2, Delhi</td>\n",
       "      <td>General Medicine</td>\n",
       "      <td>600</td>\n",
       "      <td>11</td>\n",
       "    </tr>\n",
       "    <tr>\n",
       "      <th>5959</th>\n",
       "      <td>MBBS, MD - General Medicine</td>\n",
       "      <td>15 years experience</td>\n",
       "      <td>90%</td>\n",
       "      <td>Vileparle West, Mumbai</td>\n",
       "      <td>General Medicine</td>\n",
       "      <td>100</td>\n",
       "      <td>0</td>\n",
       "    </tr>\n",
       "    <tr>\n",
       "      <th>5960</th>\n",
       "      <td>BDS, MDS - Orthodontics</td>\n",
       "      <td>17 years experience</td>\n",
       "      <td>100%</td>\n",
       "      <td>Pitampura, Delhi</td>\n",
       "      <td>Dentist</td>\n",
       "      <td>200</td>\n",
       "      <td>0</td>\n",
       "    </tr>\n",
       "  </tbody>\n",
       "</table>\n",
       "<p>5961 rows × 7 columns</p>\n",
       "</div>"
      ],
      "text/plain": [
       "                       Qualification           Experience Rating  \\\n",
       "0              BHMS, MD - Homeopathy  24 years experience   100%   \n",
       "1       BAMS, MD - Ayurveda Medicine  12 years experience    98%   \n",
       "2     MBBS, MS - Otorhinolaryngology   9 years experience     0%   \n",
       "3                BSc - Zoology, BAMS  12 years experience     0%   \n",
       "4                               BAMS  20 years experience   100%   \n",
       "...                              ...                  ...    ...   \n",
       "5956                  MBBS, MS - ENT  19 years experience    98%   \n",
       "5957                            MBBS  33 years experience     0%   \n",
       "5958                            MBBS  41 years experience    97%   \n",
       "5959     MBBS, MD - General Medicine  15 years experience    90%   \n",
       "5960         BDS, MDS - Orthodontics  17 years experience   100%   \n",
       "\n",
       "                              Place           Profile  Fees Feedback  \n",
       "0               Kakkanad, Ernakulam         Homeopath   100       16  \n",
       "1             Whitefield, Bangalore          Ayurveda   350       76  \n",
       "2        Mathikere - BEL, Bangalore    ENT Specialist   300        0  \n",
       "3      Bannerghatta Road, Bangalore          Ayurveda   250        0  \n",
       "4             Keelkattalai, Chennai          Ayurveda   250        4  \n",
       "...                             ...               ...   ...      ...  \n",
       "5956        Basavanagudi, Bangalore    ENT Specialist   300       45  \n",
       "5957          Nungambakkam, Chennai  General Medicine   100        0  \n",
       "5958  Greater Kailash Part 2, Delhi  General Medicine   600       11  \n",
       "5959         Vileparle West, Mumbai  General Medicine   100        0  \n",
       "5960               Pitampura, Delhi           Dentist   200        0  \n",
       "\n",
       "[5961 rows x 7 columns]"
      ]
     },
     "execution_count": 574,
     "metadata": {},
     "output_type": "execute_result"
    }
   ],
   "source": [
    "df"
   ]
  },
  {
   "cell_type": "code",
   "execution_count": 575,
   "metadata": {},
   "outputs": [
    {
     "data": {
      "text/plain": [
       "Qualification    1420\n",
       "Experience         64\n",
       "Rating             52\n",
       "Place             878\n",
       "Profile             6\n",
       "Fees               40\n",
       "Feedback          205\n",
       "dtype: int64"
      ]
     },
     "execution_count": 575,
     "metadata": {},
     "output_type": "execute_result"
    }
   ],
   "source": [
    "df.nunique()"
   ]
  },
  {
   "cell_type": "markdown",
   "metadata": {},
   "source": [
    "#### Qualification column."
   ]
  },
  {
   "cell_type": "code",
   "execution_count": 576,
   "metadata": {},
   "outputs": [
    {
     "data": {
      "text/plain": [
       "BDS                                                      488\n",
       "BHMS                                                     477\n",
       "BAMS                                                     471\n",
       "MBBS                                                     334\n",
       "MBBS, MS - ENT                                           220\n",
       "MBBS, MD - Dermatology                                   178\n",
       "MBBS, MD - General Medicine                              177\n",
       "MBBS, MD - Dermatology , Venereology & Leprosy           140\n",
       "BHMS, MD - Homeopathy                                     93\n",
       "MBBS, DDVL                                                92\n",
       "MBBS, Diploma in Otorhinolaryngology (DLO)                84\n",
       "BAMS, MD - Ayurveda Medicine                              82\n",
       "BDS, MDS - Conservative Dentistry & Endodontics           68\n",
       "MBBS, DDV                                                 66\n",
       "BDS, MDS                                                  63\n",
       "BDS, MDS - Oral & Maxillofacial Surgery                   57\n",
       "MD - Dermatology , Venereology & Leprosy, MBBS            52\n",
       "BDS, MDS - Prosthodontics                                 45\n",
       "MBBS, MS - Otorhinolaryngology                            44\n",
       "MBBS, MD - Internal Medicine                              43\n",
       "MBBS, MD - Medicine                                       41\n",
       "BDS, MDS - Orthodontics                                   41\n",
       "MS - ENT, MBBS                                            37\n",
       "BDS, MDS - Paedodontics And Preventive Dentistry          32\n",
       "MBBS, Diploma in Dermatology                              31\n",
       "MD - Dermatology, MBBS                                    31\n",
       "BDS, MDS - Periodontology and Oral Implantology           29\n",
       "BDS, MDS - Orthodontics and Dentofacial Orthopaedics      29\n",
       "MBBS, Diploma in Otorhinolaryngology (DLO), DNB - ENT     27\n",
       "BDS, MDS - Pedodontics                                    25\n",
       "Name: Qualification, dtype: int64"
      ]
     },
     "execution_count": 576,
     "metadata": {},
     "output_type": "execute_result"
    }
   ],
   "source": [
    "df['Qualification'].value_counts()[:30]"
   ]
  },
  {
   "cell_type": "markdown",
   "metadata": {},
   "source": [
    "Most of the qualifications belongs to only few category, but the profile specification is added to it, for wich the category is huge. lets split the data reduce the category."
   ]
  },
  {
   "cell_type": "code",
   "execution_count": 577,
   "metadata": {},
   "outputs": [],
   "source": [
    "df[['Qualifications','b']] = df.Qualification.str.split('-',1, expand=True)"
   ]
  },
  {
   "cell_type": "code",
   "execution_count": 578,
   "metadata": {},
   "outputs": [],
   "source": [
    "# dropping unwanted columns\n",
    "\n",
    "df.drop(['Qualification','b'], axis=1, inplace= True)"
   ]
  },
  {
   "cell_type": "markdown",
   "metadata": {},
   "source": [
    "#### Experience column"
   ]
  },
  {
   "cell_type": "code",
   "execution_count": 579,
   "metadata": {},
   "outputs": [
    {
     "data": {
      "text/plain": [
       "Experience        object\n",
       "Rating            object\n",
       "Place             object\n",
       "Profile           object\n",
       "Fees               int64\n",
       "Feedback          object\n",
       "Qualifications    object\n",
       "dtype: object"
      ]
     },
     "execution_count": 579,
     "metadata": {},
     "output_type": "execute_result"
    }
   ],
   "source": [
    "df.dtypes"
   ]
  },
  {
   "cell_type": "markdown",
   "metadata": {},
   "source": [
    "Experience column is of object datatype, presence of certain characters is making it object. lets remove them."
   ]
  },
  {
   "cell_type": "code",
   "execution_count": 580,
   "metadata": {},
   "outputs": [],
   "source": [
    "df[\"Experience\"]= df[\"Experience\"].str.replace(\" years experience\", \"\").astype(int)"
   ]
  },
  {
   "cell_type": "code",
   "execution_count": 581,
   "metadata": {},
   "outputs": [
    {
     "data": {
      "text/plain": [
       "Experience         int32\n",
       "Rating            object\n",
       "Place             object\n",
       "Profile           object\n",
       "Fees               int64\n",
       "Feedback          object\n",
       "Qualifications    object\n",
       "dtype: object"
      ]
     },
     "execution_count": 581,
     "metadata": {},
     "output_type": "execute_result"
    }
   ],
   "source": [
    "df.dtypes"
   ]
  },
  {
   "cell_type": "markdown",
   "metadata": {},
   "source": [
    "Converted to integer."
   ]
  },
  {
   "cell_type": "markdown",
   "metadata": {},
   "source": [
    "#### Rating column"
   ]
  },
  {
   "cell_type": "markdown",
   "metadata": {},
   "source": [
    "The column Rating contains numeric data, but due to presence of a character, its showing object datatype. lets convert it to integer."
   ]
  },
  {
   "cell_type": "code",
   "execution_count": 582,
   "metadata": {},
   "outputs": [],
   "source": [
    "df[\"Rating\"]= df[\"Rating\"].str.replace(\"%\", \"\").astype(int)"
   ]
  },
  {
   "cell_type": "code",
   "execution_count": 583,
   "metadata": {},
   "outputs": [
    {
     "data": {
      "text/plain": [
       "Experience         int32\n",
       "Rating             int32\n",
       "Place             object\n",
       "Profile           object\n",
       "Fees               int64\n",
       "Feedback          object\n",
       "Qualifications    object\n",
       "dtype: object"
      ]
     },
     "execution_count": 583,
     "metadata": {},
     "output_type": "execute_result"
    }
   ],
   "source": [
    "df.dtypes"
   ]
  },
  {
   "cell_type": "markdown",
   "metadata": {},
   "source": [
    "Converted to integer."
   ]
  },
  {
   "cell_type": "markdown",
   "metadata": {},
   "source": [
    "#### Place column"
   ]
  },
  {
   "cell_type": "markdown",
   "metadata": {},
   "source": [
    "In the dataset the 'place' columns contains two values in all its records, lets split them."
   ]
  },
  {
   "cell_type": "code",
   "execution_count": 584,
   "metadata": {},
   "outputs": [],
   "source": [
    "df[['Location','City']] = df.Place.str.split(', ',1, expand=True)"
   ]
  },
  {
   "cell_type": "code",
   "execution_count": 585,
   "metadata": {},
   "outputs": [],
   "source": [
    "# now we drop the place column.\n",
    "\n",
    "df.drop(['Place'], axis=1, inplace= True)"
   ]
  },
  {
   "cell_type": "code",
   "execution_count": 586,
   "metadata": {},
   "outputs": [
    {
     "data": {
      "text/plain": [
       "Experience        0\n",
       "Rating            0\n",
       "Profile           0\n",
       "Fees              0\n",
       "Feedback          0\n",
       "Qualifications    0\n",
       "Location          0\n",
       "City              1\n",
       "dtype: int64"
      ]
     },
     "execution_count": 586,
     "metadata": {},
     "output_type": "execute_result"
    }
   ],
   "source": [
    "df.isnull().sum()"
   ]
  },
  {
   "cell_type": "markdown",
   "metadata": {},
   "source": [
    "Here we found a null value in the city column. lets treat it."
   ]
  },
  {
   "cell_type": "code",
   "execution_count": 587,
   "metadata": {},
   "outputs": [
    {
     "data": {
      "text/html": [
       "<div>\n",
       "<style scoped>\n",
       "    .dataframe tbody tr th:only-of-type {\n",
       "        vertical-align: middle;\n",
       "    }\n",
       "\n",
       "    .dataframe tbody tr th {\n",
       "        vertical-align: top;\n",
       "    }\n",
       "\n",
       "    .dataframe thead th {\n",
       "        text-align: right;\n",
       "    }\n",
       "</style>\n",
       "<table border=\"1\" class=\"dataframe\">\n",
       "  <thead>\n",
       "    <tr style=\"text-align: right;\">\n",
       "      <th></th>\n",
       "      <th>Experience</th>\n",
       "      <th>Rating</th>\n",
       "      <th>Profile</th>\n",
       "      <th>Fees</th>\n",
       "      <th>Feedback</th>\n",
       "      <th>Qualifications</th>\n",
       "      <th>Location</th>\n",
       "      <th>City</th>\n",
       "    </tr>\n",
       "  </thead>\n",
       "  <tbody>\n",
       "    <tr>\n",
       "      <th>3980</th>\n",
       "      <td>23</td>\n",
       "      <td>0</td>\n",
       "      <td>Dentist</td>\n",
       "      <td>250</td>\n",
       "      <td>0</td>\n",
       "      <td>BDS</td>\n",
       "      <td>e</td>\n",
       "      <td>None</td>\n",
       "    </tr>\n",
       "  </tbody>\n",
       "</table>\n",
       "</div>"
      ],
      "text/plain": [
       "      Experience  Rating  Profile  Fees Feedback Qualifications Location  City\n",
       "3980          23       0  Dentist   250        0            BDS        e  None"
      ]
     },
     "execution_count": 587,
     "metadata": {},
     "output_type": "execute_result"
    }
   ],
   "source": [
    "df[df['City'].isnull()]"
   ]
  },
  {
   "cell_type": "markdown",
   "metadata": {},
   "source": [
    "We can see the null value contains location value as 'e', lets treat that too."
   ]
  },
  {
   "cell_type": "code",
   "execution_count": 588,
   "metadata": {},
   "outputs": [],
   "source": [
    "df['City'].fillna(\"Unknown\", inplace = True)"
   ]
  },
  {
   "cell_type": "code",
   "execution_count": 589,
   "metadata": {},
   "outputs": [],
   "source": [
    "df['Location']= df['Location'].replace(\"e\", \"Unknown\")"
   ]
  },
  {
   "cell_type": "code",
   "execution_count": 590,
   "metadata": {},
   "outputs": [
    {
     "data": {
      "text/plain": [
       "Bangalore             1258\n",
       "Mumbai                1219\n",
       "Delhi                 1184\n",
       "Hyderabad              951\n",
       "Chennai                855\n",
       "Coimbatore             228\n",
       "Ernakulam              153\n",
       "Thiruvananthapuram      86\n",
       "Unknown                 26\n",
       "Sector 5, Delhi          1\n",
       "Name: City, dtype: int64"
      ]
     },
     "execution_count": 590,
     "metadata": {},
     "output_type": "execute_result"
    }
   ],
   "source": [
    "df['City'].value_counts()"
   ]
  },
  {
   "cell_type": "markdown",
   "metadata": {},
   "source": [
    "Here we have only one record of category sector 5 delhi, lets replace it with the basic city."
   ]
  },
  {
   "cell_type": "code",
   "execution_count": 591,
   "metadata": {},
   "outputs": [
    {
     "data": {
      "text/html": [
       "<div>\n",
       "<style scoped>\n",
       "    .dataframe tbody tr th:only-of-type {\n",
       "        vertical-align: middle;\n",
       "    }\n",
       "\n",
       "    .dataframe tbody tr th {\n",
       "        vertical-align: top;\n",
       "    }\n",
       "\n",
       "    .dataframe thead th {\n",
       "        text-align: right;\n",
       "    }\n",
       "</style>\n",
       "<table border=\"1\" class=\"dataframe\">\n",
       "  <thead>\n",
       "    <tr style=\"text-align: right;\">\n",
       "      <th></th>\n",
       "      <th>Experience</th>\n",
       "      <th>Rating</th>\n",
       "      <th>Profile</th>\n",
       "      <th>Fees</th>\n",
       "      <th>Feedback</th>\n",
       "      <th>Qualifications</th>\n",
       "      <th>Location</th>\n",
       "      <th>City</th>\n",
       "    </tr>\n",
       "  </thead>\n",
       "  <tbody>\n",
       "    <tr>\n",
       "      <th>2169</th>\n",
       "      <td>11</td>\n",
       "      <td>0</td>\n",
       "      <td>Dentist</td>\n",
       "      <td>250</td>\n",
       "      <td>0</td>\n",
       "      <td>BDS</td>\n",
       "      <td>Dwarka</td>\n",
       "      <td>Sector 5, Delhi</td>\n",
       "    </tr>\n",
       "  </tbody>\n",
       "</table>\n",
       "</div>"
      ],
      "text/plain": [
       "      Experience  Rating  Profile  Fees Feedback Qualifications Location  \\\n",
       "2169          11       0  Dentist   250        0            BDS   Dwarka   \n",
       "\n",
       "                 City  \n",
       "2169  Sector 5, Delhi  "
      ]
     },
     "execution_count": 591,
     "metadata": {},
     "output_type": "execute_result"
    }
   ],
   "source": [
    "df[(df['City'] == \"Sector 5, Delhi\")]"
   ]
  },
  {
   "cell_type": "markdown",
   "metadata": {},
   "source": [
    "As dwarka falls in delhi, lets replace the city with delhi."
   ]
  },
  {
   "cell_type": "code",
   "execution_count": 592,
   "metadata": {},
   "outputs": [],
   "source": [
    "df['City']= df['City'].replace(\"Sector 5, Delhi\", \"Delhi\")"
   ]
  },
  {
   "cell_type": "code",
   "execution_count": 593,
   "metadata": {},
   "outputs": [
    {
     "data": {
      "text/plain": [
       "array(['Ernakulam', 'Bangalore', 'Chennai', 'Delhi', 'Hyderabad',\n",
       "       'Coimbatore', 'Mumbai', 'Thiruvananthapuram', 'Unknown'],\n",
       "      dtype=object)"
      ]
     },
     "execution_count": 593,
     "metadata": {},
     "output_type": "execute_result"
    }
   ],
   "source": [
    "df['City'].unique()"
   ]
  },
  {
   "cell_type": "markdown",
   "metadata": {},
   "source": [
    "#### Feedback column"
   ]
  },
  {
   "cell_type": "code",
   "execution_count": 594,
   "metadata": {},
   "outputs": [
    {
     "data": {
      "text/plain": [
       "Experience         int32\n",
       "Rating             int32\n",
       "Profile           object\n",
       "Fees               int64\n",
       "Feedback          object\n",
       "Qualifications    object\n",
       "Location          object\n",
       "City              object\n",
       "dtype: object"
      ]
     },
     "execution_count": 594,
     "metadata": {},
     "output_type": "execute_result"
    }
   ],
   "source": [
    "df.dtypes"
   ]
  },
  {
   "cell_type": "markdown",
   "metadata": {},
   "source": [
    "The feedback column contains numeric data, but is in object datatype. lets convert it to integer."
   ]
  },
  {
   "cell_type": "code",
   "execution_count": 595,
   "metadata": {},
   "outputs": [],
   "source": [
    "df[\"Feedback\"]= df[\"Feedback\"].astype(str).astype(int)"
   ]
  },
  {
   "cell_type": "code",
   "execution_count": 596,
   "metadata": {},
   "outputs": [
    {
     "data": {
      "text/plain": [
       "Experience         int32\n",
       "Rating             int32\n",
       "Profile           object\n",
       "Fees               int64\n",
       "Feedback           int32\n",
       "Qualifications    object\n",
       "Location          object\n",
       "City              object\n",
       "dtype: object"
      ]
     },
     "execution_count": 596,
     "metadata": {},
     "output_type": "execute_result"
    }
   ],
   "source": [
    "df.dtypes"
   ]
  },
  {
   "cell_type": "markdown",
   "metadata": {},
   "source": [
    "converted"
   ]
  },
  {
   "cell_type": "code",
   "execution_count": 597,
   "metadata": {},
   "outputs": [
    {
     "data": {
      "text/html": [
       "<div>\n",
       "<style scoped>\n",
       "    .dataframe tbody tr th:only-of-type {\n",
       "        vertical-align: middle;\n",
       "    }\n",
       "\n",
       "    .dataframe tbody tr th {\n",
       "        vertical-align: top;\n",
       "    }\n",
       "\n",
       "    .dataframe thead th {\n",
       "        text-align: right;\n",
       "    }\n",
       "</style>\n",
       "<table border=\"1\" class=\"dataframe\">\n",
       "  <thead>\n",
       "    <tr style=\"text-align: right;\">\n",
       "      <th></th>\n",
       "      <th>Experience</th>\n",
       "      <th>Rating</th>\n",
       "      <th>Profile</th>\n",
       "      <th>Fees</th>\n",
       "      <th>Feedback</th>\n",
       "      <th>Qualifications</th>\n",
       "      <th>Location</th>\n",
       "      <th>City</th>\n",
       "    </tr>\n",
       "  </thead>\n",
       "  <tbody>\n",
       "    <tr>\n",
       "      <th>0</th>\n",
       "      <td>24</td>\n",
       "      <td>100</td>\n",
       "      <td>Homeopath</td>\n",
       "      <td>100</td>\n",
       "      <td>16</td>\n",
       "      <td>BHMS, MD</td>\n",
       "      <td>Kakkanad</td>\n",
       "      <td>Ernakulam</td>\n",
       "    </tr>\n",
       "    <tr>\n",
       "      <th>1</th>\n",
       "      <td>12</td>\n",
       "      <td>98</td>\n",
       "      <td>Ayurveda</td>\n",
       "      <td>350</td>\n",
       "      <td>76</td>\n",
       "      <td>BAMS, MD</td>\n",
       "      <td>Whitefield</td>\n",
       "      <td>Bangalore</td>\n",
       "    </tr>\n",
       "    <tr>\n",
       "      <th>2</th>\n",
       "      <td>9</td>\n",
       "      <td>0</td>\n",
       "      <td>ENT Specialist</td>\n",
       "      <td>300</td>\n",
       "      <td>0</td>\n",
       "      <td>MBBS, MS</td>\n",
       "      <td>Mathikere - BEL</td>\n",
       "      <td>Bangalore</td>\n",
       "    </tr>\n",
       "    <tr>\n",
       "      <th>3</th>\n",
       "      <td>12</td>\n",
       "      <td>0</td>\n",
       "      <td>Ayurveda</td>\n",
       "      <td>250</td>\n",
       "      <td>0</td>\n",
       "      <td>BSc</td>\n",
       "      <td>Bannerghatta Road</td>\n",
       "      <td>Bangalore</td>\n",
       "    </tr>\n",
       "    <tr>\n",
       "      <th>4</th>\n",
       "      <td>20</td>\n",
       "      <td>100</td>\n",
       "      <td>Ayurveda</td>\n",
       "      <td>250</td>\n",
       "      <td>4</td>\n",
       "      <td>BAMS</td>\n",
       "      <td>Keelkattalai</td>\n",
       "      <td>Chennai</td>\n",
       "    </tr>\n",
       "    <tr>\n",
       "      <th>...</th>\n",
       "      <td>...</td>\n",
       "      <td>...</td>\n",
       "      <td>...</td>\n",
       "      <td>...</td>\n",
       "      <td>...</td>\n",
       "      <td>...</td>\n",
       "      <td>...</td>\n",
       "      <td>...</td>\n",
       "    </tr>\n",
       "    <tr>\n",
       "      <th>5956</th>\n",
       "      <td>19</td>\n",
       "      <td>98</td>\n",
       "      <td>ENT Specialist</td>\n",
       "      <td>300</td>\n",
       "      <td>45</td>\n",
       "      <td>MBBS, MS</td>\n",
       "      <td>Basavanagudi</td>\n",
       "      <td>Bangalore</td>\n",
       "    </tr>\n",
       "    <tr>\n",
       "      <th>5957</th>\n",
       "      <td>33</td>\n",
       "      <td>0</td>\n",
       "      <td>General Medicine</td>\n",
       "      <td>100</td>\n",
       "      <td>0</td>\n",
       "      <td>MBBS</td>\n",
       "      <td>Nungambakkam</td>\n",
       "      <td>Chennai</td>\n",
       "    </tr>\n",
       "    <tr>\n",
       "      <th>5958</th>\n",
       "      <td>41</td>\n",
       "      <td>97</td>\n",
       "      <td>General Medicine</td>\n",
       "      <td>600</td>\n",
       "      <td>11</td>\n",
       "      <td>MBBS</td>\n",
       "      <td>Greater Kailash Part 2</td>\n",
       "      <td>Delhi</td>\n",
       "    </tr>\n",
       "    <tr>\n",
       "      <th>5959</th>\n",
       "      <td>15</td>\n",
       "      <td>90</td>\n",
       "      <td>General Medicine</td>\n",
       "      <td>100</td>\n",
       "      <td>0</td>\n",
       "      <td>MBBS, MD</td>\n",
       "      <td>Vileparle West</td>\n",
       "      <td>Mumbai</td>\n",
       "    </tr>\n",
       "    <tr>\n",
       "      <th>5960</th>\n",
       "      <td>17</td>\n",
       "      <td>100</td>\n",
       "      <td>Dentist</td>\n",
       "      <td>200</td>\n",
       "      <td>0</td>\n",
       "      <td>BDS, MDS</td>\n",
       "      <td>Pitampura</td>\n",
       "      <td>Delhi</td>\n",
       "    </tr>\n",
       "  </tbody>\n",
       "</table>\n",
       "<p>5961 rows × 8 columns</p>\n",
       "</div>"
      ],
      "text/plain": [
       "      Experience  Rating           Profile  Fees  Feedback Qualifications  \\\n",
       "0             24     100         Homeopath   100        16      BHMS, MD    \n",
       "1             12      98          Ayurveda   350        76      BAMS, MD    \n",
       "2              9       0    ENT Specialist   300         0      MBBS, MS    \n",
       "3             12       0          Ayurveda   250         0           BSc    \n",
       "4             20     100          Ayurveda   250         4           BAMS   \n",
       "...          ...     ...               ...   ...       ...            ...   \n",
       "5956          19      98    ENT Specialist   300        45      MBBS, MS    \n",
       "5957          33       0  General Medicine   100         0           MBBS   \n",
       "5958          41      97  General Medicine   600        11           MBBS   \n",
       "5959          15      90  General Medicine   100         0      MBBS, MD    \n",
       "5960          17     100           Dentist   200         0      BDS, MDS    \n",
       "\n",
       "                    Location       City  \n",
       "0                   Kakkanad  Ernakulam  \n",
       "1                 Whitefield  Bangalore  \n",
       "2            Mathikere - BEL  Bangalore  \n",
       "3          Bannerghatta Road  Bangalore  \n",
       "4               Keelkattalai    Chennai  \n",
       "...                      ...        ...  \n",
       "5956            Basavanagudi  Bangalore  \n",
       "5957            Nungambakkam    Chennai  \n",
       "5958  Greater Kailash Part 2      Delhi  \n",
       "5959          Vileparle West     Mumbai  \n",
       "5960               Pitampura      Delhi  \n",
       "\n",
       "[5961 rows x 8 columns]"
      ]
     },
     "execution_count": 597,
     "metadata": {},
     "output_type": "execute_result"
    }
   ],
   "source": [
    "df"
   ]
  },
  {
   "cell_type": "code",
   "execution_count": 598,
   "metadata": {},
   "outputs": [
    {
     "data": {
      "text/html": [
       "<div>\n",
       "<style scoped>\n",
       "    .dataframe tbody tr th:only-of-type {\n",
       "        vertical-align: middle;\n",
       "    }\n",
       "\n",
       "    .dataframe tbody tr th {\n",
       "        vertical-align: top;\n",
       "    }\n",
       "\n",
       "    .dataframe thead th {\n",
       "        text-align: right;\n",
       "    }\n",
       "</style>\n",
       "<table border=\"1\" class=\"dataframe\">\n",
       "  <thead>\n",
       "    <tr style=\"text-align: right;\">\n",
       "      <th></th>\n",
       "      <th>Experience</th>\n",
       "      <th>Rating</th>\n",
       "      <th>Fees</th>\n",
       "      <th>Feedback</th>\n",
       "    </tr>\n",
       "  </thead>\n",
       "  <tbody>\n",
       "    <tr>\n",
       "      <th>count</th>\n",
       "      <td>5961.000000</td>\n",
       "      <td>5961.000000</td>\n",
       "      <td>5961.000000</td>\n",
       "      <td>5961.000000</td>\n",
       "    </tr>\n",
       "    <tr>\n",
       "      <th>mean</th>\n",
       "      <td>17.303976</td>\n",
       "      <td>42.217245</td>\n",
       "      <td>307.944640</td>\n",
       "      <td>10.339540</td>\n",
       "    </tr>\n",
       "    <tr>\n",
       "      <th>std</th>\n",
       "      <td>11.142798</td>\n",
       "      <td>47.340934</td>\n",
       "      <td>190.920373</td>\n",
       "      <td>49.607924</td>\n",
       "    </tr>\n",
       "    <tr>\n",
       "      <th>min</th>\n",
       "      <td>0.000000</td>\n",
       "      <td>0.000000</td>\n",
       "      <td>5.000000</td>\n",
       "      <td>0.000000</td>\n",
       "    </tr>\n",
       "    <tr>\n",
       "      <th>25%</th>\n",
       "      <td>9.000000</td>\n",
       "      <td>0.000000</td>\n",
       "      <td>150.000000</td>\n",
       "      <td>0.000000</td>\n",
       "    </tr>\n",
       "    <tr>\n",
       "      <th>50%</th>\n",
       "      <td>14.000000</td>\n",
       "      <td>0.000000</td>\n",
       "      <td>300.000000</td>\n",
       "      <td>0.000000</td>\n",
       "    </tr>\n",
       "    <tr>\n",
       "      <th>75%</th>\n",
       "      <td>23.000000</td>\n",
       "      <td>96.000000</td>\n",
       "      <td>500.000000</td>\n",
       "      <td>1.000000</td>\n",
       "    </tr>\n",
       "    <tr>\n",
       "      <th>max</th>\n",
       "      <td>66.000000</td>\n",
       "      <td>100.000000</td>\n",
       "      <td>950.000000</td>\n",
       "      <td>1782.000000</td>\n",
       "    </tr>\n",
       "  </tbody>\n",
       "</table>\n",
       "</div>"
      ],
      "text/plain": [
       "        Experience       Rating         Fees     Feedback\n",
       "count  5961.000000  5961.000000  5961.000000  5961.000000\n",
       "mean     17.303976    42.217245   307.944640    10.339540\n",
       "std      11.142798    47.340934   190.920373    49.607924\n",
       "min       0.000000     0.000000     5.000000     0.000000\n",
       "25%       9.000000     0.000000   150.000000     0.000000\n",
       "50%      14.000000     0.000000   300.000000     0.000000\n",
       "75%      23.000000    96.000000   500.000000     1.000000\n",
       "max      66.000000   100.000000   950.000000  1782.000000"
      ]
     },
     "execution_count": 598,
     "metadata": {},
     "output_type": "execute_result"
    }
   ],
   "source": [
    "df.describe()"
   ]
  },
  {
   "cell_type": "markdown",
   "metadata": {},
   "source": [
    "Here we can check the numeric data columns, all the columns have the same count. Also the difference between the mean and median is less in some columns and high in some, so the data can have skewness. Also there is no huge difference between the mean and the maximum,except for Feedback, hence the the dataset is less prone to outliers."
   ]
  },
  {
   "cell_type": "markdown",
   "metadata": {},
   "source": [
    "## Visualization"
   ]
  },
  {
   "cell_type": "code",
   "execution_count": 599,
   "metadata": {},
   "outputs": [
    {
     "data": {
      "text/plain": [
       "<function matplotlib.pyplot.show(*args, **kw)>"
      ]
     },
     "execution_count": 599,
     "metadata": {},
     "output_type": "execute_result"
    },
    {
     "data": {
      "image/png": "[encoded data removed]",
      "text/plain": [
       "<Figure size 1440x720 with 9 Axes>"
      ]
     },
     "metadata": {
      "needs_background": "light"
     },
     "output_type": "display_data"
    }
   ],
   "source": [
    "df.plot(kind='density', subplots= True, layout=(3,3),sharex=False, legend=True, figsize=[20,10])\n",
    "plt.show"
   ]
  },
  {
   "cell_type": "markdown",
   "metadata": {},
   "source": [
    "We can check the distribution of the numeric columns. lets check closely."
   ]
  },
  {
   "cell_type": "code",
   "execution_count": 600,
   "metadata": {},
   "outputs": [
    {
     "data": {
      "image/png": "[encoded data removed]",
      "text/plain": [
       "<Figure size 432x288 with 1 Axes>"
      ]
     },
     "metadata": {
      "needs_background": "light"
     },
     "output_type": "display_data"
    }
   ],
   "source": [
    "sns.distplot(df['Experience']);"
   ]
  },
  {
   "cell_type": "markdown",
   "metadata": {},
   "source": [
    "Here the data can be seen having same variance present, also some skewness can be seen at the end."
   ]
  },
  {
   "cell_type": "code",
   "execution_count": 601,
   "metadata": {},
   "outputs": [
    {
     "data": {
      "image/png": "[encoded data removed]",
      "text/plain": [
       "<Figure size 432x288 with 1 Axes>"
      ]
     },
     "metadata": {
      "needs_background": "light"
     },
     "output_type": "display_data"
    }
   ],
   "source": [
    "sns.distplot(df['Rating']);"
   ]
  },
  {
   "cell_type": "markdown",
   "metadata": {},
   "source": [
    "Here the data is categorical in nature, hence variance can be seen."
   ]
  },
  {
   "cell_type": "code",
   "execution_count": 602,
   "metadata": {},
   "outputs": [
    {
     "data": {
      "image/png": "[encoded data removed]",
      "text/plain": [
       "<Figure size 720x288 with 1 Axes>"
      ]
     },
     "metadata": {
      "needs_background": "light"
     },
     "output_type": "display_data"
    }
   ],
   "source": [
    "plt.figure(figsize=[10,4])\n",
    "sns.countplot(df['Profile'])\n",
    "plt.show()"
   ]
  },
  {
   "cell_type": "markdown",
   "metadata": {},
   "source": [
    "Here we can see most of the doctors being 'dentist' followed by 'General doctor'"
   ]
  },
  {
   "cell_type": "code",
   "execution_count": 603,
   "metadata": {},
   "outputs": [
    {
     "data": {
      "image/png": "[encoded data removed]",
      "text/plain": [
       "<Figure size 864x288 with 1 Axes>"
      ]
     },
     "metadata": {
      "needs_background": "light"
     },
     "output_type": "display_data"
    }
   ],
   "source": [
    "plt.figure(figsize=[12,4])\n",
    "sns.countplot(df['City'])\n",
    "plt.show()"
   ]
  },
  {
   "cell_type": "markdown",
   "metadata": {},
   "source": [
    "We can see most of the doctors are from bangalore followed by mumbai and delhi."
   ]
  },
  {
   "cell_type": "markdown",
   "metadata": {},
   "source": [
    "### Encoding"
   ]
  },
  {
   "cell_type": "code",
   "execution_count": 604,
   "metadata": {},
   "outputs": [
    {
     "data": {
      "text/plain": [
       "Experience         int32\n",
       "Rating             int32\n",
       "Profile           object\n",
       "Fees               int64\n",
       "Feedback           int32\n",
       "Qualifications    object\n",
       "Location          object\n",
       "City              object\n",
       "dtype: object"
      ]
     },
     "execution_count": 604,
     "metadata": {},
     "output_type": "execute_result"
    }
   ],
   "source": [
    "df.dtypes"
   ]
  },
  {
   "cell_type": "code",
   "execution_count": 605,
   "metadata": {},
   "outputs": [],
   "source": [
    "# The columns Profile and city has few categories, lets encode them get_dummies.\n",
    "\n",
    "df= pd.get_dummies(df, columns= ['City','Profile'], prefix=['City','Profile'])"
   ]
  },
  {
   "cell_type": "code",
   "execution_count": 606,
   "metadata": {},
   "outputs": [],
   "source": [
    "# encoding the rest\n",
    "\n",
    "from sklearn.preprocessing import OrdinalEncoder\n",
    "enc= OrdinalEncoder()"
   ]
  },
  {
   "cell_type": "code",
   "execution_count": 607,
   "metadata": {},
   "outputs": [],
   "source": [
    "for i in df.columns:\n",
    "    if df[i].dtypes == 'object':\n",
    "        df[i]= enc.fit_transform(df[i].values.reshape(-1,1))\n"
   ]
  },
  {
   "cell_type": "code",
   "execution_count": 608,
   "metadata": {},
   "outputs": [],
   "source": [
    "df['Experience']= enc.fit_transform(df['Experience'].values.reshape(-1,1))\n",
    "df['Rating']= enc.fit_transform(df['Rating'].values.reshape(-1,1))\n",
    "df['Feedback']= enc.fit_transform(df['Feedback'].values.reshape(-1,1))"
   ]
  },
  {
   "cell_type": "code",
   "execution_count": 609,
   "metadata": {},
   "outputs": [
    {
     "data": {
      "text/plain": [
       "Experience                  float64\n",
       "Rating                      float64\n",
       "Fees                          int64\n",
       "Feedback                    float64\n",
       "Qualifications              float64\n",
       "Location                    float64\n",
       "City_Bangalore                uint8\n",
       "City_Chennai                  uint8\n",
       "City_Coimbatore               uint8\n",
       "City_Delhi                    uint8\n",
       "City_Ernakulam                uint8\n",
       "City_Hyderabad                uint8\n",
       "City_Mumbai                   uint8\n",
       "City_Thiruvananthapuram       uint8\n",
       "City_Unknown                  uint8\n",
       "Profile_Ayurveda              uint8\n",
       "Profile_Dentist               uint8\n",
       "Profile_Dermatologists        uint8\n",
       "Profile_ENT Specialist        uint8\n",
       "Profile_General Medicine      uint8\n",
       "Profile_Homeopath             uint8\n",
       "dtype: object"
      ]
     },
     "execution_count": 609,
     "metadata": {},
     "output_type": "execute_result"
    }
   ],
   "source": [
    "df.dtypes"
   ]
  },
  {
   "cell_type": "markdown",
   "metadata": {},
   "source": [
    "Dataset has been encoded."
   ]
  },
  {
   "cell_type": "markdown",
   "metadata": {},
   "source": [
    "### Checking correlation"
   ]
  },
  {
   "cell_type": "code",
   "execution_count": 610,
   "metadata": {},
   "outputs": [
    {
     "data": {
      "text/html": [
       "<div>\n",
       "<style scoped>\n",
       "    .dataframe tbody tr th:only-of-type {\n",
       "        vertical-align: middle;\n",
       "    }\n",
       "\n",
       "    .dataframe tbody tr th {\n",
       "        vertical-align: top;\n",
       "    }\n",
       "\n",
       "    .dataframe thead th {\n",
       "        text-align: right;\n",
       "    }\n",
       "</style>\n",
       "<table border=\"1\" class=\"dataframe\">\n",
       "  <thead>\n",
       "    <tr style=\"text-align: right;\">\n",
       "      <th></th>\n",
       "      <th>Experience</th>\n",
       "      <th>Rating</th>\n",
       "      <th>Fees</th>\n",
       "      <th>Feedback</th>\n",
       "      <th>Qualifications</th>\n",
       "      <th>Location</th>\n",
       "      <th>City_Bangalore</th>\n",
       "      <th>City_Chennai</th>\n",
       "      <th>City_Coimbatore</th>\n",
       "      <th>City_Delhi</th>\n",
       "      <th>...</th>\n",
       "      <th>City_Hyderabad</th>\n",
       "      <th>City_Mumbai</th>\n",
       "      <th>City_Thiruvananthapuram</th>\n",
       "      <th>City_Unknown</th>\n",
       "      <th>Profile_Ayurveda</th>\n",
       "      <th>Profile_Dentist</th>\n",
       "      <th>Profile_Dermatologists</th>\n",
       "      <th>Profile_ENT Specialist</th>\n",
       "      <th>Profile_General Medicine</th>\n",
       "      <th>Profile_Homeopath</th>\n",
       "    </tr>\n",
       "  </thead>\n",
       "  <tbody>\n",
       "    <tr>\n",
       "      <th>Experience</th>\n",
       "      <td>1.000000</td>\n",
       "      <td>-0.058331</td>\n",
       "      <td>0.001464</td>\n",
       "      <td>0.022934</td>\n",
       "      <td>0.169892</td>\n",
       "      <td>0.002774</td>\n",
       "      <td>-0.058457</td>\n",
       "      <td>0.025898</td>\n",
       "      <td>-0.008766</td>\n",
       "      <td>0.059662</td>\n",
       "      <td>...</td>\n",
       "      <td>-0.055023</td>\n",
       "      <td>0.053803</td>\n",
       "      <td>-0.014847</td>\n",
       "      <td>-0.087315</td>\n",
       "      <td>-0.042760</td>\n",
       "      <td>-0.202178</td>\n",
       "      <td>-0.095395</td>\n",
       "      <td>0.082496</td>\n",
       "      <td>0.336128</td>\n",
       "      <td>-0.070065</td>\n",
       "    </tr>\n",
       "    <tr>\n",
       "      <th>Rating</th>\n",
       "      <td>-0.058331</td>\n",
       "      <td>1.000000</td>\n",
       "      <td>0.140718</td>\n",
       "      <td>0.362907</td>\n",
       "      <td>0.013313</td>\n",
       "      <td>-0.041962</td>\n",
       "      <td>0.139099</td>\n",
       "      <td>-0.047918</td>\n",
       "      <td>-0.061813</td>\n",
       "      <td>0.016764</td>\n",
       "      <td>...</td>\n",
       "      <td>-0.016605</td>\n",
       "      <td>-0.030226</td>\n",
       "      <td>-0.061934</td>\n",
       "      <td>-0.058041</td>\n",
       "      <td>-0.154056</td>\n",
       "      <td>0.245620</td>\n",
       "      <td>0.139856</td>\n",
       "      <td>-0.055288</td>\n",
       "      <td>-0.131336</td>\n",
       "      <td>-0.099178</td>\n",
       "    </tr>\n",
       "    <tr>\n",
       "      <th>Fees</th>\n",
       "      <td>0.001464</td>\n",
       "      <td>0.140718</td>\n",
       "      <td>1.000000</td>\n",
       "      <td>0.115561</td>\n",
       "      <td>0.282347</td>\n",
       "      <td>-0.062547</td>\n",
       "      <td>0.056616</td>\n",
       "      <td>-0.052178</td>\n",
       "      <td>-0.160503</td>\n",
       "      <td>0.143421</td>\n",
       "      <td>...</td>\n",
       "      <td>-0.000997</td>\n",
       "      <td>0.000925</td>\n",
       "      <td>-0.089157</td>\n",
       "      <td>-0.069429</td>\n",
       "      <td>-0.140812</td>\n",
       "      <td>-0.202126</td>\n",
       "      <td>0.204426</td>\n",
       "      <td>0.155084</td>\n",
       "      <td>0.015463</td>\n",
       "      <td>-0.003072</td>\n",
       "    </tr>\n",
       "    <tr>\n",
       "      <th>Feedback</th>\n",
       "      <td>0.022934</td>\n",
       "      <td>0.362907</td>\n",
       "      <td>0.115561</td>\n",
       "      <td>1.000000</td>\n",
       "      <td>0.124570</td>\n",
       "      <td>-0.026963</td>\n",
       "      <td>0.082563</td>\n",
       "      <td>-0.033777</td>\n",
       "      <td>-0.004848</td>\n",
       "      <td>0.032610</td>\n",
       "      <td>...</td>\n",
       "      <td>-0.023467</td>\n",
       "      <td>-0.043491</td>\n",
       "      <td>-0.024356</td>\n",
       "      <td>-0.021229</td>\n",
       "      <td>-0.059863</td>\n",
       "      <td>-0.092448</td>\n",
       "      <td>0.196168</td>\n",
       "      <td>0.023879</td>\n",
       "      <td>-0.025209</td>\n",
       "      <td>-0.036332</td>\n",
       "    </tr>\n",
       "    <tr>\n",
       "      <th>Qualifications</th>\n",
       "      <td>0.169892</td>\n",
       "      <td>0.013313</td>\n",
       "      <td>0.282347</td>\n",
       "      <td>0.124570</td>\n",
       "      <td>1.000000</td>\n",
       "      <td>0.007400</td>\n",
       "      <td>-0.012940</td>\n",
       "      <td>0.066465</td>\n",
       "      <td>-0.071005</td>\n",
       "      <td>0.037281</td>\n",
       "      <td>...</td>\n",
       "      <td>0.046658</td>\n",
       "      <td>-0.063571</td>\n",
       "      <td>-0.050326</td>\n",
       "      <td>0.004974</td>\n",
       "      <td>-0.494805</td>\n",
       "      <td>-0.379906</td>\n",
       "      <td>0.350798</td>\n",
       "      <td>0.348301</td>\n",
       "      <td>0.350998</td>\n",
       "      <td>-0.166680</td>\n",
       "    </tr>\n",
       "    <tr>\n",
       "      <th>Location</th>\n",
       "      <td>0.002774</td>\n",
       "      <td>-0.041962</td>\n",
       "      <td>-0.062547</td>\n",
       "      <td>-0.026963</td>\n",
       "      <td>0.007400</td>\n",
       "      <td>1.000000</td>\n",
       "      <td>-0.054109</td>\n",
       "      <td>0.078554</td>\n",
       "      <td>0.106201</td>\n",
       "      <td>0.105342</td>\n",
       "      <td>...</td>\n",
       "      <td>-0.051841</td>\n",
       "      <td>-0.159350</td>\n",
       "      <td>0.066314</td>\n",
       "      <td>0.098280</td>\n",
       "      <td>-0.031593</td>\n",
       "      <td>0.019755</td>\n",
       "      <td>-0.020182</td>\n",
       "      <td>-0.005227</td>\n",
       "      <td>0.045529</td>\n",
       "      <td>-0.018442</td>\n",
       "    </tr>\n",
       "    <tr>\n",
       "      <th>City_Bangalore</th>\n",
       "      <td>-0.058457</td>\n",
       "      <td>0.139099</td>\n",
       "      <td>0.056616</td>\n",
       "      <td>0.082563</td>\n",
       "      <td>-0.012940</td>\n",
       "      <td>-0.054109</td>\n",
       "      <td>1.000000</td>\n",
       "      <td>-0.211639</td>\n",
       "      <td>-0.103141</td>\n",
       "      <td>-0.257620</td>\n",
       "      <td>...</td>\n",
       "      <td>-0.225333</td>\n",
       "      <td>-0.262225</td>\n",
       "      <td>-0.062575</td>\n",
       "      <td>-0.034232</td>\n",
       "      <td>0.063338</td>\n",
       "      <td>-0.056118</td>\n",
       "      <td>0.000854</td>\n",
       "      <td>0.029336</td>\n",
       "      <td>-0.025385</td>\n",
       "      <td>0.007191</td>\n",
       "    </tr>\n",
       "    <tr>\n",
       "      <th>City_Chennai</th>\n",
       "      <td>0.025898</td>\n",
       "      <td>-0.047918</td>\n",
       "      <td>-0.052178</td>\n",
       "      <td>-0.033777</td>\n",
       "      <td>0.066465</td>\n",
       "      <td>0.078554</td>\n",
       "      <td>-0.211639</td>\n",
       "      <td>1.000000</td>\n",
       "      <td>-0.081605</td>\n",
       "      <td>-0.203831</td>\n",
       "      <td>...</td>\n",
       "      <td>-0.178285</td>\n",
       "      <td>-0.207474</td>\n",
       "      <td>-0.049509</td>\n",
       "      <td>-0.027084</td>\n",
       "      <td>-0.077431</td>\n",
       "      <td>0.034602</td>\n",
       "      <td>-0.019350</td>\n",
       "      <td>0.043239</td>\n",
       "      <td>0.059896</td>\n",
       "      <td>-0.054821</td>\n",
       "    </tr>\n",
       "    <tr>\n",
       "      <th>City_Coimbatore</th>\n",
       "      <td>-0.008766</td>\n",
       "      <td>-0.061813</td>\n",
       "      <td>-0.160503</td>\n",
       "      <td>-0.004848</td>\n",
       "      <td>-0.071005</td>\n",
       "      <td>0.106201</td>\n",
       "      <td>-0.103141</td>\n",
       "      <td>-0.081605</td>\n",
       "      <td>1.000000</td>\n",
       "      <td>-0.099335</td>\n",
       "      <td>...</td>\n",
       "      <td>-0.086886</td>\n",
       "      <td>-0.101111</td>\n",
       "      <td>-0.024128</td>\n",
       "      <td>-0.013199</td>\n",
       "      <td>-0.077720</td>\n",
       "      <td>0.187007</td>\n",
       "      <td>-0.059018</td>\n",
       "      <td>-0.047669</td>\n",
       "      <td>0.024496</td>\n",
       "      <td>-0.070895</td>\n",
       "    </tr>\n",
       "    <tr>\n",
       "      <th>City_Delhi</th>\n",
       "      <td>0.059662</td>\n",
       "      <td>0.016764</td>\n",
       "      <td>0.143421</td>\n",
       "      <td>0.032610</td>\n",
       "      <td>0.037281</td>\n",
       "      <td>0.105342</td>\n",
       "      <td>-0.257620</td>\n",
       "      <td>-0.203831</td>\n",
       "      <td>-0.099335</td>\n",
       "      <td>1.000000</td>\n",
       "      <td>...</td>\n",
       "      <td>-0.217019</td>\n",
       "      <td>-0.252550</td>\n",
       "      <td>-0.060266</td>\n",
       "      <td>-0.032969</td>\n",
       "      <td>-0.031371</td>\n",
       "      <td>-0.054293</td>\n",
       "      <td>0.022701</td>\n",
       "      <td>0.031169</td>\n",
       "      <td>-0.019225</td>\n",
       "      <td>0.064440</td>\n",
       "    </tr>\n",
       "    <tr>\n",
       "      <th>City_Ernakulam</th>\n",
       "      <td>-0.008741</td>\n",
       "      <td>-0.033620</td>\n",
       "      <td>-0.101609</td>\n",
       "      <td>-0.022115</td>\n",
       "      <td>-0.031923</td>\n",
       "      <td>0.006354</td>\n",
       "      <td>-0.083943</td>\n",
       "      <td>-0.066416</td>\n",
       "      <td>-0.032367</td>\n",
       "      <td>-0.080846</td>\n",
       "      <td>...</td>\n",
       "      <td>-0.070714</td>\n",
       "      <td>-0.082291</td>\n",
       "      <td>-0.019637</td>\n",
       "      <td>-0.010743</td>\n",
       "      <td>-0.022494</td>\n",
       "      <td>0.098028</td>\n",
       "      <td>-0.015520</td>\n",
       "      <td>-0.015180</td>\n",
       "      <td>-0.032306</td>\n",
       "      <td>-0.029339</td>\n",
       "    </tr>\n",
       "    <tr>\n",
       "      <th>City_Hyderabad</th>\n",
       "      <td>-0.055023</td>\n",
       "      <td>-0.016605</td>\n",
       "      <td>-0.000997</td>\n",
       "      <td>-0.023467</td>\n",
       "      <td>0.046658</td>\n",
       "      <td>-0.051841</td>\n",
       "      <td>-0.225333</td>\n",
       "      <td>-0.178285</td>\n",
       "      <td>-0.086886</td>\n",
       "      <td>-0.217019</td>\n",
       "      <td>...</td>\n",
       "      <td>1.000000</td>\n",
       "      <td>-0.220898</td>\n",
       "      <td>-0.052713</td>\n",
       "      <td>-0.028837</td>\n",
       "      <td>-0.019493</td>\n",
       "      <td>0.000137</td>\n",
       "      <td>0.024245</td>\n",
       "      <td>0.001199</td>\n",
       "      <td>0.017127</td>\n",
       "      <td>-0.028254</td>\n",
       "    </tr>\n",
       "    <tr>\n",
       "      <th>City_Mumbai</th>\n",
       "      <td>0.053803</td>\n",
       "      <td>-0.030226</td>\n",
       "      <td>0.000925</td>\n",
       "      <td>-0.043491</td>\n",
       "      <td>-0.063571</td>\n",
       "      <td>-0.159350</td>\n",
       "      <td>-0.262225</td>\n",
       "      <td>-0.207474</td>\n",
       "      <td>-0.101111</td>\n",
       "      <td>-0.252550</td>\n",
       "      <td>...</td>\n",
       "      <td>-0.220898</td>\n",
       "      <td>1.000000</td>\n",
       "      <td>-0.061343</td>\n",
       "      <td>-0.033558</td>\n",
       "      <td>0.096215</td>\n",
       "      <td>-0.065474</td>\n",
       "      <td>-0.000493</td>\n",
       "      <td>-0.053190</td>\n",
       "      <td>-0.017653</td>\n",
       "      <td>0.056829</td>\n",
       "    </tr>\n",
       "    <tr>\n",
       "      <th>City_Thiruvananthapuram</th>\n",
       "      <td>-0.014847</td>\n",
       "      <td>-0.061934</td>\n",
       "      <td>-0.089157</td>\n",
       "      <td>-0.024356</td>\n",
       "      <td>-0.050326</td>\n",
       "      <td>0.066314</td>\n",
       "      <td>-0.062575</td>\n",
       "      <td>-0.049509</td>\n",
       "      <td>-0.024128</td>\n",
       "      <td>-0.060266</td>\n",
       "      <td>...</td>\n",
       "      <td>-0.052713</td>\n",
       "      <td>-0.061343</td>\n",
       "      <td>1.000000</td>\n",
       "      <td>-0.008008</td>\n",
       "      <td>0.019378</td>\n",
       "      <td>0.079195</td>\n",
       "      <td>-0.055426</td>\n",
       "      <td>-0.045127</td>\n",
       "      <td>0.003811</td>\n",
       "      <td>-0.016804</td>\n",
       "    </tr>\n",
       "    <tr>\n",
       "      <th>City_Unknown</th>\n",
       "      <td>-0.087315</td>\n",
       "      <td>-0.058041</td>\n",
       "      <td>-0.069429</td>\n",
       "      <td>-0.021229</td>\n",
       "      <td>0.004974</td>\n",
       "      <td>0.098280</td>\n",
       "      <td>-0.034232</td>\n",
       "      <td>-0.027084</td>\n",
       "      <td>-0.013199</td>\n",
       "      <td>-0.032969</td>\n",
       "      <td>...</td>\n",
       "      <td>-0.028837</td>\n",
       "      <td>-0.033558</td>\n",
       "      <td>-0.008008</td>\n",
       "      <td>1.000000</td>\n",
       "      <td>-0.025795</td>\n",
       "      <td>-0.030609</td>\n",
       "      <td>0.137757</td>\n",
       "      <td>-0.024687</td>\n",
       "      <td>-0.032760</td>\n",
       "      <td>-0.026862</td>\n",
       "    </tr>\n",
       "    <tr>\n",
       "      <th>Profile_Ayurveda</th>\n",
       "      <td>-0.042760</td>\n",
       "      <td>-0.154056</td>\n",
       "      <td>-0.140812</td>\n",
       "      <td>-0.059863</td>\n",
       "      <td>-0.494805</td>\n",
       "      <td>-0.031593</td>\n",
       "      <td>0.063338</td>\n",
       "      <td>-0.077431</td>\n",
       "      <td>-0.077720</td>\n",
       "      <td>-0.031371</td>\n",
       "      <td>...</td>\n",
       "      <td>-0.019493</td>\n",
       "      <td>0.096215</td>\n",
       "      <td>0.019378</td>\n",
       "      <td>-0.025795</td>\n",
       "      <td>1.000000</td>\n",
       "      <td>-0.215616</td>\n",
       "      <td>-0.178536</td>\n",
       "      <td>-0.145361</td>\n",
       "      <td>-0.192898</td>\n",
       "      <td>-0.158168</td>\n",
       "    </tr>\n",
       "    <tr>\n",
       "      <th>Profile_Dentist</th>\n",
       "      <td>-0.202178</td>\n",
       "      <td>0.245620</td>\n",
       "      <td>-0.202126</td>\n",
       "      <td>-0.092448</td>\n",
       "      <td>-0.379906</td>\n",
       "      <td>0.019755</td>\n",
       "      <td>-0.056118</td>\n",
       "      <td>0.034602</td>\n",
       "      <td>0.187007</td>\n",
       "      <td>-0.054293</td>\n",
       "      <td>...</td>\n",
       "      <td>0.000137</td>\n",
       "      <td>-0.065474</td>\n",
       "      <td>0.079195</td>\n",
       "      <td>-0.030609</td>\n",
       "      <td>-0.215616</td>\n",
       "      <td>1.000000</td>\n",
       "      <td>-0.253451</td>\n",
       "      <td>-0.206355</td>\n",
       "      <td>-0.273840</td>\n",
       "      <td>-0.224538</td>\n",
       "    </tr>\n",
       "    <tr>\n",
       "      <th>Profile_Dermatologists</th>\n",
       "      <td>-0.095395</td>\n",
       "      <td>0.139856</td>\n",
       "      <td>0.204426</td>\n",
       "      <td>0.196168</td>\n",
       "      <td>0.350798</td>\n",
       "      <td>-0.020182</td>\n",
       "      <td>0.000854</td>\n",
       "      <td>-0.019350</td>\n",
       "      <td>-0.059018</td>\n",
       "      <td>0.022701</td>\n",
       "      <td>...</td>\n",
       "      <td>0.024245</td>\n",
       "      <td>-0.000493</td>\n",
       "      <td>-0.055426</td>\n",
       "      <td>0.137757</td>\n",
       "      <td>-0.178536</td>\n",
       "      <td>-0.253451</td>\n",
       "      <td>1.000000</td>\n",
       "      <td>-0.170867</td>\n",
       "      <td>-0.226747</td>\n",
       "      <td>-0.185923</td>\n",
       "    </tr>\n",
       "    <tr>\n",
       "      <th>Profile_ENT Specialist</th>\n",
       "      <td>0.082496</td>\n",
       "      <td>-0.055288</td>\n",
       "      <td>0.155084</td>\n",
       "      <td>0.023879</td>\n",
       "      <td>0.348301</td>\n",
       "      <td>-0.005227</td>\n",
       "      <td>0.029336</td>\n",
       "      <td>0.043239</td>\n",
       "      <td>-0.047669</td>\n",
       "      <td>0.031169</td>\n",
       "      <td>...</td>\n",
       "      <td>0.001199</td>\n",
       "      <td>-0.053190</td>\n",
       "      <td>-0.045127</td>\n",
       "      <td>-0.024687</td>\n",
       "      <td>-0.145361</td>\n",
       "      <td>-0.206355</td>\n",
       "      <td>-0.170867</td>\n",
       "      <td>1.000000</td>\n",
       "      <td>-0.184613</td>\n",
       "      <td>-0.151375</td>\n",
       "    </tr>\n",
       "    <tr>\n",
       "      <th>Profile_General Medicine</th>\n",
       "      <td>0.336128</td>\n",
       "      <td>-0.131336</td>\n",
       "      <td>0.015463</td>\n",
       "      <td>-0.025209</td>\n",
       "      <td>0.350998</td>\n",
       "      <td>0.045529</td>\n",
       "      <td>-0.025385</td>\n",
       "      <td>0.059896</td>\n",
       "      <td>0.024496</td>\n",
       "      <td>-0.019225</td>\n",
       "      <td>...</td>\n",
       "      <td>0.017127</td>\n",
       "      <td>-0.017653</td>\n",
       "      <td>0.003811</td>\n",
       "      <td>-0.032760</td>\n",
       "      <td>-0.192898</td>\n",
       "      <td>-0.273840</td>\n",
       "      <td>-0.226747</td>\n",
       "      <td>-0.184613</td>\n",
       "      <td>1.000000</td>\n",
       "      <td>-0.200879</td>\n",
       "    </tr>\n",
       "    <tr>\n",
       "      <th>Profile_Homeopath</th>\n",
       "      <td>-0.070065</td>\n",
       "      <td>-0.099178</td>\n",
       "      <td>-0.003072</td>\n",
       "      <td>-0.036332</td>\n",
       "      <td>-0.166680</td>\n",
       "      <td>-0.018442</td>\n",
       "      <td>0.007191</td>\n",
       "      <td>-0.054821</td>\n",
       "      <td>-0.070895</td>\n",
       "      <td>0.064440</td>\n",
       "      <td>...</td>\n",
       "      <td>-0.028254</td>\n",
       "      <td>0.056829</td>\n",
       "      <td>-0.016804</td>\n",
       "      <td>-0.026862</td>\n",
       "      <td>-0.158168</td>\n",
       "      <td>-0.224538</td>\n",
       "      <td>-0.185923</td>\n",
       "      <td>-0.151375</td>\n",
       "      <td>-0.200879</td>\n",
       "      <td>1.000000</td>\n",
       "    </tr>\n",
       "  </tbody>\n",
       "</table>\n",
       "<p>21 rows × 21 columns</p>\n",
       "</div>"
      ],
      "text/plain": [
       "                          Experience    Rating      Fees  Feedback  \\\n",
       "Experience                  1.000000 -0.058331  0.001464  0.022934   \n",
       "Rating                     -0.058331  1.000000  0.140718  0.362907   \n",
       "Fees                        0.001464  0.140718  1.000000  0.115561   \n",
       "Feedback                    0.022934  0.362907  0.115561  1.000000   \n",
       "Qualifications              0.169892  0.013313  0.282347  0.124570   \n",
       "Location                    0.002774 -0.041962 -0.062547 -0.026963   \n",
       "City_Bangalore             -0.058457  0.139099  0.056616  0.082563   \n",
       "City_Chennai                0.025898 -0.047918 -0.052178 -0.033777   \n",
       "City_Coimbatore            -0.008766 -0.061813 -0.160503 -0.004848   \n",
       "City_Delhi                  0.059662  0.016764  0.143421  0.032610   \n",
       "City_Ernakulam             -0.008741 -0.033620 -0.101609 -0.022115   \n",
       "City_Hyderabad             -0.055023 -0.016605 -0.000997 -0.023467   \n",
       "City_Mumbai                 0.053803 -0.030226  0.000925 -0.043491   \n",
       "City_Thiruvananthapuram    -0.014847 -0.061934 -0.089157 -0.024356   \n",
       "City_Unknown               -0.087315 -0.058041 -0.069429 -0.021229   \n",
       "Profile_Ayurveda           -0.042760 -0.154056 -0.140812 -0.059863   \n",
       "Profile_Dentist            -0.202178  0.245620 -0.202126 -0.092448   \n",
       "Profile_Dermatologists     -0.095395  0.139856  0.204426  0.196168   \n",
       "Profile_ENT Specialist      0.082496 -0.055288  0.155084  0.023879   \n",
       "Profile_General Medicine    0.336128 -0.131336  0.015463 -0.025209   \n",
       "Profile_Homeopath          -0.070065 -0.099178 -0.003072 -0.036332   \n",
       "\n",
       "                          Qualifications  Location  City_Bangalore  \\\n",
       "Experience                      0.169892  0.002774       -0.058457   \n",
       "Rating                          0.013313 -0.041962        0.139099   \n",
       "Fees                            0.282347 -0.062547        0.056616   \n",
       "Feedback                        0.124570 -0.026963        0.082563   \n",
       "Qualifications                  1.000000  0.007400       -0.012940   \n",
       "Location                        0.007400  1.000000       -0.054109   \n",
       "City_Bangalore                 -0.012940 -0.054109        1.000000   \n",
       "City_Chennai                    0.066465  0.078554       -0.211639   \n",
       "City_Coimbatore                -0.071005  0.106201       -0.103141   \n",
       "City_Delhi                      0.037281  0.105342       -0.257620   \n",
       "City_Ernakulam                 -0.031923  0.006354       -0.083943   \n",
       "City_Hyderabad                  0.046658 -0.051841       -0.225333   \n",
       "City_Mumbai                    -0.063571 -0.159350       -0.262225   \n",
       "City_Thiruvananthapuram        -0.050326  0.066314       -0.062575   \n",
       "City_Unknown                    0.004974  0.098280       -0.034232   \n",
       "Profile_Ayurveda               -0.494805 -0.031593        0.063338   \n",
       "Profile_Dentist                -0.379906  0.019755       -0.056118   \n",
       "Profile_Dermatologists          0.350798 -0.020182        0.000854   \n",
       "Profile_ENT Specialist          0.348301 -0.005227        0.029336   \n",
       "Profile_General Medicine        0.350998  0.045529       -0.025385   \n",
       "Profile_Homeopath              -0.166680 -0.018442        0.007191   \n",
       "\n",
       "                          City_Chennai  City_Coimbatore  City_Delhi  ...  \\\n",
       "Experience                    0.025898        -0.008766    0.059662  ...   \n",
       "Rating                       -0.047918        -0.061813    0.016764  ...   \n",
       "Fees                         -0.052178        -0.160503    0.143421  ...   \n",
       "Feedback                     -0.033777        -0.004848    0.032610  ...   \n",
       "Qualifications                0.066465        -0.071005    0.037281  ...   \n",
       "Location                      0.078554         0.106201    0.105342  ...   \n",
       "City_Bangalore               -0.211639        -0.103141   -0.257620  ...   \n",
       "City_Chennai                  1.000000        -0.081605   -0.203831  ...   \n",
       "City_Coimbatore              -0.081605         1.000000   -0.099335  ...   \n",
       "City_Delhi                   -0.203831        -0.099335    1.000000  ...   \n",
       "City_Ernakulam               -0.066416        -0.032367   -0.080846  ...   \n",
       "City_Hyderabad               -0.178285        -0.086886   -0.217019  ...   \n",
       "City_Mumbai                  -0.207474        -0.101111   -0.252550  ...   \n",
       "City_Thiruvananthapuram      -0.049509        -0.024128   -0.060266  ...   \n",
       "City_Unknown                 -0.027084        -0.013199   -0.032969  ...   \n",
       "Profile_Ayurveda             -0.077431        -0.077720   -0.031371  ...   \n",
       "Profile_Dentist               0.034602         0.187007   -0.054293  ...   \n",
       "Profile_Dermatologists       -0.019350        -0.059018    0.022701  ...   \n",
       "Profile_ENT Specialist        0.043239        -0.047669    0.031169  ...   \n",
       "Profile_General Medicine      0.059896         0.024496   -0.019225  ...   \n",
       "Profile_Homeopath            -0.054821        -0.070895    0.064440  ...   \n",
       "\n",
       "                          City_Hyderabad  City_Mumbai  \\\n",
       "Experience                     -0.055023     0.053803   \n",
       "Rating                         -0.016605    -0.030226   \n",
       "Fees                           -0.000997     0.000925   \n",
       "Feedback                       -0.023467    -0.043491   \n",
       "Qualifications                  0.046658    -0.063571   \n",
       "Location                       -0.051841    -0.159350   \n",
       "City_Bangalore                 -0.225333    -0.262225   \n",
       "City_Chennai                   -0.178285    -0.207474   \n",
       "City_Coimbatore                -0.086886    -0.101111   \n",
       "City_Delhi                     -0.217019    -0.252550   \n",
       "City_Ernakulam                 -0.070714    -0.082291   \n",
       "City_Hyderabad                  1.000000    -0.220898   \n",
       "City_Mumbai                    -0.220898     1.000000   \n",
       "City_Thiruvananthapuram        -0.052713    -0.061343   \n",
       "City_Unknown                   -0.028837    -0.033558   \n",
       "Profile_Ayurveda               -0.019493     0.096215   \n",
       "Profile_Dentist                 0.000137    -0.065474   \n",
       "Profile_Dermatologists          0.024245    -0.000493   \n",
       "Profile_ENT Specialist          0.001199    -0.053190   \n",
       "Profile_General Medicine        0.017127    -0.017653   \n",
       "Profile_Homeopath              -0.028254     0.056829   \n",
       "\n",
       "                          City_Thiruvananthapuram  City_Unknown  \\\n",
       "Experience                              -0.014847     -0.087315   \n",
       "Rating                                  -0.061934     -0.058041   \n",
       "Fees                                    -0.089157     -0.069429   \n",
       "Feedback                                -0.024356     -0.021229   \n",
       "Qualifications                          -0.050326      0.004974   \n",
       "Location                                 0.066314      0.098280   \n",
       "City_Bangalore                          -0.062575     -0.034232   \n",
       "City_Chennai                            -0.049509     -0.027084   \n",
       "City_Coimbatore                         -0.024128     -0.013199   \n",
       "City_Delhi                              -0.060266     -0.032969   \n",
       "City_Ernakulam                          -0.019637     -0.010743   \n",
       "City_Hyderabad                          -0.052713     -0.028837   \n",
       "City_Mumbai                             -0.061343     -0.033558   \n",
       "City_Thiruvananthapuram                  1.000000     -0.008008   \n",
       "City_Unknown                            -0.008008      1.000000   \n",
       "Profile_Ayurveda                         0.019378     -0.025795   \n",
       "Profile_Dentist                          0.079195     -0.030609   \n",
       "Profile_Dermatologists                  -0.055426      0.137757   \n",
       "Profile_ENT Specialist                  -0.045127     -0.024687   \n",
       "Profile_General Medicine                 0.003811     -0.032760   \n",
       "Profile_Homeopath                       -0.016804     -0.026862   \n",
       "\n",
       "                          Profile_Ayurveda  Profile_Dentist  \\\n",
       "Experience                       -0.042760        -0.202178   \n",
       "Rating                           -0.154056         0.245620   \n",
       "Fees                             -0.140812        -0.202126   \n",
       "Feedback                         -0.059863        -0.092448   \n",
       "Qualifications                   -0.494805        -0.379906   \n",
       "Location                         -0.031593         0.019755   \n",
       "City_Bangalore                    0.063338        -0.056118   \n",
       "City_Chennai                     -0.077431         0.034602   \n",
       "City_Coimbatore                  -0.077720         0.187007   \n",
       "City_Delhi                       -0.031371        -0.054293   \n",
       "City_Ernakulam                   -0.022494         0.098028   \n",
       "City_Hyderabad                   -0.019493         0.000137   \n",
       "City_Mumbai                       0.096215        -0.065474   \n",
       "City_Thiruvananthapuram           0.019378         0.079195   \n",
       "City_Unknown                     -0.025795        -0.030609   \n",
       "Profile_Ayurveda                  1.000000        -0.215616   \n",
       "Profile_Dentist                  -0.215616         1.000000   \n",
       "Profile_Dermatologists           -0.178536        -0.253451   \n",
       "Profile_ENT Specialist           -0.145361        -0.206355   \n",
       "Profile_General Medicine         -0.192898        -0.273840   \n",
       "Profile_Homeopath                -0.158168        -0.224538   \n",
       "\n",
       "                          Profile_Dermatologists  Profile_ENT Specialist  \\\n",
       "Experience                             -0.095395                0.082496   \n",
       "Rating                                  0.139856               -0.055288   \n",
       "Fees                                    0.204426                0.155084   \n",
       "Feedback                                0.196168                0.023879   \n",
       "Qualifications                          0.350798                0.348301   \n",
       "Location                               -0.020182               -0.005227   \n",
       "City_Bangalore                          0.000854                0.029336   \n",
       "City_Chennai                           -0.019350                0.043239   \n",
       "City_Coimbatore                        -0.059018               -0.047669   \n",
       "City_Delhi                              0.022701                0.031169   \n",
       "City_Ernakulam                         -0.015520               -0.015180   \n",
       "City_Hyderabad                          0.024245                0.001199   \n",
       "City_Mumbai                            -0.000493               -0.053190   \n",
       "City_Thiruvananthapuram                -0.055426               -0.045127   \n",
       "City_Unknown                            0.137757               -0.024687   \n",
       "Profile_Ayurveda                       -0.178536               -0.145361   \n",
       "Profile_Dentist                        -0.253451               -0.206355   \n",
       "Profile_Dermatologists                  1.000000               -0.170867   \n",
       "Profile_ENT Specialist                 -0.170867                1.000000   \n",
       "Profile_General Medicine               -0.226747               -0.184613   \n",
       "Profile_Homeopath                      -0.185923               -0.151375   \n",
       "\n",
       "                          Profile_General Medicine  Profile_Homeopath  \n",
       "Experience                                0.336128          -0.070065  \n",
       "Rating                                   -0.131336          -0.099178  \n",
       "Fees                                      0.015463          -0.003072  \n",
       "Feedback                                 -0.025209          -0.036332  \n",
       "Qualifications                            0.350998          -0.166680  \n",
       "Location                                  0.045529          -0.018442  \n",
       "City_Bangalore                           -0.025385           0.007191  \n",
       "City_Chennai                              0.059896          -0.054821  \n",
       "City_Coimbatore                           0.024496          -0.070895  \n",
       "City_Delhi                               -0.019225           0.064440  \n",
       "City_Ernakulam                           -0.032306          -0.029339  \n",
       "City_Hyderabad                            0.017127          -0.028254  \n",
       "City_Mumbai                              -0.017653           0.056829  \n",
       "City_Thiruvananthapuram                   0.003811          -0.016804  \n",
       "City_Unknown                             -0.032760          -0.026862  \n",
       "Profile_Ayurveda                         -0.192898          -0.158168  \n",
       "Profile_Dentist                          -0.273840          -0.224538  \n",
       "Profile_Dermatologists                   -0.226747          -0.185923  \n",
       "Profile_ENT Specialist                   -0.184613          -0.151375  \n",
       "Profile_General Medicine                  1.000000          -0.200879  \n",
       "Profile_Homeopath                        -0.200879           1.000000  \n",
       "\n",
       "[21 rows x 21 columns]"
      ]
     },
     "execution_count": 610,
     "metadata": {},
     "output_type": "execute_result"
    }
   ],
   "source": [
    "cor= df.corr()\n",
    "cor"
   ]
  },
  {
   "cell_type": "markdown",
   "metadata": {},
   "source": [
    "Here we can see the correlation between all the columns, lets visualize it."
   ]
  },
  {
   "cell_type": "code",
   "execution_count": 611,
   "metadata": {},
   "outputs": [
    {
     "data": {
      "image/png": "[encoded data removed]",
      "text/plain": [
       "<Figure size 1800x936 with 2 Axes>"
      ]
     },
     "metadata": {
      "needs_background": "light"
     },
     "output_type": "display_data"
    }
   ],
   "source": [
    "plt.figure(figsize=[25,13])\n",
    "sns.heatmap(cor, annot=True, linewidth=0.1);\n",
    "plt.title('Correlation matrix')\n",
    "plt.show()"
   ]
  },
  {
   "cell_type": "markdown",
   "metadata": {},
   "source": [
    "We can see most of the correlations being negative, but there are some positive relations as well. Among the independent columns, Feedback and rating show the best relation, with Qualification showing the most negative relation with profile of ayurveda and dentist."
   ]
  },
  {
   "cell_type": "code",
   "execution_count": 612,
   "metadata": {},
   "outputs": [
    {
     "data": {
      "text/plain": [
       "Fees                        1.000000\n",
       "Qualifications              0.282347\n",
       "Profile_Dermatologists      0.204426\n",
       "Profile_ENT Specialist      0.155084\n",
       "City_Delhi                  0.143421\n",
       "Rating                      0.140718\n",
       "Feedback                    0.115561\n",
       "City_Bangalore              0.056616\n",
       "Profile_General Medicine    0.015463\n",
       "Experience                  0.001464\n",
       "City_Mumbai                 0.000925\n",
       "City_Hyderabad             -0.000997\n",
       "Profile_Homeopath          -0.003072\n",
       "City_Chennai               -0.052178\n",
       "Location                   -0.062547\n",
       "City_Unknown               -0.069429\n",
       "City_Thiruvananthapuram    -0.089157\n",
       "City_Ernakulam             -0.101609\n",
       "Profile_Ayurveda           -0.140812\n",
       "City_Coimbatore            -0.160503\n",
       "Profile_Dentist            -0.202126\n",
       "Name: Fees, dtype: float64"
      ]
     },
     "execution_count": 612,
     "metadata": {},
     "output_type": "execute_result"
    }
   ],
   "source": [
    "# checking correlation of target with independent columns.\n",
    "\n",
    "cor['Fees'].sort_values(ascending=False)"
   ]
  },
  {
   "cell_type": "markdown",
   "metadata": {},
   "source": [
    "We can check the correlation of our target with the independent columns. lets visualize it for better understanding."
   ]
  },
  {
   "cell_type": "code",
   "execution_count": 613,
   "metadata": {},
   "outputs": [
    {
     "data": {
      "image/png": "[encoded data removed]",
      "text/plain": [
       "<Figure size 1440x576 with 1 Axes>"
      ]
     },
     "metadata": {
      "needs_background": "light"
     },
     "output_type": "display_data"
    }
   ],
   "source": [
    "plt.figure(figsize=(20,8))\n",
    "cor['Fees'].sort_values(ascending=False).drop(['Fees']).plot(kind='bar')\n",
    "plt.xlabel('Feature')\n",
    "plt.ylabel('Correlation with target')\n",
    "plt.title('Correlation')\n",
    "plt.show()"
   ]
  },
  {
   "cell_type": "markdown",
   "metadata": {},
   "source": [
    "Here, qualification is showing the highest correlation with the target, followed by some profile and rating. profile of dentist is showing the most negative correlation. Lets inspect closely."
   ]
  },
  {
   "cell_type": "code",
   "execution_count": 614,
   "metadata": {},
   "outputs": [
    {
     "data": {
      "image/png": "[encoded data removed]",
      "text/plain": [
       "<Figure size 432x288 with 1 Axes>"
      ]
     },
     "metadata": {
      "needs_background": "light"
     },
     "output_type": "display_data"
    }
   ],
   "source": [
    "plt.scatter(df['Fees'],df['Qualifications'])\n",
    "plt.show()"
   ]
  },
  {
   "cell_type": "markdown",
   "metadata": {},
   "source": [
    "Here we have a positive correlation, we can see as the graph advancing, the data poins are getting reduced from the bottom. "
   ]
  },
  {
   "cell_type": "code",
   "execution_count": 615,
   "metadata": {},
   "outputs": [
    {
     "data": {
      "image/png": "[encoded data removed]",
      "text/plain": [
       "<Figure size 432x288 with 1 Axes>"
      ]
     },
     "metadata": {
      "needs_background": "light"
     },
     "output_type": "display_data"
    }
   ],
   "source": [
    "plt.scatter(df['Fees'],df['Profile_Dermatologists'])\n",
    "plt.show()"
   ]
  },
  {
   "cell_type": "markdown",
   "metadata": {},
   "source": [
    "We can see little positive relation."
   ]
  },
  {
   "cell_type": "code",
   "execution_count": 616,
   "metadata": {},
   "outputs": [
    {
     "data": {
      "image/png": "[encoded data removed]",
      "text/plain": [
       "<Figure size 432x288 with 1 Axes>"
      ]
     },
     "metadata": {
      "needs_background": "light"
     },
     "output_type": "display_data"
    }
   ],
   "source": [
    "plt.scatter(df['Fees'],df['Rating'])\n",
    "plt.show()"
   ]
  },
  {
   "cell_type": "markdown",
   "metadata": {},
   "source": [
    "Here we have less correlation between the columns."
   ]
  },
  {
   "cell_type": "code",
   "execution_count": 617,
   "metadata": {},
   "outputs": [
    {
     "data": {
      "image/png": "[encoded data removed]",
      "text/plain": [
       "<Figure size 432x288 with 1 Axes>"
      ]
     },
     "metadata": {
      "needs_background": "light"
     },
     "output_type": "display_data"
    }
   ],
   "source": [
    "plt.scatter(df['Fees'],df['Profile_Dentist'])\n",
    "plt.show()"
   ]
  },
  {
   "cell_type": "markdown",
   "metadata": {},
   "source": [
    "Here we can see a negative correlation, with data points going down as graph progresses."
   ]
  },
  {
   "cell_type": "code",
   "execution_count": 618,
   "metadata": {},
   "outputs": [
    {
     "data": {
      "image/png": "[encoded data removed]",
      "text/plain": [
       "<Figure size 432x288 with 1 Axes>"
      ]
     },
     "metadata": {
      "needs_background": "light"
     },
     "output_type": "display_data"
    }
   ],
   "source": [
    "plt.scatter(df['Fees'],df['Location'])\n",
    "plt.show()"
   ]
  },
  {
   "cell_type": "markdown",
   "metadata": {},
   "source": [
    "Here too we can see very little correlation, mostly negative."
   ]
  },
  {
   "cell_type": "code",
   "execution_count": 619,
   "metadata": {},
   "outputs": [
    {
     "data": {
      "image/png": "[encoded data removed]",
      "text/plain": [
       "<Figure size 432x288 with 1 Axes>"
      ]
     },
     "metadata": {
      "needs_background": "light"
     },
     "output_type": "display_data"
    }
   ],
   "source": [
    "plt.scatter(df['Feedback'],df['Rating'])\n",
    "plt.show()"
   ]
  },
  {
   "cell_type": "markdown",
   "metadata": {},
   "source": [
    "We can see here a positive correlation among the independent columns."
   ]
  },
  {
   "cell_type": "code",
   "execution_count": 620,
   "metadata": {},
   "outputs": [
    {
     "data": {
      "image/png": "[encoded data removed]",
      "text/plain": [
       "<Figure size 432x288 with 1 Axes>"
      ]
     },
     "metadata": {
      "needs_background": "light"
     },
     "output_type": "display_data"
    }
   ],
   "source": [
    "plt.scatter(df['Profile_Ayurveda'],df['Qualifications'])\n",
    "plt.show()"
   ]
  },
  {
   "cell_type": "markdown",
   "metadata": {},
   "source": [
    "A negative correlation can be seen here among the independent columns."
   ]
  },
  {
   "cell_type": "markdown",
   "metadata": {},
   "source": [
    "### Checking Outliers"
   ]
  },
  {
   "cell_type": "code",
   "execution_count": 621,
   "metadata": {},
   "outputs": [
    {
     "data": {
      "image/png": "[encoded data removed]",
      "text/plain": [
       "<Figure size 1800x720 with 1 Axes>"
      ]
     },
     "metadata": {
      "needs_background": "light"
     },
     "output_type": "display_data"
    }
   ],
   "source": [
    "df.boxplot(figsize=(25,10))\n",
    "plt.show()"
   ]
  },
  {
   "cell_type": "code",
   "execution_count": 622,
   "metadata": {},
   "outputs": [
    {
     "data": {
      "text/plain": [
       "<matplotlib.axes._subplots.AxesSubplot at 0x288a09675b0>"
      ]
     },
     "execution_count": 622,
     "metadata": {},
     "output_type": "execute_result"
    },
    {
     "data": {
      "image/png": "[encoded data removed]",
      "text/plain": [
       "<Figure size 432x288 with 1 Axes>"
      ]
     },
     "metadata": {
      "needs_background": "light"
     },
     "output_type": "display_data"
    }
   ],
   "source": [
    "sns.boxplot(df['Experience'])"
   ]
  },
  {
   "cell_type": "markdown",
   "metadata": {},
   "source": [
    "Here we can see some outliers present but are very close to the threshold."
   ]
  },
  {
   "cell_type": "code",
   "execution_count": 623,
   "metadata": {},
   "outputs": [
    {
     "data": {
      "text/plain": [
       "<matplotlib.axes._subplots.AxesSubplot at 0x2889fd9b1c0>"
      ]
     },
     "execution_count": 623,
     "metadata": {},
     "output_type": "execute_result"
    },
    {
     "data": {
      "image/png": "[encoded data removed]",
      "text/plain": [
       "<Figure size 432x288 with 1 Axes>"
      ]
     },
     "metadata": {
      "needs_background": "light"
     },
     "output_type": "display_data"
    }
   ],
   "source": [
    "sns.boxplot(df['Rating'])"
   ]
  },
  {
   "cell_type": "markdown",
   "metadata": {},
   "source": [
    "No outliers present."
   ]
  },
  {
   "cell_type": "code",
   "execution_count": 624,
   "metadata": {},
   "outputs": [
    {
     "data": {
      "text/plain": [
       "<matplotlib.axes._subplots.AxesSubplot at 0x2889fc09a60>"
      ]
     },
     "execution_count": 624,
     "metadata": {},
     "output_type": "execute_result"
    },
    {
     "data": {
      "image/png": "[encoded data removed]",
      "text/plain": [
       "<Figure size 432x288 with 1 Axes>"
      ]
     },
     "metadata": {
      "needs_background": "light"
     },
     "output_type": "display_data"
    }
   ],
   "source": [
    "sns.boxplot(df['Feedback'])"
   ]
  },
  {
   "cell_type": "markdown",
   "metadata": {},
   "source": [
    "Here the majority of data consists of only one record. as more than half of the data were null."
   ]
  },
  {
   "cell_type": "markdown",
   "metadata": {},
   "source": [
    "Analysing the dataset we can say that there are very few outliers present and those present are very close to the threshold, hence we need not remove the outliers as it will also lead to dataloss."
   ]
  },
  {
   "cell_type": "markdown",
   "metadata": {},
   "source": [
    "### Checking skewness"
   ]
  },
  {
   "cell_type": "code",
   "execution_count": 625,
   "metadata": {},
   "outputs": [
    {
     "data": {
      "text/plain": [
       "Experience                   0.998674\n",
       "Rating                       0.312686\n",
       "Fees                         0.751870\n",
       "Feedback                     4.617332\n",
       "Qualifications              -0.117821\n",
       "Location                     0.109032\n",
       "City_Bangalore               1.416677\n",
       "City_Chennai                 2.035059\n",
       "City_Coimbatore              4.816241\n",
       "City_Delhi                   1.509849\n",
       "City_Ernakulam               6.000437\n",
       "City_Hyderabad               1.860027\n",
       "City_Mumbai                  1.465681\n",
       "City_Thiruvananthapuram      8.146287\n",
       "City_Unknown                15.046180\n",
       "Profile_Ayurveda             2.176749\n",
       "Profile_Dentist              1.254545\n",
       "Profile_Dermatologists       1.725211\n",
       "Profile_ENT Specialist       2.308676\n",
       "Profile_General Medicine     1.525779\n",
       "Profile_Homeopath            2.058645\n",
       "dtype: float64"
      ]
     },
     "execution_count": 625,
     "metadata": {},
     "output_type": "execute_result"
    }
   ],
   "source": [
    "df.skew()"
   ]
  },
  {
   "cell_type": "markdown",
   "metadata": {},
   "source": [
    "We can see some skewness present in the non-categorical columns, taking the threshold of(<0.5 and >-0.5). lets treat them."
   ]
  },
  {
   "cell_type": "code",
   "execution_count": 626,
   "metadata": {},
   "outputs": [
    {
     "data": {
      "text/plain": [
       "Experience                  -0.015662\n",
       "Rating                       0.312686\n",
       "Fees                         0.751870\n",
       "Feedback                     1.188038\n",
       "Qualifications              -0.117821\n",
       "Location                     0.109032\n",
       "City_Bangalore               1.416677\n",
       "City_Chennai                 2.035059\n",
       "City_Coimbatore              4.816241\n",
       "City_Delhi                   1.509849\n",
       "City_Ernakulam               6.000437\n",
       "City_Hyderabad               1.860027\n",
       "City_Mumbai                  1.465681\n",
       "City_Thiruvananthapuram      8.146287\n",
       "City_Unknown                15.046180\n",
       "Profile_Ayurveda             2.176749\n",
       "Profile_Dentist              1.254545\n",
       "Profile_Dermatologists       1.725211\n",
       "Profile_ENT Specialist       2.308676\n",
       "Profile_General Medicine     1.525779\n",
       "Profile_Homeopath            2.058645\n",
       "dtype: float64"
      ]
     },
     "execution_count": 626,
     "metadata": {},
     "output_type": "execute_result"
    }
   ],
   "source": [
    "# Treating skewness for non-categorical columns.\n",
    "\n",
    "colms=['Experience','Feedback']\n",
    "from sklearn.preprocessing import power_transform\n",
    "\n",
    "for i in df[colms]:\n",
    "    if df[i].skew()>0.5:\n",
    "        df[i]= power_transform(df[i].values.reshape(-1,1))\n",
    "        \n",
    "    if df[i].skew()<-0.5:\n",
    "        df[i]= power_transform(df[i].values.reshape(-1,1))\n",
    "df.skew()"
   ]
  },
  {
   "cell_type": "markdown",
   "metadata": {},
   "source": [
    "The skwness is removed and minimized. lets proceed."
   ]
  },
  {
   "cell_type": "markdown",
   "metadata": {},
   "source": [
    "## Scaling"
   ]
  },
  {
   "cell_type": "code",
   "execution_count": 627,
   "metadata": {},
   "outputs": [],
   "source": [
    "# Lets split the data first into x and y first.\n",
    "\n",
    "x= df.drop(['Fees'], axis=1)\n",
    "y= df['Fees']"
   ]
  },
  {
   "cell_type": "code",
   "execution_count": 628,
   "metadata": {},
   "outputs": [
    {
     "data": {
      "text/html": [
       "<div>\n",
       "<style scoped>\n",
       "    .dataframe tbody tr th:only-of-type {\n",
       "        vertical-align: middle;\n",
       "    }\n",
       "\n",
       "    .dataframe tbody tr th {\n",
       "        vertical-align: top;\n",
       "    }\n",
       "\n",
       "    .dataframe thead th {\n",
       "        text-align: right;\n",
       "    }\n",
       "</style>\n",
       "<table border=\"1\" class=\"dataframe\">\n",
       "  <thead>\n",
       "    <tr style=\"text-align: right;\">\n",
       "      <th></th>\n",
       "      <th>Experience</th>\n",
       "      <th>Rating</th>\n",
       "      <th>Feedback</th>\n",
       "      <th>Qualifications</th>\n",
       "      <th>Location</th>\n",
       "      <th>City_Bangalore</th>\n",
       "      <th>City_Chennai</th>\n",
       "      <th>City_Coimbatore</th>\n",
       "      <th>City_Delhi</th>\n",
       "      <th>City_Ernakulam</th>\n",
       "      <th>City_Hyderabad</th>\n",
       "      <th>City_Mumbai</th>\n",
       "      <th>City_Thiruvananthapuram</th>\n",
       "      <th>City_Unknown</th>\n",
       "      <th>Profile_Ayurveda</th>\n",
       "      <th>Profile_Dentist</th>\n",
       "      <th>Profile_Dermatologists</th>\n",
       "      <th>Profile_ENT Specialist</th>\n",
       "      <th>Profile_General Medicine</th>\n",
       "      <th>Profile_Homeopath</th>\n",
       "    </tr>\n",
       "  </thead>\n",
       "  <tbody>\n",
       "    <tr>\n",
       "      <th>0</th>\n",
       "      <td>0.745287</td>\n",
       "      <td>1.316235</td>\n",
       "      <td>1.811741</td>\n",
       "      <td>-0.446806</td>\n",
       "      <td>-0.455031</td>\n",
       "      <td>-0.517193</td>\n",
       "      <td>-0.409207</td>\n",
       "      <td>-0.199424</td>\n",
       "      <td>-0.498112</td>\n",
       "      <td>6.161232</td>\n",
       "      <td>-0.435684</td>\n",
       "      <td>-0.507015</td>\n",
       "      <td>-0.120989</td>\n",
       "      <td>-0.066188</td>\n",
       "      <td>-0.389723</td>\n",
       "      <td>-0.553255</td>\n",
       "      <td>-0.458109</td>\n",
       "      <td>-0.372984</td>\n",
       "      <td>-0.494962</td>\n",
       "      <td>2.463975</td>\n",
       "    </tr>\n",
       "    <tr>\n",
       "      <th>1</th>\n",
       "      <td>-0.313543</td>\n",
       "      <td>1.230229</td>\n",
       "      <td>1.881217</td>\n",
       "      <td>-1.308363</td>\n",
       "      <td>1.730781</td>\n",
       "      <td>1.933513</td>\n",
       "      <td>-0.409207</td>\n",
       "      <td>-0.199424</td>\n",
       "      <td>-0.498112</td>\n",
       "      <td>-0.162305</td>\n",
       "      <td>-0.435684</td>\n",
       "      <td>-0.507015</td>\n",
       "      <td>-0.120989</td>\n",
       "      <td>-0.066188</td>\n",
       "      <td>2.565925</td>\n",
       "      <td>-0.553255</td>\n",
       "      <td>-0.458109</td>\n",
       "      <td>-0.372984</td>\n",
       "      <td>-0.494962</td>\n",
       "      <td>-0.405848</td>\n",
       "    </tr>\n",
       "    <tr>\n",
       "      <th>2</th>\n",
       "      <td>-0.685576</td>\n",
       "      <td>-0.876920</td>\n",
       "      <td>-0.575489</td>\n",
       "      <td>1.101077</td>\n",
       "      <td>0.153874</td>\n",
       "      <td>1.933513</td>\n",
       "      <td>-0.409207</td>\n",
       "      <td>-0.199424</td>\n",
       "      <td>-0.498112</td>\n",
       "      <td>-0.162305</td>\n",
       "      <td>-0.435684</td>\n",
       "      <td>-0.507015</td>\n",
       "      <td>-0.120989</td>\n",
       "      <td>-0.066188</td>\n",
       "      <td>-0.389723</td>\n",
       "      <td>-0.553255</td>\n",
       "      <td>-0.458109</td>\n",
       "      <td>2.681079</td>\n",
       "      <td>-0.494962</td>\n",
       "      <td>-0.405848</td>\n",
       "    </tr>\n",
       "    <tr>\n",
       "      <th>3</th>\n",
       "      <td>-0.313543</td>\n",
       "      <td>-0.876920</td>\n",
       "      <td>-0.575489</td>\n",
       "      <td>-0.286176</td>\n",
       "      <td>-1.344969</td>\n",
       "      <td>1.933513</td>\n",
       "      <td>-0.409207</td>\n",
       "      <td>-0.199424</td>\n",
       "      <td>-0.498112</td>\n",
       "      <td>-0.162305</td>\n",
       "      <td>-0.435684</td>\n",
       "      <td>-0.507015</td>\n",
       "      <td>-0.120989</td>\n",
       "      <td>-0.066188</td>\n",
       "      <td>2.565925</td>\n",
       "      <td>-0.553255</td>\n",
       "      <td>-0.458109</td>\n",
       "      <td>-0.372984</td>\n",
       "      <td>-0.494962</td>\n",
       "      <td>-0.405848</td>\n",
       "    </tr>\n",
       "    <tr>\n",
       "      <th>4</th>\n",
       "      <td>0.442473</td>\n",
       "      <td>1.316235</td>\n",
       "      <td>1.535172</td>\n",
       "      <td>-1.580946</td>\n",
       "      <td>-0.302805</td>\n",
       "      <td>-0.517193</td>\n",
       "      <td>2.443753</td>\n",
       "      <td>-0.199424</td>\n",
       "      <td>-0.498112</td>\n",
       "      <td>-0.162305</td>\n",
       "      <td>-0.435684</td>\n",
       "      <td>-0.507015</td>\n",
       "      <td>-0.120989</td>\n",
       "      <td>-0.066188</td>\n",
       "      <td>2.565925</td>\n",
       "      <td>-0.553255</td>\n",
       "      <td>-0.458109</td>\n",
       "      <td>-0.372984</td>\n",
       "      <td>-0.494962</td>\n",
       "      <td>-0.405848</td>\n",
       "    </tr>\n",
       "    <tr>\n",
       "      <th>...</th>\n",
       "      <td>...</td>\n",
       "      <td>...</td>\n",
       "      <td>...</td>\n",
       "      <td>...</td>\n",
       "      <td>...</td>\n",
       "      <td>...</td>\n",
       "      <td>...</td>\n",
       "      <td>...</td>\n",
       "      <td>...</td>\n",
       "      <td>...</td>\n",
       "      <td>...</td>\n",
       "      <td>...</td>\n",
       "      <td>...</td>\n",
       "      <td>...</td>\n",
       "      <td>...</td>\n",
       "      <td>...</td>\n",
       "      <td>...</td>\n",
       "      <td>...</td>\n",
       "      <td>...</td>\n",
       "      <td>...</td>\n",
       "    </tr>\n",
       "    <tr>\n",
       "      <th>5956</th>\n",
       "      <td>0.360570</td>\n",
       "      <td>1.230229</td>\n",
       "      <td>1.869601</td>\n",
       "      <td>1.101077</td>\n",
       "      <td>-1.337162</td>\n",
       "      <td>1.933513</td>\n",
       "      <td>-0.409207</td>\n",
       "      <td>-0.199424</td>\n",
       "      <td>-0.498112</td>\n",
       "      <td>-0.162305</td>\n",
       "      <td>-0.435684</td>\n",
       "      <td>-0.507015</td>\n",
       "      <td>-0.120989</td>\n",
       "      <td>-0.066188</td>\n",
       "      <td>-0.389723</td>\n",
       "      <td>-0.553255</td>\n",
       "      <td>-0.458109</td>\n",
       "      <td>2.681079</td>\n",
       "      <td>-0.494962</td>\n",
       "      <td>-0.405848</td>\n",
       "    </tr>\n",
       "    <tr>\n",
       "      <th>5957</th>\n",
       "      <td>1.320779</td>\n",
       "      <td>-0.876920</td>\n",
       "      <td>-0.575489</td>\n",
       "      <td>0.176241</td>\n",
       "      <td>0.477842</td>\n",
       "      <td>-0.517193</td>\n",
       "      <td>2.443753</td>\n",
       "      <td>-0.199424</td>\n",
       "      <td>-0.498112</td>\n",
       "      <td>-0.162305</td>\n",
       "      <td>-0.435684</td>\n",
       "      <td>-0.507015</td>\n",
       "      <td>-0.120989</td>\n",
       "      <td>-0.066188</td>\n",
       "      <td>-0.389723</td>\n",
       "      <td>-0.553255</td>\n",
       "      <td>-0.458109</td>\n",
       "      <td>-0.372984</td>\n",
       "      <td>2.020357</td>\n",
       "      <td>-0.405848</td>\n",
       "    </tr>\n",
       "    <tr>\n",
       "      <th>5958</th>\n",
       "      <td>1.749842</td>\n",
       "      <td>1.187226</td>\n",
       "      <td>1.768745</td>\n",
       "      <td>0.176241</td>\n",
       "      <td>-0.771193</td>\n",
       "      <td>-0.517193</td>\n",
       "      <td>-0.409207</td>\n",
       "      <td>-0.199424</td>\n",
       "      <td>2.007581</td>\n",
       "      <td>-0.162305</td>\n",
       "      <td>-0.435684</td>\n",
       "      <td>-0.507015</td>\n",
       "      <td>-0.120989</td>\n",
       "      <td>-0.066188</td>\n",
       "      <td>-0.389723</td>\n",
       "      <td>-0.553255</td>\n",
       "      <td>-0.458109</td>\n",
       "      <td>-0.372984</td>\n",
       "      <td>2.020357</td>\n",
       "      <td>-0.405848</td>\n",
       "    </tr>\n",
       "    <tr>\n",
       "      <th>5959</th>\n",
       "      <td>0.000822</td>\n",
       "      <td>0.886205</td>\n",
       "      <td>-0.575489</td>\n",
       "      <td>1.023196</td>\n",
       "      <td>1.672232</td>\n",
       "      <td>-0.517193</td>\n",
       "      <td>-0.409207</td>\n",
       "      <td>-0.199424</td>\n",
       "      <td>-0.498112</td>\n",
       "      <td>-0.162305</td>\n",
       "      <td>-0.435684</td>\n",
       "      <td>1.972327</td>\n",
       "      <td>-0.120989</td>\n",
       "      <td>-0.066188</td>\n",
       "      <td>-0.389723</td>\n",
       "      <td>-0.553255</td>\n",
       "      <td>-0.458109</td>\n",
       "      <td>-0.372984</td>\n",
       "      <td>2.020357</td>\n",
       "      <td>-0.405848</td>\n",
       "    </tr>\n",
       "    <tr>\n",
       "      <th>5960</th>\n",
       "      <td>0.187742</td>\n",
       "      <td>1.316235</td>\n",
       "      <td>-0.575489</td>\n",
       "      <td>-0.841078</td>\n",
       "      <td>0.719843</td>\n",
       "      <td>-0.517193</td>\n",
       "      <td>-0.409207</td>\n",
       "      <td>-0.199424</td>\n",
       "      <td>2.007581</td>\n",
       "      <td>-0.162305</td>\n",
       "      <td>-0.435684</td>\n",
       "      <td>-0.507015</td>\n",
       "      <td>-0.120989</td>\n",
       "      <td>-0.066188</td>\n",
       "      <td>-0.389723</td>\n",
       "      <td>1.807485</td>\n",
       "      <td>-0.458109</td>\n",
       "      <td>-0.372984</td>\n",
       "      <td>-0.494962</td>\n",
       "      <td>-0.405848</td>\n",
       "    </tr>\n",
       "  </tbody>\n",
       "</table>\n",
       "<p>5961 rows × 20 columns</p>\n",
       "</div>"
      ],
      "text/plain": [
       "      Experience    Rating  Feedback  Qualifications  Location  \\\n",
       "0       0.745287  1.316235  1.811741       -0.446806 -0.455031   \n",
       "1      -0.313543  1.230229  1.881217       -1.308363  1.730781   \n",
       "2      -0.685576 -0.876920 -0.575489        1.101077  0.153874   \n",
       "3      -0.313543 -0.876920 -0.575489       -0.286176 -1.344969   \n",
       "4       0.442473  1.316235  1.535172       -1.580946 -0.302805   \n",
       "...          ...       ...       ...             ...       ...   \n",
       "5956    0.360570  1.230229  1.869601        1.101077 -1.337162   \n",
       "5957    1.320779 -0.876920 -0.575489        0.176241  0.477842   \n",
       "5958    1.749842  1.187226  1.768745        0.176241 -0.771193   \n",
       "5959    0.000822  0.886205 -0.575489        1.023196  1.672232   \n",
       "5960    0.187742  1.316235 -0.575489       -0.841078  0.719843   \n",
       "\n",
       "      City_Bangalore  City_Chennai  City_Coimbatore  City_Delhi  \\\n",
       "0          -0.517193     -0.409207        -0.199424   -0.498112   \n",
       "1           1.933513     -0.409207        -0.199424   -0.498112   \n",
       "2           1.933513     -0.409207        -0.199424   -0.498112   \n",
       "3           1.933513     -0.409207        -0.199424   -0.498112   \n",
       "4          -0.517193      2.443753        -0.199424   -0.498112   \n",
       "...              ...           ...              ...         ...   \n",
       "5956        1.933513     -0.409207        -0.199424   -0.498112   \n",
       "5957       -0.517193      2.443753        -0.199424   -0.498112   \n",
       "5958       -0.517193     -0.409207        -0.199424    2.007581   \n",
       "5959       -0.517193     -0.409207        -0.199424   -0.498112   \n",
       "5960       -0.517193     -0.409207        -0.199424    2.007581   \n",
       "\n",
       "      City_Ernakulam  City_Hyderabad  City_Mumbai  City_Thiruvananthapuram  \\\n",
       "0           6.161232       -0.435684    -0.507015                -0.120989   \n",
       "1          -0.162305       -0.435684    -0.507015                -0.120989   \n",
       "2          -0.162305       -0.435684    -0.507015                -0.120989   \n",
       "3          -0.162305       -0.435684    -0.507015                -0.120989   \n",
       "4          -0.162305       -0.435684    -0.507015                -0.120989   \n",
       "...              ...             ...          ...                      ...   \n",
       "5956       -0.162305       -0.435684    -0.507015                -0.120989   \n",
       "5957       -0.162305       -0.435684    -0.507015                -0.120989   \n",
       "5958       -0.162305       -0.435684    -0.507015                -0.120989   \n",
       "5959       -0.162305       -0.435684     1.972327                -0.120989   \n",
       "5960       -0.162305       -0.435684    -0.507015                -0.120989   \n",
       "\n",
       "      City_Unknown  Profile_Ayurveda  Profile_Dentist  Profile_Dermatologists  \\\n",
       "0        -0.066188         -0.389723        -0.553255               -0.458109   \n",
       "1        -0.066188          2.565925        -0.553255               -0.458109   \n",
       "2        -0.066188         -0.389723        -0.553255               -0.458109   \n",
       "3        -0.066188          2.565925        -0.553255               -0.458109   \n",
       "4        -0.066188          2.565925        -0.553255               -0.458109   \n",
       "...            ...               ...              ...                     ...   \n",
       "5956     -0.066188         -0.389723        -0.553255               -0.458109   \n",
       "5957     -0.066188         -0.389723        -0.553255               -0.458109   \n",
       "5958     -0.066188         -0.389723        -0.553255               -0.458109   \n",
       "5959     -0.066188         -0.389723        -0.553255               -0.458109   \n",
       "5960     -0.066188         -0.389723         1.807485               -0.458109   \n",
       "\n",
       "      Profile_ENT Specialist  Profile_General Medicine  Profile_Homeopath  \n",
       "0                  -0.372984                 -0.494962           2.463975  \n",
       "1                  -0.372984                 -0.494962          -0.405848  \n",
       "2                   2.681079                 -0.494962          -0.405848  \n",
       "3                  -0.372984                 -0.494962          -0.405848  \n",
       "4                  -0.372984                 -0.494962          -0.405848  \n",
       "...                      ...                       ...                ...  \n",
       "5956                2.681079                 -0.494962          -0.405848  \n",
       "5957               -0.372984                  2.020357          -0.405848  \n",
       "5958               -0.372984                  2.020357          -0.405848  \n",
       "5959               -0.372984                  2.020357          -0.405848  \n",
       "5960               -0.372984                 -0.494962          -0.405848  \n",
       "\n",
       "[5961 rows x 20 columns]"
      ]
     },
     "execution_count": 628,
     "metadata": {},
     "output_type": "execute_result"
    }
   ],
   "source": [
    "from sklearn.preprocessing import StandardScaler\n",
    "\n",
    "\n",
    "scaler= StandardScaler()\n",
    "x= pd.DataFrame(scaler.fit_transform(x), columns=x.columns)\n",
    "x"
   ]
  },
  {
   "cell_type": "markdown",
   "metadata": {},
   "source": [
    "Our data is scaled. now lets proceed."
   ]
  },
  {
   "cell_type": "markdown",
   "metadata": {},
   "source": [
    "## Finding best random state"
   ]
  },
  {
   "cell_type": "code",
   "execution_count": 629,
   "metadata": {},
   "outputs": [
    {
     "name": "stdout",
     "output_type": "stream",
     "text": [
      "Best score:  0.21528145231658602 on random state 44\n"
     ]
    }
   ],
   "source": [
    "maxscr=0\n",
    "maxrs=0\n",
    "for i in range(1,150):\n",
    "    x_train,x_test,y_train,y_test= train_test_split(x,y, test_size=.2,random_state=i)\n",
    "    lr= LinearRegression()\n",
    "    lr.fit(x_train,y_train)\n",
    "    predlr= lr.predict(x_test)\n",
    "    scr= r2_score(y_test,predlr)\n",
    "    if scr>maxscr:\n",
    "        maxscr=scr\n",
    "        maxrs= i\n",
    "print('Best score: ', maxscr,'on random state', maxrs)"
   ]
  },
  {
   "cell_type": "markdown",
   "metadata": {},
   "source": [
    "We found the best score for random state 44"
   ]
  },
  {
   "cell_type": "markdown",
   "metadata": {},
   "source": [
    "### Creating training and validation split."
   ]
  },
  {
   "cell_type": "code",
   "execution_count": 630,
   "metadata": {},
   "outputs": [],
   "source": [
    "# Creating split for training and validation using the best random state.\n",
    "\n",
    "x_train,x_test,y_train,y_test= train_test_split(x,y, test_size=.2,random_state=44)"
   ]
  },
  {
   "cell_type": "markdown",
   "metadata": {},
   "source": [
    "## Model creation"
   ]
  },
  {
   "cell_type": "code",
   "execution_count": 631,
   "metadata": {},
   "outputs": [
    {
     "name": "stdout",
     "output_type": "stream",
     "text": [
      "Score:  0.16814762018790597\n",
      "r2 score:  0.21528145231658602\n",
      "Mean absolute error: 133.64144362106697\n",
      "Mean squared error: 29576.39999775219\n",
      "Root mean squared error: 171.9779055511265\n"
     ]
    }
   ],
   "source": [
    "lr.fit(x_train,y_train)\n",
    "predlr= lr.predict(x_test)\n",
    "print('Score: ',lr.score(x_train,y_train))\n",
    "print('r2 score: ', r2_score(y_test,predlr))\n",
    "print('Mean absolute error:', mean_absolute_error(y_test,predlr))\n",
    "print('Mean squared error:', mean_squared_error(y_test,predlr))\n",
    "print('Root mean squared error:', np.sqrt(mean_squared_error(y_test,predlr)))"
   ]
  },
  {
   "cell_type": "code",
   "execution_count": 632,
   "metadata": {},
   "outputs": [
    {
     "name": "stdout",
     "output_type": "stream",
     "text": [
      "Score:  0.9985482323211805\n",
      "r2 score:  -0.3921789154256077\n",
      "Mean absolute error: 159.6839899413244\n",
      "Mean squared error: 52471.858340318526\n",
      "Root mean squared error: 229.06736638010776\n"
     ]
    }
   ],
   "source": [
    "from sklearn.tree import DecisionTreeRegressor\n",
    "dt= DecisionTreeRegressor()\n",
    "dt.fit(x_train,y_train)\n",
    "preddt= dt.predict(x_test)\n",
    "print('Score: ',dt.score(x_train,y_train))\n",
    "print('r2 score: ', r2_score(y_test,preddt))\n",
    "print('Mean absolute error:', mean_absolute_error(y_test,preddt))\n",
    "print('Mean squared error:', mean_squared_error(y_test,preddt))\n",
    "print('Root mean squared error:', np.sqrt(mean_squared_error(y_test,preddt)))"
   ]
  },
  {
   "cell_type": "code",
   "execution_count": 633,
   "metadata": {},
   "outputs": [
    {
     "name": "stdout",
     "output_type": "stream",
     "text": [
      "Score:  0.8838640641894612\n",
      "r2 score:  0.23888637773042254\n",
      "Mean absolute error: 127.71748822496309\n",
      "Mean squared error: 28686.719591933113\n",
      "Root mean squared error: 169.37154304053888\n"
     ]
    }
   ],
   "source": [
    "from sklearn.ensemble import RandomForestRegressor\n",
    "fr=RandomForestRegressor()\n",
    "fr.fit(x_train,y_train)\n",
    "predfr=fr.predict(x_test)\n",
    "print('Score: ',fr.score(x_train,y_train))\n",
    "print('r2 score: ', r2_score(y_test,predfr))\n",
    "print('Mean absolute error:', mean_absolute_error(y_test,predfr))\n",
    "print('Mean squared error:', mean_squared_error(y_test,predfr))\n",
    "print('Root mean squared error:', np.sqrt(mean_squared_error(y_test,predfr)))"
   ]
  },
  {
   "cell_type": "code",
   "execution_count": 634,
   "metadata": {},
   "outputs": [
    {
     "name": "stdout",
     "output_type": "stream",
     "text": [
      "Score:  0.09793295904616217\n",
      "r2 score:  0.11760513960262875\n",
      "Mean absolute error: 138.8190754563456\n",
      "Mean squared error: 33257.8647772734\n",
      "Root mean squared error: 182.36738956642824\n"
     ]
    }
   ],
   "source": [
    "from sklearn.svm import SVR\n",
    "svr= SVR()\n",
    "svr.fit(x_train,y_train)\n",
    "preds= svr.predict(x_test)\n",
    "print('Score: ',svr.score(x_train,y_train))\n",
    "print('r2 score: ', r2_score(y_test,preds))\n",
    "print('Mean absolute error:', mean_absolute_error(y_test,preds))\n",
    "print('Mean squared error:', mean_squared_error(y_test,preds))\n",
    "print('Root mean squared error:', np.sqrt(mean_squared_error(y_test,preds)))"
   ]
  },
  {
   "cell_type": "code",
   "execution_count": 635,
   "metadata": {},
   "outputs": [
    {
     "name": "stdout",
     "output_type": "stream",
     "text": [
      "Score:  0.1681081071331797\n",
      "r2 score:  0.2121823533757684\n",
      "Mean absolute error: 134.1689448429028\n",
      "Mean squared error: 29693.206450431077\n",
      "Root mean squared error: 172.31716818248574\n"
     ]
    }
   ],
   "source": [
    "# Regularization\n",
    "\n",
    "from sklearn.linear_model import Lasso\n",
    "\n",
    "ls= Lasso()\n",
    "ls.fit(x_train,y_train)\n",
    "predls= ls.predict(x_test)\n",
    "print('Score: ',ls.score(x_train,y_train))\n",
    "print('r2 score: ', r2_score(y_test,predls))\n",
    "print('Mean absolute error:', mean_absolute_error(y_test,predls))\n",
    "print('Mean squared error:', mean_squared_error(y_test,predls))\n",
    "print('Root mean squared error:', np.sqrt(mean_squared_error(y_test,predls)))"
   ]
  },
  {
   "cell_type": "code",
   "execution_count": 636,
   "metadata": {},
   "outputs": [
    {
     "name": "stdout",
     "output_type": "stream",
     "text": [
      "Score:  0.7336225283373852\n",
      "r2 score:  0.22859427376978703\n",
      "Mean absolute error: 129.19099568841042\n",
      "Mean squared error: 29074.63368477167\n",
      "Root mean squared error: 170.51285489596282\n"
     ]
    }
   ],
   "source": [
    "from xgboost import XGBRegressor\n",
    "xg = XGBRegressor()\n",
    "xg.fit(x_train,y_train)\n",
    "predx= xg.predict(x_test)\n",
    "print('Score: ',xg.score(x_train,y_train))\n",
    "print('r2 score: ', r2_score(y_test,predx))\n",
    "print('Mean absolute error:', mean_absolute_error(y_test,predx))\n",
    "print('Mean squared error:', mean_squared_error(y_test,predx))\n",
    "print('Root mean squared error:', np.sqrt(mean_squared_error(y_test,predx)))"
   ]
  },
  {
   "cell_type": "markdown",
   "metadata": {},
   "source": [
    "Here random forest reg and xgboost are giving us a better score and less errors. lets check cv score for over and under fitting."
   ]
  },
  {
   "cell_type": "markdown",
   "metadata": {},
   "source": [
    "## Checking cross validation score"
   ]
  },
  {
   "cell_type": "code",
   "execution_count": 637,
   "metadata": {},
   "outputs": [
    {
     "name": "stdout",
     "output_type": "stream",
     "text": [
      "cross validation score for linear reg model:  0.1715985246060183\n"
     ]
    }
   ],
   "source": [
    "from sklearn.model_selection import cross_val_score\n",
    "\n",
    "scr= cross_val_score(lr,x,y,cv=5)\n",
    "print('cross validation score for linear reg model: ', scr.mean())"
   ]
  },
  {
   "cell_type": "code",
   "execution_count": 638,
   "metadata": {},
   "outputs": [
    {
     "name": "stdout",
     "output_type": "stream",
     "text": [
      "cross validation score for Decision tree reg model:  -0.4936705689094912\n"
     ]
    }
   ],
   "source": [
    "scr= cross_val_score(dt,x,y,cv=5)\n",
    "print('cross validation score for Decision tree reg model: ', scr.mean())"
   ]
  },
  {
   "cell_type": "code",
   "execution_count": 639,
   "metadata": {},
   "outputs": [
    {
     "name": "stdout",
     "output_type": "stream",
     "text": [
      "cross validation score for Random forest reg model:  0.1823480488006991\n"
     ]
    }
   ],
   "source": [
    "scr= cross_val_score(fr,x,y,cv=5)\n",
    "print('cross validation score for Random forest reg model: ', scr.mean())"
   ]
  },
  {
   "cell_type": "code",
   "execution_count": 640,
   "metadata": {},
   "outputs": [
    {
     "name": "stdout",
     "output_type": "stream",
     "text": [
      "cross validation score for support vector reg model:  0.10189417662052605\n"
     ]
    }
   ],
   "source": [
    "scr= cross_val_score(svr,x,y,cv=5)\n",
    "print('cross validation score for support vector reg model: ', scr.mean())"
   ]
  },
  {
   "cell_type": "code",
   "execution_count": 641,
   "metadata": {},
   "outputs": [
    {
     "name": "stdout",
     "output_type": "stream",
     "text": [
      "cross validation score for lasso reg model:  0.17173671632815857\n"
     ]
    }
   ],
   "source": [
    "scr= cross_val_score(ls,x,y,cv=5)\n",
    "print('cross validation score for lasso reg model: ', scr.mean())"
   ]
  },
  {
   "cell_type": "code",
   "execution_count": 642,
   "metadata": {},
   "outputs": [
    {
     "name": "stdout",
     "output_type": "stream",
     "text": [
      "cross validation score for xgboost model:  0.19213452486931656\n"
     ]
    }
   ],
   "source": [
    "scr= cross_val_score(xg,x,y,cv=5)\n",
    "print('cross validation score for xgboost model: ', scr.mean())"
   ]
  },
  {
   "cell_type": "markdown",
   "metadata": {},
   "source": [
    "We can see random forest and xgboost are giving us the best score. Also the difference between the cv score and r2 score is lesser in both the models. lets hyperparameter tune both and find the best model."
   ]
  },
  {
   "cell_type": "markdown",
   "metadata": {},
   "source": [
    "## Hyper parameter tuning"
   ]
  },
  {
   "cell_type": "code",
   "execution_count": 643,
   "metadata": {},
   "outputs": [
    {
     "data": {
      "text/plain": [
       "RandomizedSearchCV(cv=5, estimator=RandomForestRegressor(),\n",
       "                   param_distributions={'criterion': ['mse', 'mae'],\n",
       "                                        'max_features': ['auto', 'sqrt',\n",
       "                                                         'log2'],\n",
       "                                        'n_estimators': [100]})"
      ]
     },
     "execution_count": 643,
     "metadata": {},
     "output_type": "execute_result"
    }
   ],
   "source": [
    "from sklearn.model_selection import RandomizedSearchCV\n",
    "\n",
    "par= {'n_estimators': [100],'criterion':['mse','mae'], 'max_features' : [\"auto\", \"sqrt\", \"log2\"]}\n",
    "\n",
    "rcvfr= RandomizedSearchCV(fr,par,cv=5) \n",
    "rcvfr.fit(x_train,y_train)"
   ]
  },
  {
   "cell_type": "code",
   "execution_count": 644,
   "metadata": {},
   "outputs": [
    {
     "data": {
      "text/plain": [
       "{'n_estimators': 100, 'max_features': 'sqrt', 'criterion': 'mae'}"
      ]
     },
     "execution_count": 644,
     "metadata": {},
     "output_type": "execute_result"
    }
   ],
   "source": [
    "rcvfr.best_params_"
   ]
  },
  {
   "cell_type": "code",
   "execution_count": 645,
   "metadata": {},
   "outputs": [
    {
     "name": "stdout",
     "output_type": "stream",
     "text": [
      "Score:  0.7312507194252627\n",
      "r2 score:  0.2509283487941687\n",
      "Mean absolute error: 125.90943000838224\n",
      "Mean squared error: 28232.852209807203\n",
      "Root mean squared error: 168.02634379705822\n"
     ]
    }
   ],
   "source": [
    "# Now using the above parameter which is found to be best, we create our model.\n",
    "\n",
    "finalmodel1= RandomForestRegressor(n_estimators= 100, max_features= 'sqrt', criterion= 'mae')\n",
    "finalmodel1.fit(x_train,y_train)\n",
    "predf1=finalmodel1.predict(x_test)\n",
    "print('Score: ',finalmodel1.score(x_train,y_train))\n",
    "print('r2 score: ', r2_score(y_test,predf1))\n",
    "print('Mean absolute error:', mean_absolute_error(y_test,predf1))\n",
    "print('Mean squared error:', mean_squared_error(y_test,predf1))\n",
    "print('Root mean squared error:', np.sqrt(mean_squared_error(y_test,predf1)))"
   ]
  },
  {
   "cell_type": "markdown",
   "metadata": {},
   "source": [
    "With the random forest model we are getting a train score of 73% and an r2 score of 25%. with the errors being less."
   ]
  },
  {
   "cell_type": "code",
   "execution_count": 495,
   "metadata": {},
   "outputs": [
    {
     "data": {
      "text/plain": [
       "{'max_depth': 4}"
      ]
     },
     "execution_count": 495,
     "metadata": {},
     "output_type": "execute_result"
    }
   ],
   "source": [
    "par1= {'max_depth': np.arange(1,10)}\n",
    "\n",
    "gcvxg= GridSearchCV(xg,par1,cv=5) \n",
    "gcvxg.fit(x_train,y_train)\n",
    "gcvxg.best_params_"
   ]
  },
  {
   "cell_type": "code",
   "execution_count": 503,
   "metadata": {},
   "outputs": [
    {
     "name": "stdout",
     "output_type": "stream",
     "text": [
      "Score:  0.49281517755052373\n",
      "r2 score:  0.2583688140257343\n",
      "Mean absolute error: 126.31884408776538\n",
      "Mean squared error: 27952.41768139214\n",
      "Root mean squared error: 167.18976548040297\n"
     ]
    }
   ],
   "source": [
    "# Now using the above parameter which is found to be best, we create our model.\n",
    "\n",
    "finalmodel2= XGBRegressor(max_depth=4)\n",
    "finalmodel2.fit(x_train,y_train)\n",
    "predf2=finalmodel2.predict(x_test)\n",
    "print('Score: ',finalmodel2.score(x_train,y_train))\n",
    "print('r2 score: ', r2_score(y_test,predf2))\n",
    "print('Mean absolute error:', mean_absolute_error(y_test,predf2))\n",
    "print('Mean squared error:', mean_squared_error(y_test,predf2))\n",
    "print('Root mean squared error:', np.sqrt(mean_squared_error(y_test,predf2)))"
   ]
  },
  {
   "cell_type": "markdown",
   "metadata": {},
   "source": [
    "Here xgboost is giving us a training score of 49% and r2 score of 26%."
   ]
  },
  {
   "cell_type": "markdown",
   "metadata": {},
   "source": [
    "By trying many approach for pre processing, feature engineering with hit and trial we could manage a final r2 score of 26%."
   ]
  },
  {
   "cell_type": "markdown",
   "metadata": {},
   "source": [
    " By analysing the models, we can say that random forest model is performing better, as its training score is more. so we make it our final model."
   ]
  },
  {
   "cell_type": "markdown",
   "metadata": {},
   "source": [
    "## Saving the model"
   ]
  },
  {
   "cell_type": "code",
   "execution_count": 649,
   "metadata": {},
   "outputs": [
    {
     "data": {
      "text/plain": [
       "['doc_consultation.pkl']"
      ]
     },
     "execution_count": 649,
     "metadata": {},
     "output_type": "execute_result"
    }
   ],
   "source": [
    "import joblib\n",
    "\n",
    "joblib.dump(finalmodel1,'doc_consultation.pkl')"
   ]
  },
  {
   "cell_type": "markdown",
   "metadata": {},
   "source": [
    "## Pre Processing the test data. "
   ]
  },
  {
   "cell_type": "code",
   "execution_count": 653,
   "metadata": {},
   "outputs": [
    {
     "data": {
      "text/html": [
       "<div>\n",
       "<style scoped>\n",
       "    .dataframe tbody tr th:only-of-type {\n",
       "        vertical-align: middle;\n",
       "    }\n",
       "\n",
       "    .dataframe tbody tr th {\n",
       "        vertical-align: top;\n",
       "    }\n",
       "\n",
       "    .dataframe thead th {\n",
       "        text-align: right;\n",
       "    }\n",
       "</style>\n",
       "<table border=\"1\" class=\"dataframe\">\n",
       "  <thead>\n",
       "    <tr style=\"text-align: right;\">\n",
       "      <th></th>\n",
       "      <th>Qualification</th>\n",
       "      <th>Experience</th>\n",
       "      <th>Rating</th>\n",
       "      <th>Place</th>\n",
       "      <th>Profile</th>\n",
       "      <th>Miscellaneous_Info</th>\n",
       "    </tr>\n",
       "  </thead>\n",
       "  <tbody>\n",
       "    <tr>\n",
       "      <th>0</th>\n",
       "      <td>MBBS</td>\n",
       "      <td>35 years experience</td>\n",
       "      <td>NaN</td>\n",
       "      <td>Ghatkopar East, Mumbai</td>\n",
       "      <td>General Medicine</td>\n",
       "      <td>NaN</td>\n",
       "    </tr>\n",
       "    <tr>\n",
       "      <th>1</th>\n",
       "      <td>MBBS, Diploma in Otorhinolaryngology (DLO)</td>\n",
       "      <td>31 years experience</td>\n",
       "      <td>NaN</td>\n",
       "      <td>West Marredpally, Hyderabad</td>\n",
       "      <td>ENT Specialist</td>\n",
       "      <td>NaN</td>\n",
       "    </tr>\n",
       "    <tr>\n",
       "      <th>2</th>\n",
       "      <td>MBBS, DDVL</td>\n",
       "      <td>40 years experience</td>\n",
       "      <td>70%</td>\n",
       "      <td>KK Nagar, Chennai</td>\n",
       "      <td>Dermatologists</td>\n",
       "      <td>70% 4 Feedback KK Nagar, Chennai</td>\n",
       "    </tr>\n",
       "    <tr>\n",
       "      <th>3</th>\n",
       "      <td>BAMS</td>\n",
       "      <td>0 years experience</td>\n",
       "      <td>NaN</td>\n",
       "      <td>New Ashok Nagar, Delhi</td>\n",
       "      <td>Ayurveda</td>\n",
       "      <td>NaN</td>\n",
       "    </tr>\n",
       "    <tr>\n",
       "      <th>4</th>\n",
       "      <td>BDS, MDS - Conservative Dentistry &amp; Endodontics</td>\n",
       "      <td>16 years experience</td>\n",
       "      <td>100%</td>\n",
       "      <td>Kanakpura Road, Bangalore</td>\n",
       "      <td>Dentist</td>\n",
       "      <td>General Dentistry Conservative Dentistry Cosme...</td>\n",
       "    </tr>\n",
       "    <tr>\n",
       "      <th>...</th>\n",
       "      <td>...</td>\n",
       "      <td>...</td>\n",
       "      <td>...</td>\n",
       "      <td>...</td>\n",
       "      <td>...</td>\n",
       "      <td>...</td>\n",
       "    </tr>\n",
       "    <tr>\n",
       "      <th>1982</th>\n",
       "      <td>BAMS, Doctor of Medicine</td>\n",
       "      <td>10 years experience</td>\n",
       "      <td>NaN</td>\n",
       "      <td>Basavanagudi, Bangalore</td>\n",
       "      <td>Ayurveda</td>\n",
       "      <td>NaN</td>\n",
       "    </tr>\n",
       "    <tr>\n",
       "      <th>1983</th>\n",
       "      <td>MD - Dermatology , Venereology &amp; Leprosy, MBBS</td>\n",
       "      <td>4 years experience</td>\n",
       "      <td>NaN</td>\n",
       "      <td>Choolai, Chennai</td>\n",
       "      <td>Dermatologists</td>\n",
       "      <td>NaN</td>\n",
       "    </tr>\n",
       "    <tr>\n",
       "      <th>1984</th>\n",
       "      <td>MBBS, MD / MS - Obstetrics &amp; Gynaecology</td>\n",
       "      <td>9 years experience</td>\n",
       "      <td>NaN</td>\n",
       "      <td>Porur, Chennai</td>\n",
       "      <td>General Medicine</td>\n",
       "      <td>NaN</td>\n",
       "    </tr>\n",
       "    <tr>\n",
       "      <th>1985</th>\n",
       "      <td>BDS</td>\n",
       "      <td>12 years experience</td>\n",
       "      <td>98%</td>\n",
       "      <td>Arekere, Bangalore</td>\n",
       "      <td>Dentist</td>\n",
       "      <td>RCT - Root Canal Treatment Root Canal Treatmen...</td>\n",
       "    </tr>\n",
       "    <tr>\n",
       "      <th>1986</th>\n",
       "      <td>MBBS, MD - Dermatology , Venereology &amp; Leprosy</td>\n",
       "      <td>8 years experience</td>\n",
       "      <td>NaN</td>\n",
       "      <td>Pallikaranai, Chennai</td>\n",
       "      <td>Dermatologists</td>\n",
       "      <td>1 Feedback Pallikaranai, Chennai ?500</td>\n",
       "    </tr>\n",
       "  </tbody>\n",
       "</table>\n",
       "<p>1987 rows × 6 columns</p>\n",
       "</div>"
      ],
      "text/plain": [
       "                                        Qualification           Experience  \\\n",
       "0                                                MBBS  35 years experience   \n",
       "1          MBBS, Diploma in Otorhinolaryngology (DLO)  31 years experience   \n",
       "2                                          MBBS, DDVL  40 years experience   \n",
       "3                                                BAMS   0 years experience   \n",
       "4     BDS, MDS - Conservative Dentistry & Endodontics  16 years experience   \n",
       "...                                               ...                  ...   \n",
       "1982                         BAMS, Doctor of Medicine  10 years experience   \n",
       "1983   MD - Dermatology , Venereology & Leprosy, MBBS   4 years experience   \n",
       "1984         MBBS, MD / MS - Obstetrics & Gynaecology   9 years experience   \n",
       "1985                                              BDS  12 years experience   \n",
       "1986   MBBS, MD - Dermatology , Venereology & Leprosy   8 years experience   \n",
       "\n",
       "     Rating                        Place           Profile  \\\n",
       "0       NaN       Ghatkopar East, Mumbai  General Medicine   \n",
       "1       NaN  West Marredpally, Hyderabad    ENT Specialist   \n",
       "2       70%            KK Nagar, Chennai    Dermatologists   \n",
       "3       NaN       New Ashok Nagar, Delhi          Ayurveda   \n",
       "4      100%    Kanakpura Road, Bangalore           Dentist   \n",
       "...     ...                          ...               ...   \n",
       "1982    NaN      Basavanagudi, Bangalore          Ayurveda   \n",
       "1983    NaN             Choolai, Chennai    Dermatologists   \n",
       "1984    NaN               Porur, Chennai  General Medicine   \n",
       "1985    98%           Arekere, Bangalore           Dentist   \n",
       "1986    NaN        Pallikaranai, Chennai    Dermatologists   \n",
       "\n",
       "                                     Miscellaneous_Info  \n",
       "0                                                   NaN  \n",
       "1                                                   NaN  \n",
       "2                      70% 4 Feedback KK Nagar, Chennai  \n",
       "3                                                   NaN  \n",
       "4     General Dentistry Conservative Dentistry Cosme...  \n",
       "...                                                 ...  \n",
       "1982                                                NaN  \n",
       "1983                                                NaN  \n",
       "1984                                                NaN  \n",
       "1985  RCT - Root Canal Treatment Root Canal Treatmen...  \n",
       "1986              1 Feedback Pallikaranai, Chennai ?500  \n",
       "\n",
       "[1987 rows x 6 columns]"
      ]
     },
     "execution_count": 653,
     "metadata": {},
     "output_type": "execute_result"
    }
   ],
   "source": [
    "test"
   ]
  },
  {
   "cell_type": "code",
   "execution_count": 654,
   "metadata": {},
   "outputs": [
    {
     "data": {
      "text/plain": [
       "Qualification            0\n",
       "Experience               0\n",
       "Rating                1090\n",
       "Place                    6\n",
       "Profile                  0\n",
       "Miscellaneous_Info     834\n",
       "dtype: int64"
      ]
     },
     "execution_count": 654,
     "metadata": {},
     "output_type": "execute_result"
    }
   ],
   "source": [
    "test.isnull().sum()"
   ]
  },
  {
   "cell_type": "markdown",
   "metadata": {},
   "source": [
    "Null values present, lets treat it."
   ]
  },
  {
   "cell_type": "code",
   "execution_count": 655,
   "metadata": {},
   "outputs": [],
   "source": [
    "test['Place'].fillna(\"Unknown, Unknown\", inplace = True)"
   ]
  },
  {
   "cell_type": "code",
   "execution_count": 656,
   "metadata": {},
   "outputs": [],
   "source": [
    "test['Rating'].fillna('0%', inplace=True)"
   ]
  },
  {
   "cell_type": "code",
   "execution_count": 657,
   "metadata": {},
   "outputs": [],
   "source": [
    "# extracting feedback\n",
    "\n",
    "test[['e','f']] = test.Miscellaneous_Info.str.split('% ',1, expand=True)"
   ]
  },
  {
   "cell_type": "code",
   "execution_count": 658,
   "metadata": {},
   "outputs": [],
   "source": [
    "test[['Feedback','h']] = test.f.str.split(' F',1, expand=True)"
   ]
  },
  {
   "cell_type": "code",
   "execution_count": 659,
   "metadata": {},
   "outputs": [
    {
     "data": {
      "text/plain": [
       "array([nan, '4', None, '6', '203', '28', '9', '3', '10', '7', '91', '173',\n",
       "       '178', '1', '31', '29', '13', '112', '19', '59', '34', '111',\n",
       "       '158', '2', '11', '280', '41', '18', '87', '25', '5', '17', '53',\n",
       "       '8', '50', '170', '32', '143', '60', '14', '21', '62', '12', '16',\n",
       "       '23', '293', '97', '76', '77', '188', '71', '20', '591', '42',\n",
       "       '130', '260', '190', '95', '103', '98', '138', '30', '26', '24',\n",
       "       '79', '38', '45', '61', '44', '83', '43', '360', '33', '113',\n",
       "       '154', '72', '264', '201', '37', '68', '156', '75', '221', '67',\n",
       "       '127', '69', '22', '110', '330', '185', '251', '35', '159', '1987',\n",
       "       '115', '15', '230', '55', 'Angamaly, Ernakulam ?150', '125', '119',\n",
       "       '207', '70', '89', '435', '39', '104', '164', '106', '136', '140',\n",
       "       '73', '165', '149', '40', '100', '51', '128', '172', '57', '94',\n",
       "       '340', '145', '390', '80', '200', '174', '144', '296', '52', '102',\n",
       "       '88', '36', '105', '401', '356', '497', '64', '78', '240'],\n",
       "      dtype=object)"
      ]
     },
     "execution_count": 659,
     "metadata": {},
     "output_type": "execute_result"
    }
   ],
   "source": [
    "test['Feedback'].unique()"
   ]
  },
  {
   "cell_type": "code",
   "execution_count": 660,
   "metadata": {},
   "outputs": [],
   "source": [
    "test['Feedback']= test['Feedback'].replace(\"Angamaly, Ernakulam ?150\", 0)"
   ]
  },
  {
   "cell_type": "code",
   "execution_count": 661,
   "metadata": {},
   "outputs": [],
   "source": [
    "# dropping unwanted column\n",
    "\n",
    "test.drop(['Miscellaneous_Info','e','f','h'], axis=1, inplace= True)"
   ]
  },
  {
   "cell_type": "code",
   "execution_count": 662,
   "metadata": {},
   "outputs": [],
   "source": [
    "test['Feedback'].fillna(0, inplace=True)"
   ]
  },
  {
   "cell_type": "code",
   "execution_count": 663,
   "metadata": {},
   "outputs": [
    {
     "data": {
      "text/html": [
       "<div>\n",
       "<style scoped>\n",
       "    .dataframe tbody tr th:only-of-type {\n",
       "        vertical-align: middle;\n",
       "    }\n",
       "\n",
       "    .dataframe tbody tr th {\n",
       "        vertical-align: top;\n",
       "    }\n",
       "\n",
       "    .dataframe thead th {\n",
       "        text-align: right;\n",
       "    }\n",
       "</style>\n",
       "<table border=\"1\" class=\"dataframe\">\n",
       "  <thead>\n",
       "    <tr style=\"text-align: right;\">\n",
       "      <th></th>\n",
       "      <th>Qualification</th>\n",
       "      <th>Experience</th>\n",
       "      <th>Rating</th>\n",
       "      <th>Place</th>\n",
       "      <th>Profile</th>\n",
       "      <th>Feedback</th>\n",
       "    </tr>\n",
       "  </thead>\n",
       "  <tbody>\n",
       "    <tr>\n",
       "      <th>0</th>\n",
       "      <td>MBBS</td>\n",
       "      <td>35 years experience</td>\n",
       "      <td>0%</td>\n",
       "      <td>Ghatkopar East, Mumbai</td>\n",
       "      <td>General Medicine</td>\n",
       "      <td>0</td>\n",
       "    </tr>\n",
       "    <tr>\n",
       "      <th>1</th>\n",
       "      <td>MBBS, Diploma in Otorhinolaryngology (DLO)</td>\n",
       "      <td>31 years experience</td>\n",
       "      <td>0%</td>\n",
       "      <td>West Marredpally, Hyderabad</td>\n",
       "      <td>ENT Specialist</td>\n",
       "      <td>0</td>\n",
       "    </tr>\n",
       "    <tr>\n",
       "      <th>2</th>\n",
       "      <td>MBBS, DDVL</td>\n",
       "      <td>40 years experience</td>\n",
       "      <td>70%</td>\n",
       "      <td>KK Nagar, Chennai</td>\n",
       "      <td>Dermatologists</td>\n",
       "      <td>4</td>\n",
       "    </tr>\n",
       "    <tr>\n",
       "      <th>3</th>\n",
       "      <td>BAMS</td>\n",
       "      <td>0 years experience</td>\n",
       "      <td>0%</td>\n",
       "      <td>New Ashok Nagar, Delhi</td>\n",
       "      <td>Ayurveda</td>\n",
       "      <td>0</td>\n",
       "    </tr>\n",
       "    <tr>\n",
       "      <th>4</th>\n",
       "      <td>BDS, MDS - Conservative Dentistry &amp; Endodontics</td>\n",
       "      <td>16 years experience</td>\n",
       "      <td>100%</td>\n",
       "      <td>Kanakpura Road, Bangalore</td>\n",
       "      <td>Dentist</td>\n",
       "      <td>0</td>\n",
       "    </tr>\n",
       "    <tr>\n",
       "      <th>...</th>\n",
       "      <td>...</td>\n",
       "      <td>...</td>\n",
       "      <td>...</td>\n",
       "      <td>...</td>\n",
       "      <td>...</td>\n",
       "      <td>...</td>\n",
       "    </tr>\n",
       "    <tr>\n",
       "      <th>1982</th>\n",
       "      <td>BAMS, Doctor of Medicine</td>\n",
       "      <td>10 years experience</td>\n",
       "      <td>0%</td>\n",
       "      <td>Basavanagudi, Bangalore</td>\n",
       "      <td>Ayurveda</td>\n",
       "      <td>0</td>\n",
       "    </tr>\n",
       "    <tr>\n",
       "      <th>1983</th>\n",
       "      <td>MD - Dermatology , Venereology &amp; Leprosy, MBBS</td>\n",
       "      <td>4 years experience</td>\n",
       "      <td>0%</td>\n",
       "      <td>Choolai, Chennai</td>\n",
       "      <td>Dermatologists</td>\n",
       "      <td>0</td>\n",
       "    </tr>\n",
       "    <tr>\n",
       "      <th>1984</th>\n",
       "      <td>MBBS, MD / MS - Obstetrics &amp; Gynaecology</td>\n",
       "      <td>9 years experience</td>\n",
       "      <td>0%</td>\n",
       "      <td>Porur, Chennai</td>\n",
       "      <td>General Medicine</td>\n",
       "      <td>0</td>\n",
       "    </tr>\n",
       "    <tr>\n",
       "      <th>1985</th>\n",
       "      <td>BDS</td>\n",
       "      <td>12 years experience</td>\n",
       "      <td>98%</td>\n",
       "      <td>Arekere, Bangalore</td>\n",
       "      <td>Dentist</td>\n",
       "      <td>0</td>\n",
       "    </tr>\n",
       "    <tr>\n",
       "      <th>1986</th>\n",
       "      <td>MBBS, MD - Dermatology , Venereology &amp; Leprosy</td>\n",
       "      <td>8 years experience</td>\n",
       "      <td>0%</td>\n",
       "      <td>Pallikaranai, Chennai</td>\n",
       "      <td>Dermatologists</td>\n",
       "      <td>0</td>\n",
       "    </tr>\n",
       "  </tbody>\n",
       "</table>\n",
       "<p>1987 rows × 6 columns</p>\n",
       "</div>"
      ],
      "text/plain": [
       "                                        Qualification           Experience  \\\n",
       "0                                                MBBS  35 years experience   \n",
       "1          MBBS, Diploma in Otorhinolaryngology (DLO)  31 years experience   \n",
       "2                                          MBBS, DDVL  40 years experience   \n",
       "3                                                BAMS   0 years experience   \n",
       "4     BDS, MDS - Conservative Dentistry & Endodontics  16 years experience   \n",
       "...                                               ...                  ...   \n",
       "1982                         BAMS, Doctor of Medicine  10 years experience   \n",
       "1983   MD - Dermatology , Venereology & Leprosy, MBBS   4 years experience   \n",
       "1984         MBBS, MD / MS - Obstetrics & Gynaecology   9 years experience   \n",
       "1985                                              BDS  12 years experience   \n",
       "1986   MBBS, MD - Dermatology , Venereology & Leprosy   8 years experience   \n",
       "\n",
       "     Rating                        Place           Profile Feedback  \n",
       "0        0%       Ghatkopar East, Mumbai  General Medicine        0  \n",
       "1        0%  West Marredpally, Hyderabad    ENT Specialist        0  \n",
       "2       70%            KK Nagar, Chennai    Dermatologists        4  \n",
       "3        0%       New Ashok Nagar, Delhi          Ayurveda        0  \n",
       "4      100%    Kanakpura Road, Bangalore           Dentist        0  \n",
       "...     ...                          ...               ...      ...  \n",
       "1982     0%      Basavanagudi, Bangalore          Ayurveda        0  \n",
       "1983     0%             Choolai, Chennai    Dermatologists        0  \n",
       "1984     0%               Porur, Chennai  General Medicine        0  \n",
       "1985    98%           Arekere, Bangalore           Dentist        0  \n",
       "1986     0%        Pallikaranai, Chennai    Dermatologists        0  \n",
       "\n",
       "[1987 rows x 6 columns]"
      ]
     },
     "execution_count": 663,
     "metadata": {},
     "output_type": "execute_result"
    }
   ],
   "source": [
    "test"
   ]
  },
  {
   "cell_type": "markdown",
   "metadata": {},
   "source": [
    "#### Qualification column"
   ]
  },
  {
   "cell_type": "code",
   "execution_count": 664,
   "metadata": {},
   "outputs": [],
   "source": [
    "# splitting into less categories.\n",
    "\n",
    "test[['Qualifications','b']] = test.Qualification.str.split('-',1, expand=True)"
   ]
  },
  {
   "cell_type": "code",
   "execution_count": 665,
   "metadata": {},
   "outputs": [],
   "source": [
    "test.drop(['Qualification','b'], axis=1, inplace= True)"
   ]
  },
  {
   "cell_type": "markdown",
   "metadata": {},
   "source": [
    "#### Experience column"
   ]
  },
  {
   "cell_type": "code",
   "execution_count": 666,
   "metadata": {},
   "outputs": [],
   "source": [
    "# converting to integer\n",
    "\n",
    "test[\"Experience\"]= test[\"Experience\"].str.replace(\" years experience\", \"\").astype(int)"
   ]
  },
  {
   "cell_type": "markdown",
   "metadata": {},
   "source": [
    "#### Rating column"
   ]
  },
  {
   "cell_type": "code",
   "execution_count": 667,
   "metadata": {},
   "outputs": [],
   "source": [
    "# converting to integer\n",
    "\n",
    "test[\"Rating\"]= test[\"Rating\"].str.replace(\"%\", \"\").astype(int)"
   ]
  },
  {
   "cell_type": "markdown",
   "metadata": {},
   "source": [
    "#### Place column"
   ]
  },
  {
   "cell_type": "code",
   "execution_count": 668,
   "metadata": {},
   "outputs": [],
   "source": [
    "# extracting location and city from place column.\n",
    "\n",
    "test[['Location','City']] = test.Place.str.split(', ',1, expand=True)"
   ]
  },
  {
   "cell_type": "code",
   "execution_count": 669,
   "metadata": {},
   "outputs": [],
   "source": [
    "# dropping place column after extracting\n",
    "\n",
    "test.drop(['Place'], axis=1, inplace= True)"
   ]
  },
  {
   "cell_type": "code",
   "execution_count": 670,
   "metadata": {},
   "outputs": [
    {
     "data": {
      "text/plain": [
       "Experience        0\n",
       "Rating            0\n",
       "Profile           0\n",
       "Feedback          0\n",
       "Qualifications    0\n",
       "Location          0\n",
       "City              0\n",
       "dtype: int64"
      ]
     },
     "execution_count": 670,
     "metadata": {},
     "output_type": "execute_result"
    }
   ],
   "source": [
    "test.isnull().sum()"
   ]
  },
  {
   "cell_type": "markdown",
   "metadata": {},
   "source": [
    "No null in test data."
   ]
  },
  {
   "cell_type": "code",
   "execution_count": 671,
   "metadata": {},
   "outputs": [
    {
     "data": {
      "text/plain": [
       "Bangalore             420\n",
       "Delhi                 417\n",
       "Mumbai                389\n",
       "Hyderabad             333\n",
       "Chennai               287\n",
       "Coimbatore             70\n",
       "Ernakulam              48\n",
       "Thiruvananthapuram     17\n",
       "Unknown                 6\n",
       "Name: City, dtype: int64"
      ]
     },
     "execution_count": 671,
     "metadata": {},
     "output_type": "execute_result"
    }
   ],
   "source": [
    "test['City'].value_counts()"
   ]
  },
  {
   "cell_type": "markdown",
   "metadata": {},
   "source": [
    "All good"
   ]
  },
  {
   "cell_type": "markdown",
   "metadata": {},
   "source": [
    "#### Feedback column"
   ]
  },
  {
   "cell_type": "code",
   "execution_count": 672,
   "metadata": {},
   "outputs": [],
   "source": [
    "# converting to integer\n",
    "\n",
    "test[\"Feedback\"]= test[\"Feedback\"].astype(str).astype(int)"
   ]
  },
  {
   "cell_type": "code",
   "execution_count": 673,
   "metadata": {},
   "outputs": [
    {
     "data": {
      "text/html": [
       "<div>\n",
       "<style scoped>\n",
       "    .dataframe tbody tr th:only-of-type {\n",
       "        vertical-align: middle;\n",
       "    }\n",
       "\n",
       "    .dataframe tbody tr th {\n",
       "        vertical-align: top;\n",
       "    }\n",
       "\n",
       "    .dataframe thead th {\n",
       "        text-align: right;\n",
       "    }\n",
       "</style>\n",
       "<table border=\"1\" class=\"dataframe\">\n",
       "  <thead>\n",
       "    <tr style=\"text-align: right;\">\n",
       "      <th></th>\n",
       "      <th>Experience</th>\n",
       "      <th>Rating</th>\n",
       "      <th>Profile</th>\n",
       "      <th>Feedback</th>\n",
       "      <th>Qualifications</th>\n",
       "      <th>Location</th>\n",
       "      <th>City</th>\n",
       "    </tr>\n",
       "  </thead>\n",
       "  <tbody>\n",
       "    <tr>\n",
       "      <th>0</th>\n",
       "      <td>35</td>\n",
       "      <td>0</td>\n",
       "      <td>General Medicine</td>\n",
       "      <td>0</td>\n",
       "      <td>MBBS</td>\n",
       "      <td>Ghatkopar East</td>\n",
       "      <td>Mumbai</td>\n",
       "    </tr>\n",
       "    <tr>\n",
       "      <th>1</th>\n",
       "      <td>31</td>\n",
       "      <td>0</td>\n",
       "      <td>ENT Specialist</td>\n",
       "      <td>0</td>\n",
       "      <td>MBBS, Diploma in Otorhinolaryngology (DLO)</td>\n",
       "      <td>West Marredpally</td>\n",
       "      <td>Hyderabad</td>\n",
       "    </tr>\n",
       "    <tr>\n",
       "      <th>2</th>\n",
       "      <td>40</td>\n",
       "      <td>70</td>\n",
       "      <td>Dermatologists</td>\n",
       "      <td>4</td>\n",
       "      <td>MBBS, DDVL</td>\n",
       "      <td>KK Nagar</td>\n",
       "      <td>Chennai</td>\n",
       "    </tr>\n",
       "    <tr>\n",
       "      <th>3</th>\n",
       "      <td>0</td>\n",
       "      <td>0</td>\n",
       "      <td>Ayurveda</td>\n",
       "      <td>0</td>\n",
       "      <td>BAMS</td>\n",
       "      <td>New Ashok Nagar</td>\n",
       "      <td>Delhi</td>\n",
       "    </tr>\n",
       "    <tr>\n",
       "      <th>4</th>\n",
       "      <td>16</td>\n",
       "      <td>100</td>\n",
       "      <td>Dentist</td>\n",
       "      <td>0</td>\n",
       "      <td>BDS, MDS</td>\n",
       "      <td>Kanakpura Road</td>\n",
       "      <td>Bangalore</td>\n",
       "    </tr>\n",
       "    <tr>\n",
       "      <th>...</th>\n",
       "      <td>...</td>\n",
       "      <td>...</td>\n",
       "      <td>...</td>\n",
       "      <td>...</td>\n",
       "      <td>...</td>\n",
       "      <td>...</td>\n",
       "      <td>...</td>\n",
       "    </tr>\n",
       "    <tr>\n",
       "      <th>1982</th>\n",
       "      <td>10</td>\n",
       "      <td>0</td>\n",
       "      <td>Ayurveda</td>\n",
       "      <td>0</td>\n",
       "      <td>BAMS, Doctor of Medicine</td>\n",
       "      <td>Basavanagudi</td>\n",
       "      <td>Bangalore</td>\n",
       "    </tr>\n",
       "    <tr>\n",
       "      <th>1983</th>\n",
       "      <td>4</td>\n",
       "      <td>0</td>\n",
       "      <td>Dermatologists</td>\n",
       "      <td>0</td>\n",
       "      <td>MD</td>\n",
       "      <td>Choolai</td>\n",
       "      <td>Chennai</td>\n",
       "    </tr>\n",
       "    <tr>\n",
       "      <th>1984</th>\n",
       "      <td>9</td>\n",
       "      <td>0</td>\n",
       "      <td>General Medicine</td>\n",
       "      <td>0</td>\n",
       "      <td>MBBS, MD / MS</td>\n",
       "      <td>Porur</td>\n",
       "      <td>Chennai</td>\n",
       "    </tr>\n",
       "    <tr>\n",
       "      <th>1985</th>\n",
       "      <td>12</td>\n",
       "      <td>98</td>\n",
       "      <td>Dentist</td>\n",
       "      <td>0</td>\n",
       "      <td>BDS</td>\n",
       "      <td>Arekere</td>\n",
       "      <td>Bangalore</td>\n",
       "    </tr>\n",
       "    <tr>\n",
       "      <th>1986</th>\n",
       "      <td>8</td>\n",
       "      <td>0</td>\n",
       "      <td>Dermatologists</td>\n",
       "      <td>0</td>\n",
       "      <td>MBBS, MD</td>\n",
       "      <td>Pallikaranai</td>\n",
       "      <td>Chennai</td>\n",
       "    </tr>\n",
       "  </tbody>\n",
       "</table>\n",
       "<p>1987 rows × 7 columns</p>\n",
       "</div>"
      ],
      "text/plain": [
       "      Experience  Rating           Profile  Feedback  \\\n",
       "0             35       0  General Medicine         0   \n",
       "1             31       0    ENT Specialist         0   \n",
       "2             40      70    Dermatologists         4   \n",
       "3              0       0          Ayurveda         0   \n",
       "4             16     100           Dentist         0   \n",
       "...          ...     ...               ...       ...   \n",
       "1982          10       0          Ayurveda         0   \n",
       "1983           4       0    Dermatologists         0   \n",
       "1984           9       0  General Medicine         0   \n",
       "1985          12      98           Dentist         0   \n",
       "1986           8       0    Dermatologists         0   \n",
       "\n",
       "                                  Qualifications          Location       City  \n",
       "0                                           MBBS    Ghatkopar East     Mumbai  \n",
       "1     MBBS, Diploma in Otorhinolaryngology (DLO)  West Marredpally  Hyderabad  \n",
       "2                                     MBBS, DDVL          KK Nagar    Chennai  \n",
       "3                                           BAMS   New Ashok Nagar      Delhi  \n",
       "4                                      BDS, MDS     Kanakpura Road  Bangalore  \n",
       "...                                          ...               ...        ...  \n",
       "1982                    BAMS, Doctor of Medicine      Basavanagudi  Bangalore  \n",
       "1983                                         MD            Choolai    Chennai  \n",
       "1984                              MBBS, MD / MS              Porur    Chennai  \n",
       "1985                                         BDS           Arekere  Bangalore  \n",
       "1986                                   MBBS, MD       Pallikaranai    Chennai  \n",
       "\n",
       "[1987 rows x 7 columns]"
      ]
     },
     "execution_count": 673,
     "metadata": {},
     "output_type": "execute_result"
    }
   ],
   "source": [
    "test"
   ]
  },
  {
   "cell_type": "markdown",
   "metadata": {},
   "source": [
    "### Encoding"
   ]
  },
  {
   "cell_type": "code",
   "execution_count": 674,
   "metadata": {},
   "outputs": [],
   "source": [
    "# encoding city and profile first using get dummies.\n",
    "\n",
    "test= pd.get_dummies(test, columns= ['City','Profile'], prefix=['City','Profile'])"
   ]
  },
  {
   "cell_type": "code",
   "execution_count": 675,
   "metadata": {},
   "outputs": [],
   "source": [
    "enc= OrdinalEncoder()\n",
    "\n",
    "for i in test.columns:\n",
    "    if test[i].dtypes == 'object':\n",
    "        test[i]= enc.fit_transform(test[i].values.reshape(-1,1))\n"
   ]
  },
  {
   "cell_type": "code",
   "execution_count": 676,
   "metadata": {},
   "outputs": [],
   "source": [
    "test['Experience']= enc.fit_transform(test['Experience'].values.reshape(-1,1))\n",
    "test['Rating']= enc.fit_transform(test['Rating'].values.reshape(-1,1))\n",
    "test['Feedback']= enc.fit_transform(test['Feedback'].values.reshape(-1,1))"
   ]
  },
  {
   "cell_type": "markdown",
   "metadata": {},
   "source": [
    "### Checking skewness."
   ]
  },
  {
   "cell_type": "code",
   "execution_count": 677,
   "metadata": {},
   "outputs": [
    {
     "data": {
      "text/plain": [
       "Experience                   0.951028\n",
       "Rating                       0.360921\n",
       "Feedback                     3.606143\n",
       "Qualifications              -0.070821\n",
       "Location                     0.036802\n",
       "City_Bangalore               1.414921\n",
       "City_Chennai                 2.024439\n",
       "City_Coimbatore              5.045856\n",
       "City_Delhi                   1.426066\n",
       "City_Ernakulam               6.203118\n",
       "City_Hyderabad               1.781316\n",
       "City_Mumbai                  1.534586\n",
       "City_Thiruvananthapuram     10.680036\n",
       "City_Unknown                18.129143\n",
       "Profile_Ayurveda             2.251349\n",
       "Profile_Dentist              1.339264\n",
       "Profile_Dermatologists       1.752626\n",
       "Profile_ENT Specialist       2.365989\n",
       "Profile_General Medicine     1.328775\n",
       "Profile_Homeopath            2.083705\n",
       "dtype: float64"
      ]
     },
     "execution_count": 677,
     "metadata": {},
     "output_type": "execute_result"
    }
   ],
   "source": [
    "test.skew()"
   ]
  },
  {
   "cell_type": "code",
   "execution_count": 678,
   "metadata": {},
   "outputs": [],
   "source": [
    "# removing skewness from non-caterogical data.\n",
    "\n",
    "colms=['Experience','Feedback']\n",
    "from sklearn.preprocessing import power_transform\n",
    "\n",
    "for i in test[colms]:\n",
    "    test[i]= power_transform(test[i].values.reshape(-1,1))\n",
    "    "
   ]
  },
  {
   "cell_type": "markdown",
   "metadata": {},
   "source": [
    "### Scaling"
   ]
  },
  {
   "cell_type": "code",
   "execution_count": 679,
   "metadata": {},
   "outputs": [
    {
     "data": {
      "text/html": [
       "<div>\n",
       "<style scoped>\n",
       "    .dataframe tbody tr th:only-of-type {\n",
       "        vertical-align: middle;\n",
       "    }\n",
       "\n",
       "    .dataframe tbody tr th {\n",
       "        vertical-align: top;\n",
       "    }\n",
       "\n",
       "    .dataframe thead th {\n",
       "        text-align: right;\n",
       "    }\n",
       "</style>\n",
       "<table border=\"1\" class=\"dataframe\">\n",
       "  <thead>\n",
       "    <tr style=\"text-align: right;\">\n",
       "      <th></th>\n",
       "      <th>Experience</th>\n",
       "      <th>Rating</th>\n",
       "      <th>Feedback</th>\n",
       "      <th>Qualifications</th>\n",
       "      <th>Location</th>\n",
       "      <th>City_Bangalore</th>\n",
       "      <th>City_Chennai</th>\n",
       "      <th>City_Coimbatore</th>\n",
       "      <th>City_Delhi</th>\n",
       "      <th>City_Ernakulam</th>\n",
       "      <th>City_Hyderabad</th>\n",
       "      <th>City_Mumbai</th>\n",
       "      <th>City_Thiruvananthapuram</th>\n",
       "      <th>City_Unknown</th>\n",
       "      <th>Profile_Ayurveda</th>\n",
       "      <th>Profile_Dentist</th>\n",
       "      <th>Profile_Dermatologists</th>\n",
       "      <th>Profile_ENT Specialist</th>\n",
       "      <th>Profile_General Medicine</th>\n",
       "      <th>Profile_Homeopath</th>\n",
       "    </tr>\n",
       "  </thead>\n",
       "  <tbody>\n",
       "    <tr>\n",
       "      <th>0</th>\n",
       "      <td>1.385839</td>\n",
       "      <td>-0.869225</td>\n",
       "      <td>-0.613020</td>\n",
       "      <td>0.055412</td>\n",
       "      <td>-0.852573</td>\n",
       "      <td>-0.517714</td>\n",
       "      <td>-0.410881</td>\n",
       "      <td>-0.19109</td>\n",
       "      <td>-0.515369</td>\n",
       "      <td>-0.157337</td>\n",
       "      <td>-0.448698</td>\n",
       "      <td>2.026813</td>\n",
       "      <td>-0.092895</td>\n",
       "      <td>-0.055034</td>\n",
       "      <td>-0.380244</td>\n",
       "      <td>-0.534090</td>\n",
       "      <td>-0.453546</td>\n",
       "      <td>-0.366241</td>\n",
       "      <td>1.864196</td>\n",
       "      <td>-0.402478</td>\n",
       "    </tr>\n",
       "    <tr>\n",
       "      <th>1</th>\n",
       "      <td>1.152455</td>\n",
       "      <td>-0.869225</td>\n",
       "      <td>-0.613020</td>\n",
       "      <td>0.717372</td>\n",
       "      <td>1.661172</td>\n",
       "      <td>-0.517714</td>\n",
       "      <td>-0.410881</td>\n",
       "      <td>-0.19109</td>\n",
       "      <td>-0.515369</td>\n",
       "      <td>-0.157337</td>\n",
       "      <td>2.228669</td>\n",
       "      <td>-0.493386</td>\n",
       "      <td>-0.092895</td>\n",
       "      <td>-0.055034</td>\n",
       "      <td>-0.380244</td>\n",
       "      <td>-0.534090</td>\n",
       "      <td>-0.453546</td>\n",
       "      <td>2.730443</td>\n",
       "      <td>-0.536424</td>\n",
       "      <td>-0.402478</td>\n",
       "    </tr>\n",
       "    <tr>\n",
       "      <th>2</th>\n",
       "      <td>1.654286</td>\n",
       "      <td>-0.303647</td>\n",
       "      <td>1.384934</td>\n",
       "      <td>0.203612</td>\n",
       "      <td>-0.448990</td>\n",
       "      <td>-0.517714</td>\n",
       "      <td>2.433792</td>\n",
       "      <td>-0.19109</td>\n",
       "      <td>-0.515369</td>\n",
       "      <td>-0.157337</td>\n",
       "      <td>-0.448698</td>\n",
       "      <td>-0.493386</td>\n",
       "      <td>-0.092895</td>\n",
       "      <td>-0.055034</td>\n",
       "      <td>-0.380244</td>\n",
       "      <td>-0.534090</td>\n",
       "      <td>2.204849</td>\n",
       "      <td>-0.366241</td>\n",
       "      <td>-0.536424</td>\n",
       "      <td>-0.402478</td>\n",
       "    </tr>\n",
       "    <tr>\n",
       "      <th>3</th>\n",
       "      <td>-2.618656</td>\n",
       "      <td>-0.869225</td>\n",
       "      <td>-0.613020</td>\n",
       "      <td>-1.505628</td>\n",
       "      <td>0.479251</td>\n",
       "      <td>-0.517714</td>\n",
       "      <td>-0.410881</td>\n",
       "      <td>-0.19109</td>\n",
       "      <td>1.940358</td>\n",
       "      <td>-0.157337</td>\n",
       "      <td>-0.448698</td>\n",
       "      <td>-0.493386</td>\n",
       "      <td>-0.092895</td>\n",
       "      <td>-0.055034</td>\n",
       "      <td>2.629893</td>\n",
       "      <td>-0.534090</td>\n",
       "      <td>-0.453546</td>\n",
       "      <td>-0.366241</td>\n",
       "      <td>-0.536424</td>\n",
       "      <td>-0.402478</td>\n",
       "    </tr>\n",
       "    <tr>\n",
       "      <th>4</th>\n",
       "      <td>0.040243</td>\n",
       "      <td>1.393088</td>\n",
       "      <td>-0.613020</td>\n",
       "      <td>-0.902948</td>\n",
       "      <td>-0.339446</td>\n",
       "      <td>1.931567</td>\n",
       "      <td>-0.410881</td>\n",
       "      <td>-0.19109</td>\n",
       "      <td>-0.515369</td>\n",
       "      <td>-0.157337</td>\n",
       "      <td>-0.448698</td>\n",
       "      <td>-0.493386</td>\n",
       "      <td>-0.092895</td>\n",
       "      <td>-0.055034</td>\n",
       "      <td>-0.380244</td>\n",
       "      <td>1.872343</td>\n",
       "      <td>-0.453546</td>\n",
       "      <td>-0.366241</td>\n",
       "      <td>-0.536424</td>\n",
       "      <td>-0.402478</td>\n",
       "    </tr>\n",
       "    <tr>\n",
       "      <th>...</th>\n",
       "      <td>...</td>\n",
       "      <td>...</td>\n",
       "      <td>...</td>\n",
       "      <td>...</td>\n",
       "      <td>...</td>\n",
       "      <td>...</td>\n",
       "      <td>...</td>\n",
       "      <td>...</td>\n",
       "      <td>...</td>\n",
       "      <td>...</td>\n",
       "      <td>...</td>\n",
       "      <td>...</td>\n",
       "      <td>...</td>\n",
       "      <td>...</td>\n",
       "      <td>...</td>\n",
       "      <td>...</td>\n",
       "      <td>...</td>\n",
       "      <td>...</td>\n",
       "      <td>...</td>\n",
       "      <td>...</td>\n",
       "    </tr>\n",
       "    <tr>\n",
       "      <th>1982</th>\n",
       "      <td>-0.608078</td>\n",
       "      <td>-0.869225</td>\n",
       "      <td>-0.613020</td>\n",
       "      <td>-1.396948</td>\n",
       "      <td>-1.336873</td>\n",
       "      <td>1.931567</td>\n",
       "      <td>-0.410881</td>\n",
       "      <td>-0.19109</td>\n",
       "      <td>-0.515369</td>\n",
       "      <td>-0.157337</td>\n",
       "      <td>-0.448698</td>\n",
       "      <td>-0.493386</td>\n",
       "      <td>-0.092895</td>\n",
       "      <td>-0.055034</td>\n",
       "      <td>2.629893</td>\n",
       "      <td>-0.534090</td>\n",
       "      <td>-0.453546</td>\n",
       "      <td>-0.366241</td>\n",
       "      <td>-0.536424</td>\n",
       "      <td>-0.402478</td>\n",
       "    </tr>\n",
       "    <tr>\n",
       "      <th>1983</th>\n",
       "      <td>-1.604038</td>\n",
       "      <td>-0.869225</td>\n",
       "      <td>-0.613020</td>\n",
       "      <td>1.320052</td>\n",
       "      <td>-1.117785</td>\n",
       "      <td>-0.517714</td>\n",
       "      <td>2.433792</td>\n",
       "      <td>-0.19109</td>\n",
       "      <td>-0.515369</td>\n",
       "      <td>-0.157337</td>\n",
       "      <td>-0.448698</td>\n",
       "      <td>-0.493386</td>\n",
       "      <td>-0.092895</td>\n",
       "      <td>-0.055034</td>\n",
       "      <td>-0.380244</td>\n",
       "      <td>-0.534090</td>\n",
       "      <td>2.204849</td>\n",
       "      <td>-0.366241</td>\n",
       "      <td>-0.536424</td>\n",
       "      <td>-0.402478</td>\n",
       "    </tr>\n",
       "    <tr>\n",
       "      <th>1984</th>\n",
       "      <td>-0.739418</td>\n",
       "      <td>-0.869225</td>\n",
       "      <td>-0.613020</td>\n",
       "      <td>1.033532</td>\n",
       "      <td>0.767524</td>\n",
       "      <td>-0.517714</td>\n",
       "      <td>2.433792</td>\n",
       "      <td>-0.19109</td>\n",
       "      <td>-0.515369</td>\n",
       "      <td>-0.157337</td>\n",
       "      <td>-0.448698</td>\n",
       "      <td>-0.493386</td>\n",
       "      <td>-0.092895</td>\n",
       "      <td>-0.055034</td>\n",
       "      <td>-0.380244</td>\n",
       "      <td>-0.534090</td>\n",
       "      <td>-0.453546</td>\n",
       "      <td>-0.366241</td>\n",
       "      <td>1.864196</td>\n",
       "      <td>-0.402478</td>\n",
       "    </tr>\n",
       "    <tr>\n",
       "      <th>1985</th>\n",
       "      <td>-0.369099</td>\n",
       "      <td>1.267404</td>\n",
       "      <td>-0.613020</td>\n",
       "      <td>-1.179588</td>\n",
       "      <td>-1.521368</td>\n",
       "      <td>1.931567</td>\n",
       "      <td>-0.410881</td>\n",
       "      <td>-0.19109</td>\n",
       "      <td>-0.515369</td>\n",
       "      <td>-0.157337</td>\n",
       "      <td>-0.448698</td>\n",
       "      <td>-0.493386</td>\n",
       "      <td>-0.092895</td>\n",
       "      <td>-0.055034</td>\n",
       "      <td>-0.380244</td>\n",
       "      <td>1.872343</td>\n",
       "      <td>-0.453546</td>\n",
       "      <td>-0.366241</td>\n",
       "      <td>-0.536424</td>\n",
       "      <td>-0.402478</td>\n",
       "    </tr>\n",
       "    <tr>\n",
       "      <th>1986</th>\n",
       "      <td>-0.880649</td>\n",
       "      <td>-0.869225</td>\n",
       "      <td>-0.613020</td>\n",
       "      <td>1.023652</td>\n",
       "      <td>0.594560</td>\n",
       "      <td>-0.517714</td>\n",
       "      <td>2.433792</td>\n",
       "      <td>-0.19109</td>\n",
       "      <td>-0.515369</td>\n",
       "      <td>-0.157337</td>\n",
       "      <td>-0.448698</td>\n",
       "      <td>-0.493386</td>\n",
       "      <td>-0.092895</td>\n",
       "      <td>-0.055034</td>\n",
       "      <td>-0.380244</td>\n",
       "      <td>-0.534090</td>\n",
       "      <td>2.204849</td>\n",
       "      <td>-0.366241</td>\n",
       "      <td>-0.536424</td>\n",
       "      <td>-0.402478</td>\n",
       "    </tr>\n",
       "  </tbody>\n",
       "</table>\n",
       "<p>1987 rows × 20 columns</p>\n",
       "</div>"
      ],
      "text/plain": [
       "      Experience    Rating  Feedback  Qualifications  Location  \\\n",
       "0       1.385839 -0.869225 -0.613020        0.055412 -0.852573   \n",
       "1       1.152455 -0.869225 -0.613020        0.717372  1.661172   \n",
       "2       1.654286 -0.303647  1.384934        0.203612 -0.448990   \n",
       "3      -2.618656 -0.869225 -0.613020       -1.505628  0.479251   \n",
       "4       0.040243  1.393088 -0.613020       -0.902948 -0.339446   \n",
       "...          ...       ...       ...             ...       ...   \n",
       "1982   -0.608078 -0.869225 -0.613020       -1.396948 -1.336873   \n",
       "1983   -1.604038 -0.869225 -0.613020        1.320052 -1.117785   \n",
       "1984   -0.739418 -0.869225 -0.613020        1.033532  0.767524   \n",
       "1985   -0.369099  1.267404 -0.613020       -1.179588 -1.521368   \n",
       "1986   -0.880649 -0.869225 -0.613020        1.023652  0.594560   \n",
       "\n",
       "      City_Bangalore  City_Chennai  City_Coimbatore  City_Delhi  \\\n",
       "0          -0.517714     -0.410881         -0.19109   -0.515369   \n",
       "1          -0.517714     -0.410881         -0.19109   -0.515369   \n",
       "2          -0.517714      2.433792         -0.19109   -0.515369   \n",
       "3          -0.517714     -0.410881         -0.19109    1.940358   \n",
       "4           1.931567     -0.410881         -0.19109   -0.515369   \n",
       "...              ...           ...              ...         ...   \n",
       "1982        1.931567     -0.410881         -0.19109   -0.515369   \n",
       "1983       -0.517714      2.433792         -0.19109   -0.515369   \n",
       "1984       -0.517714      2.433792         -0.19109   -0.515369   \n",
       "1985        1.931567     -0.410881         -0.19109   -0.515369   \n",
       "1986       -0.517714      2.433792         -0.19109   -0.515369   \n",
       "\n",
       "      City_Ernakulam  City_Hyderabad  City_Mumbai  City_Thiruvananthapuram  \\\n",
       "0          -0.157337       -0.448698     2.026813                -0.092895   \n",
       "1          -0.157337        2.228669    -0.493386                -0.092895   \n",
       "2          -0.157337       -0.448698    -0.493386                -0.092895   \n",
       "3          -0.157337       -0.448698    -0.493386                -0.092895   \n",
       "4          -0.157337       -0.448698    -0.493386                -0.092895   \n",
       "...              ...             ...          ...                      ...   \n",
       "1982       -0.157337       -0.448698    -0.493386                -0.092895   \n",
       "1983       -0.157337       -0.448698    -0.493386                -0.092895   \n",
       "1984       -0.157337       -0.448698    -0.493386                -0.092895   \n",
       "1985       -0.157337       -0.448698    -0.493386                -0.092895   \n",
       "1986       -0.157337       -0.448698    -0.493386                -0.092895   \n",
       "\n",
       "      City_Unknown  Profile_Ayurveda  Profile_Dentist  Profile_Dermatologists  \\\n",
       "0        -0.055034         -0.380244        -0.534090               -0.453546   \n",
       "1        -0.055034         -0.380244        -0.534090               -0.453546   \n",
       "2        -0.055034         -0.380244        -0.534090                2.204849   \n",
       "3        -0.055034          2.629893        -0.534090               -0.453546   \n",
       "4        -0.055034         -0.380244         1.872343               -0.453546   \n",
       "...            ...               ...              ...                     ...   \n",
       "1982     -0.055034          2.629893        -0.534090               -0.453546   \n",
       "1983     -0.055034         -0.380244        -0.534090                2.204849   \n",
       "1984     -0.055034         -0.380244        -0.534090               -0.453546   \n",
       "1985     -0.055034         -0.380244         1.872343               -0.453546   \n",
       "1986     -0.055034         -0.380244        -0.534090                2.204849   \n",
       "\n",
       "      Profile_ENT Specialist  Profile_General Medicine  Profile_Homeopath  \n",
       "0                  -0.366241                  1.864196          -0.402478  \n",
       "1                   2.730443                 -0.536424          -0.402478  \n",
       "2                  -0.366241                 -0.536424          -0.402478  \n",
       "3                  -0.366241                 -0.536424          -0.402478  \n",
       "4                  -0.366241                 -0.536424          -0.402478  \n",
       "...                      ...                       ...                ...  \n",
       "1982               -0.366241                 -0.536424          -0.402478  \n",
       "1983               -0.366241                 -0.536424          -0.402478  \n",
       "1984               -0.366241                  1.864196          -0.402478  \n",
       "1985               -0.366241                 -0.536424          -0.402478  \n",
       "1986               -0.366241                 -0.536424          -0.402478  \n",
       "\n",
       "[1987 rows x 20 columns]"
      ]
     },
     "execution_count": 679,
     "metadata": {},
     "output_type": "execute_result"
    }
   ],
   "source": [
    "scaler= StandardScaler()\n",
    "\n",
    "test= pd.DataFrame(scaler.fit_transform(test), columns=test.columns)\n",
    "test"
   ]
  },
  {
   "cell_type": "markdown",
   "metadata": {},
   "source": [
    "### Loading the model for prediction."
   ]
  },
  {
   "cell_type": "code",
   "execution_count": 650,
   "metadata": {},
   "outputs": [],
   "source": [
    "model= joblib.load('doc_consultation.pkl')"
   ]
  },
  {
   "cell_type": "code",
   "execution_count": 680,
   "metadata": {},
   "outputs": [
    {
     "data": {
      "text/plain": [
       "array([253.5, 333.5, 350. , ..., 317. , 208. , 284. ])"
      ]
     },
     "execution_count": 680,
     "metadata": {},
     "output_type": "execute_result"
    }
   ],
   "source": [
    "model.predict(test)"
   ]
  },
  {
   "cell_type": "code",
   "execution_count": 689,
   "metadata": {},
   "outputs": [],
   "source": [
    "submission = pd.DataFrame()"
   ]
  },
  {
   "cell_type": "code",
   "execution_count": 690,
   "metadata": {},
   "outputs": [],
   "source": [
    "submission['Fees']=model.predict(test)"
   ]
  },
  {
   "cell_type": "code",
   "execution_count": 691,
   "metadata": {},
   "outputs": [
    {
     "data": {
      "text/html": [
       "<div>\n",
       "<style scoped>\n",
       "    .dataframe tbody tr th:only-of-type {\n",
       "        vertical-align: middle;\n",
       "    }\n",
       "\n",
       "    .dataframe tbody tr th {\n",
       "        vertical-align: top;\n",
       "    }\n",
       "\n",
       "    .dataframe thead th {\n",
       "        text-align: right;\n",
       "    }\n",
       "</style>\n",
       "<table border=\"1\" class=\"dataframe\">\n",
       "  <thead>\n",
       "    <tr style=\"text-align: right;\">\n",
       "      <th></th>\n",
       "      <th>Fees</th>\n",
       "    </tr>\n",
       "  </thead>\n",
       "  <tbody>\n",
       "    <tr>\n",
       "      <th>0</th>\n",
       "      <td>253.5</td>\n",
       "    </tr>\n",
       "    <tr>\n",
       "      <th>1</th>\n",
       "      <td>333.5</td>\n",
       "    </tr>\n",
       "    <tr>\n",
       "      <th>2</th>\n",
       "      <td>350.0</td>\n",
       "    </tr>\n",
       "    <tr>\n",
       "      <th>3</th>\n",
       "      <td>190.0</td>\n",
       "    </tr>\n",
       "    <tr>\n",
       "      <th>4</th>\n",
       "      <td>199.0</td>\n",
       "    </tr>\n",
       "    <tr>\n",
       "      <th>...</th>\n",
       "      <td>...</td>\n",
       "    </tr>\n",
       "    <tr>\n",
       "      <th>1982</th>\n",
       "      <td>231.5</td>\n",
       "    </tr>\n",
       "    <tr>\n",
       "      <th>1983</th>\n",
       "      <td>380.0</td>\n",
       "    </tr>\n",
       "    <tr>\n",
       "      <th>1984</th>\n",
       "      <td>317.0</td>\n",
       "    </tr>\n",
       "    <tr>\n",
       "      <th>1985</th>\n",
       "      <td>208.0</td>\n",
       "    </tr>\n",
       "    <tr>\n",
       "      <th>1986</th>\n",
       "      <td>284.0</td>\n",
       "    </tr>\n",
       "  </tbody>\n",
       "</table>\n",
       "<p>1987 rows × 1 columns</p>\n",
       "</div>"
      ],
      "text/plain": [
       "       Fees\n",
       "0     253.5\n",
       "1     333.5\n",
       "2     350.0\n",
       "3     190.0\n",
       "4     199.0\n",
       "...     ...\n",
       "1982  231.5\n",
       "1983  380.0\n",
       "1984  317.0\n",
       "1985  208.0\n",
       "1986  284.0\n",
       "\n",
       "[1987 rows x 1 columns]"
      ]
     },
     "execution_count": 691,
     "metadata": {},
     "output_type": "execute_result"
    }
   ],
   "source": [
    "# submission data\n",
    "\n",
    "submission"
   ]
  },
  {
   "cell_type": "code",
   "execution_count": null,
   "metadata": {},
   "outputs": [],
   "source": []
  }
 ],
 "metadata": {
  "kernelspec": {
   "display_name": "Python 3",
   "language": "python",
   "name": "python3"
  },
  "language_info": {
   "codemirror_mode": {
    "name": "ipython",
    "version": 3
   },
   "file_extension": ".py",
   "mimetype": "text/x-python",
   "name": "python",
   "nbconvert_exporter": "python",
   "pygments_lexer": "ipython3",
   "version": "3.8.3"
  }
 },
 "nbformat": 4,
 "nbformat_minor": 4
}
